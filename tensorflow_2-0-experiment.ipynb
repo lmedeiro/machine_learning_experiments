{
 "cells": [
  {
   "cell_type": "code",
   "execution_count": 1,
   "metadata": {},
   "outputs": [
    {
     "name": "stdout",
     "output_type": "stream",
     "text": [
      "2.0.0-rc1\n"
     ]
    }
   ],
   "source": [
    "try:\n",
    "  # %tensorflow_version only exists in Colab.\n",
    "  %tensorflow_version 2.x\n",
    "except Exception:\n",
    "  pass\n",
    "\n",
    "import logging\n",
    "logging.getLogger(\"tensorflow\").setLevel(logging.ERROR)\n",
    "\n",
    "import tensorflow as tf\n",
    "print(tf.__version__)  # Ensure that we're using \"2.0.0-rc1\""
   ]
  },
  {
   "cell_type": "code",
   "execution_count": 2,
   "metadata": {},
   "outputs": [],
   "source": [
    "from __future__ import absolute_import, division, print_function, unicode_literals\n",
    "\n",
    "import tensorflow as tf\n",
    "\n",
    "from tensorflow.keras.layers import Dense, Flatten, Conv2D, MaxPool2D, Dropout\n",
    "from tensorflow.keras import Model\n"
   ]
  },
  {
   "cell_type": "code",
   "execution_count": 33,
   "metadata": {},
   "outputs": [],
   "source": [
    "import numpy as np\n",
    "import pandas as pd\n",
    "from sklearn.model_selection import train_test_split\n",
    "\n",
    "import matplotlib.pyplot as plt\n",
    "%matplotlib inline\n",
    "import seaborn as sns"
   ]
  },
  {
   "cell_type": "code",
   "execution_count": 41,
   "metadata": {},
   "outputs": [],
   "source": [
    "import sklearn.metrics as metrics"
   ]
  },
  {
   "cell_type": "code",
   "execution_count": 4,
   "metadata": {},
   "outputs": [],
   "source": [
    "import pdb\n",
    "from pdb import set_trace as bp"
   ]
  },
  {
   "cell_type": "code",
   "execution_count": 7,
   "metadata": {},
   "outputs": [],
   "source": [
    "data = tf.keras.datasets.fashion_mnist\n",
    "\n",
    "(x_train, y_train), (x_test, y_test) = data.load_data()\n",
    "x_train, x_test = x_train / 255.0, x_test / 255.0\n",
    "x_train, x_val, y_train, y_val = train_test_split(x_train, y_train, test_size=0.25,\n",
    "                                                 shuffle=True)\n",
    "\n",
    "# Add a channels dimension\n",
    "x_train = x_train[..., tf.newaxis]\n",
    "x_val = x_val[..., tf.newaxis]\n",
    "x_test = x_test[..., tf.newaxis]"
   ]
  },
  {
   "cell_type": "code",
   "execution_count": 35,
   "metadata": {},
   "outputs": [],
   "source": [
    "class_names = ['T-shirt/top', 'Trouser', 'Pullover', 'Dress', 'Coat',\n",
    "               'Sandal', 'Shirt', 'Sneaker', 'Bag', 'Ankle boot']\n"
   ]
  },
  {
   "cell_type": "markdown",
   "metadata": {},
   "source": [
    "### Visualize images: "
   ]
  },
  {
   "cell_type": "code",
   "execution_count": 37,
   "metadata": {},
   "outputs": [
    {
     "data": {
      "image/png": "[encoded data removed]",
      "text/plain": [
       "<Figure size 720x720 with 10 Axes>"
      ]
     },
     "metadata": {},
     "output_type": "display_data"
    }
   ],
   "source": [
    "plt.figure(figsize=(10,10))\n",
    "for i in range(10):\n",
    "    plt.subplot(5,5,i+1)\n",
    "    plt.xticks([])\n",
    "    plt.yticks([])\n",
    "    plt.grid(False)\n",
    "    plt.imshow(x_train[i][:,:,0], cmap=plt.cm.binary)\n",
    "    plt.xlabel(class_names[y_train[i]])\n",
    "plt.show()"
   ]
  },
  {
   "cell_type": "code",
   "execution_count": 8,
   "metadata": {},
   "outputs": [
    {
     "data": {
      "text/plain": [
       "(45000, 28, 28, 1)"
      ]
     },
     "execution_count": 8,
     "metadata": {},
     "output_type": "execute_result"
    }
   ],
   "source": [
    "x_train.shape"
   ]
  },
  {
   "cell_type": "code",
   "execution_count": 9,
   "metadata": {},
   "outputs": [
    {
     "data": {
      "image/png": "[encoded data removed]",
      "text/plain": [
       "<Figure size 432x288 with 1 Axes>"
      ]
     },
     "metadata": {
      "needs_background": "light"
     },
     "output_type": "display_data"
    }
   ],
   "source": [
    "plt.hist(x_train[:, :, :, :].ravel(), density=True)\n",
    "plt.show()"
   ]
  },
  {
   "cell_type": "code",
   "execution_count": 10,
   "metadata": {},
   "outputs": [
    {
     "data": {
      "text/plain": [
       "(45000,)"
      ]
     },
     "execution_count": 10,
     "metadata": {},
     "output_type": "execute_result"
    }
   ],
   "source": [
    "y_train.shape"
   ]
  },
  {
   "cell_type": "code",
   "execution_count": 11,
   "metadata": {},
   "outputs": [
    {
     "data": {
      "image/png": "[encoded data removed]",
      "text/plain": [
       "<Figure size 432x288 with 1 Axes>"
      ]
     },
     "metadata": {
      "needs_background": "light"
     },
     "output_type": "display_data"
    }
   ],
   "source": [
    "plt.hist(y_train,\n",
    "         bins=20,\n",
    "         density=True)\n",
    "plt.show()"
   ]
  },
  {
   "cell_type": "markdown",
   "metadata": {},
   "source": [
    "Batch and shuffle the data:\n"
   ]
  },
  {
   "cell_type": "code",
   "execution_count": 12,
   "metadata": {},
   "outputs": [],
   "source": [
    "train_ds = tf.data.Dataset.from_tensor_slices(\n",
    "    (x_train, y_train)).shuffle(x_train.shape[0]).batch(32)\n",
    "val_ds = tf.data.Dataset.from_tensor_slices((x_val, y_val)).batch(32)\n",
    "test_ds = tf.data.Dataset.from_tensor_slices((x_test, y_test)).batch(32)"
   ]
  },
  {
   "cell_type": "code",
   "execution_count": 107,
   "metadata": {},
   "outputs": [],
   "source": [
    "class BasicConvNetModel(Model):\n",
    "    def __init__(self, input_shape, number_of_conv_channels,\n",
    "                 kernel_regularizer = None,\n",
    "                 activity_regularizer = None,\n",
    "                  kernel_size=3):\n",
    "        super(BasicConvNetModel, self).__init__()\n",
    "        self.number_of_conv_channels = number_of_conv_channels\n",
    "        self.shape_in = input_shape\n",
    "        self.conv1 = Conv2D(number_of_conv_channels, kernel_size,\n",
    "                            activation='relu',\n",
    "                            data_format='channels_last')\n",
    "        \n",
    "        self.max_pool = MaxPool2D(pool_size=(2, 2), strides=None,)\n",
    "        self.flatten = Flatten()\n",
    "        flat_shape = (input_shape[1] - kernel_size + 1) ** 2 / 2\n",
    "        d1_flat_shape_output = int(flat_shape / 2)\n",
    "        if kernel_regularizer or activity_regularizer:\n",
    "            if activity_regularizer and kernel_regularizer:\n",
    "                self.d1 = Dense(d1_flat_shape_output, activation='relu',\n",
    "                               kernel_regularizer=kernel_regularizer,\n",
    "                               activity_regularizer=activity_regularizer)\n",
    "            else:\n",
    "                if activity_regularizer:\n",
    "                    self.d1 = Dense(d1_flat_shape_output, activation='relu',\n",
    "                                   activity_regularizer=activity_regularizer)\n",
    "                if kernel_regularizer:\n",
    "                    self.d1 = Dense(d1_flat_shape_output, activation='relu',\n",
    "                                   kernel_regularizer=kernel_regularizer)\n",
    "        else:\n",
    "            self.d1 = Dense(d1_flat_shape_output, activation='relu')\n",
    "        self.d2 = Dense(10, activation='softmax')\n",
    "\n",
    "    def call(self, x):\n",
    "        # bp()\n",
    "        x = self.conv1(x)\n",
    "        x = self.max_pool(x)\n",
    "        # bp()\n",
    "        x = self.flatten(x)\n",
    "        x = self.d1(x)\n",
    "        x = self.d2(x)\n",
    "        return x\n",
    "\n"
   ]
  },
  {
   "cell_type": "code",
   "execution_count": 14,
   "metadata": {},
   "outputs": [
    {
     "name": "stdout",
     "output_type": "stream",
     "text": [
      "(32, 28, 28, 1)\n",
      "<class 'tensorflow.python.ops.resource_variable_ops.ResourceVariable'>\n"
     ]
    }
   ],
   "source": [
    "# Create an instance of the model\n",
    "with tf.device('gpu'):\n",
    "    number_of_conv_channels = 10\n",
    "    model = BasicConvNetModel(x_train.shape, number_of_conv_channels)\n",
    "    images = tf.Variable(x_train[:32], dtype=float)\n",
    "    print(images.shape)\n",
    "    print(type(images))\n",
    "    predictions = model(images)"
   ]
  },
  {
   "cell_type": "code",
   "execution_count": 64,
   "metadata": {},
   "outputs": [],
   "source": [
    "# @tf.function\n",
    "def train_step(images, labels, \n",
    "               loss_object,\n",
    "               model,\n",
    "               optimizer, train_loss,\n",
    "              train_accuracy):\n",
    "    with tf.device('gpu'):\n",
    "        with tf.GradientTape() as tape:\n",
    "            predictions = model(images)\n",
    "            loss = loss_object(labels, predictions)\n",
    "        gradients = tape.gradient(loss, model.trainable_variables)\n",
    "        optimizer.apply_gradients(zip(gradients, model.trainable_variables))\n",
    "\n",
    "        train_loss(loss)\n",
    "        train_accuracy(labels, predictions)"
   ]
  },
  {
   "cell_type": "code",
   "execution_count": 65,
   "metadata": {},
   "outputs": [],
   "source": [
    "# @tf.function\n",
    "def val_step(images, labels, \n",
    "             loss_object, \n",
    "             model, val_loss, \n",
    "            val_accuracy):\n",
    "    with tf.device('gpu'):\n",
    "        predictions = model(images)\n",
    "        t_loss = loss_object(labels, predictions)\n",
    "\n",
    "        val_loss(t_loss)\n",
    "        val_accuracy(labels, predictions)"
   ]
  },
  {
   "cell_type": "code",
   "execution_count": 105,
   "metadata": {
    "scrolled": true
   },
   "outputs": [],
   "source": [
    "def train_model(train_ds, \n",
    "                val_ds,\n",
    "                parameters):\n",
    "    \"\"\"\n",
    "        :param parameters: disctionary containing values for model\n",
    "    \"\"\"\n",
    "    EPOCHS = parameters['EPOCHS']# 5\n",
    "    # Create an instance of the model\n",
    "    loss_object = parameters['loss_object']\n",
    "    # tf.keras.losses.SparseCategoricalCrossentropy()\n",
    "\n",
    "    optimizer = parameters['optimizer']# tf.keras.optimizers.Adam()\n",
    "    train_loss = tf.keras.metrics.Mean(name='train_loss')\n",
    "    train_accuracy = tf.keras.metrics.SparseCategoricalAccuracy(name='train_accuracy')\n",
    "    \n",
    "    val_loss = tf.keras.metrics.Mean(name='val_loss')\n",
    "    val_accuracy = tf.keras.metrics.SparseCategoricalAccuracy(name='val_accuracy')\n",
    "    with tf.device('gpu'):\n",
    "        number_of_conv_channels = parameters['number_of_conv_channels'] # 10\n",
    "        model = BasicConvNetModel(x_train.shape, number_of_conv_channels,\n",
    "                                 kernel_regularizer=parameters['kernel_regularizer'],\n",
    "                                 activity_regularizer=parameters['activity_regularizer'],\n",
    "                                 kernel_size=parameters['kernel_size'])\n",
    "        images = tf.Variable(x_train[:32], dtype=float)\n",
    "        print(images.shape)\n",
    "        print(type(images))\n",
    "        predictions = model(images)\n",
    "    for epoch in range(EPOCHS):\n",
    "        # Reset the metrics for the next epoch\n",
    "        train_loss.reset_states()\n",
    "        train_accuracy.reset_states()\n",
    "        val_loss.reset_states()\n",
    "        val_accuracy.reset_states()\n",
    "        for images, labels in train_ds:\n",
    "            train_step(images, labels, loss_object, \n",
    "                      model, optimizer, train_loss, train_accuracy)\n",
    "\n",
    "        for val_images, val_labels in val_ds:\n",
    "            val_step(val_images, val_labels, loss_object, \n",
    "                    model, val_loss, val_accuracy)\n",
    "\n",
    "        template = 'Epoch {}, Loss: {}, Accuracy: {}, val Loss: {}, val Accuracy: {}'\n",
    "        print(template.format(epoch+1,\n",
    "                            train_loss.result(),\n",
    "                            train_accuracy.result()*100,\n",
    "                            val_loss.result(),\n",
    "                            val_accuracy.result()*100))\n",
    "\n",
    "        \n",
    "    return train_accuracy, val_accuracy, model"
   ]
  },
  {
   "cell_type": "code",
   "execution_count": 77,
   "metadata": {},
   "outputs": [],
   "source": [
    "def test_model(model, test_ds):\n",
    "    with tf.device('gpu'):\n",
    "        probabilities = np.array([])\n",
    "        predictions = np.array([])\n",
    "        labels = np.array([])\n",
    "        for test_images, test_labels in test_ds:\n",
    "            # bp()\n",
    "\n",
    "            result = model(test_images)\n",
    "            labels = np.append(labels, test_labels)\n",
    "            for item in result: \n",
    "                # predictions.append(tf.math.argmax(item))\n",
    "                predictions = np.append(predictions, tf.math.argmax(item))\n",
    "                probabilities = np.append(probabilities, item)\n",
    "    return labels, predictions, probabilities"
   ]
  },
  {
   "cell_type": "markdown",
   "metadata": {},
   "source": [
    "### Try to Find Better Model \n",
    "For a given set of parameters, try to find a better model. "
   ]
  },
  {
   "cell_type": "code",
   "execution_count": 92,
   "metadata": {},
   "outputs": [],
   "source": [
    "def find_best_model_for_params(parameter_container):\n",
    "    train_accuracy_container = []\n",
    "    val_accuracy_container = []\n",
    "    model_container = []\n",
    "    for parameters in parameter_container:\n",
    "        # bp()\n",
    "        train_accuracy, val_accuracy, model = train_model(train_ds, \n",
    "                                                  val_ds,\n",
    "                                                  parameters)\n",
    "        train_accuracy_container.append(train_accuracy.result().numpy())\n",
    "        val_accuracy_container.append(val_accuracy.result().numpy())\n",
    "        model_container.append(model)\n",
    "    best_model_index = np.argmax(val_accuracy_container)\n",
    "    return train_accuracy_container[best_model_index], val_accuracy_container[best_model_index], model_container[best_model_index], best_model_index"
   ]
  },
  {
   "cell_type": "code",
   "execution_count": 109,
   "metadata": {},
   "outputs": [
    {
     "name": "stdout",
     "output_type": "stream",
     "text": [
      "(32, 28, 28, 1)\n",
      "<class 'tensorflow.python.ops.resource_variable_ops.ResourceVariable'>\n",
      "WARNING:tensorflow:Layer basic_conv_net_model_21 is casting an input tensor from dtype float64 to the layer's dtype of float32, which is new behavior in TensorFlow 2.  The layer has dtype float32 because it's dtype defaults to floatx.\n",
      "\n",
      "If you intended to run this layer in float32, you can safely ignore this warning. If in doubt, this warning is likely only an issue if you are porting a TensorFlow 1.X model to TensorFlow 2.\n",
      "\n",
      "To change all layers to have dtype float64 by default, call `tf.keras.backend.set_floatx('float64')`. To change just this layer, pass dtype='float64' to the layer constructor. If you are the author of this layer, you can disable autocasting by passing autocast=False to the base Layer constructor.\n",
      "\n",
      "Epoch 1, Loss: 0.44789403676986694, Accuracy: 84.03556060791016, val Loss: 0.36190301179885864, val Accuracy: 86.6066665649414\n",
      "Epoch 2, Loss: 0.30756646394729614, Accuracy: 88.81555938720703, val Loss: 0.28606826066970825, val Accuracy: 89.68000030517578\n",
      "Epoch 3, Loss: 0.26265496015548706, Accuracy: 90.4044418334961, val Loss: 0.2726682722568512, val Accuracy: 90.22666931152344\n",
      "(32, 28, 28, 1)\n",
      "<class 'tensorflow.python.ops.resource_variable_ops.ResourceVariable'>\n",
      "WARNING:tensorflow:Layer basic_conv_net_model_22 is casting an input tensor from dtype float64 to the layer's dtype of float32, which is new behavior in TensorFlow 2.  The layer has dtype float32 because it's dtype defaults to floatx.\n",
      "\n",
      "If you intended to run this layer in float32, you can safely ignore this warning. If in doubt, this warning is likely only an issue if you are porting a TensorFlow 1.X model to TensorFlow 2.\n",
      "\n",
      "To change all layers to have dtype float64 by default, call `tf.keras.backend.set_floatx('float64')`. To change just this layer, pass dtype='float64' to the layer constructor. If you are the author of this layer, you can disable autocasting by passing autocast=False to the base Layer constructor.\n",
      "\n",
      "Epoch 1, Loss: 0.4566953182220459, Accuracy: 83.46444702148438, val Loss: 0.3439233899116516, val Accuracy: 87.19999694824219\n",
      "Epoch 2, Loss: 0.3133764863014221, Accuracy: 88.57111358642578, val Loss: 0.29870346188545227, val Accuracy: 89.20000457763672\n",
      "Epoch 3, Loss: 0.2669428288936615, Accuracy: 90.26667022705078, val Loss: 0.27391117811203003, val Accuracy: 90.14666748046875\n",
      "(32, 28, 28, 1)\n",
      "<class 'tensorflow.python.ops.resource_variable_ops.ResourceVariable'>\n",
      "WARNING:tensorflow:Layer basic_conv_net_model_23 is casting an input tensor from dtype float64 to the layer's dtype of float32, which is new behavior in TensorFlow 2.  The layer has dtype float32 because it's dtype defaults to floatx.\n",
      "\n",
      "If you intended to run this layer in float32, you can safely ignore this warning. If in doubt, this warning is likely only an issue if you are porting a TensorFlow 1.X model to TensorFlow 2.\n",
      "\n",
      "To change all layers to have dtype float64 by default, call `tf.keras.backend.set_floatx('float64')`. To change just this layer, pass dtype='float64' to the layer constructor. If you are the author of this layer, you can disable autocasting by passing autocast=False to the base Layer constructor.\n",
      "\n",
      "Epoch 1, Loss: 0.44022414088249207, Accuracy: 84.20222473144531, val Loss: 0.3186536431312561, val Accuracy: 88.72000122070312\n",
      "Epoch 2, Loss: 0.29203158617019653, Accuracy: 89.42888641357422, val Loss: 0.2870253920555115, val Accuracy: 89.70000457763672\n",
      "Epoch 3, Loss: 0.2464292198419571, Accuracy: 90.84888458251953, val Loss: 0.27329641580581665, val Accuracy: 90.12667083740234\n"
     ]
    }
   ],
   "source": [
    "parameters_reg = {'EPOCHS': 3, \n",
    "                  'loss_object': tf.keras.losses.SparseCategoricalCrossentropy(),\n",
    "                  'optimizer': tf.keras.optimizers.Adam(),\n",
    "                  'number_of_conv_channels': 10,\n",
    "                  'kernel_regularizer': None,\n",
    "                  'activity_regularizer': None,\n",
    "                  'kernel_size': 3}\n",
    "parameters_l1 = {'EPOCHS': 3, \n",
    "                  'loss_object': tf.keras.losses.SparseCategoricalCrossentropy(),\n",
    "                  'optimizer': tf.keras.optimizers.Adam(),\n",
    "                  'number_of_conv_channels': 10,\n",
    "                  'kernel_regularizer': tf.keras.regularizers.l1(l=0.01),\n",
    "                  'activity_regularizer': None,\n",
    "                  'kernel_size': 3}\n",
    "parameters_l2 = {'EPOCHS': 3, \n",
    "                  'loss_object': tf.keras.losses.SparseCategoricalCrossentropy(),\n",
    "                  'optimizer': tf.keras.optimizers.Adam(),\n",
    "                  'number_of_conv_channels': 10,\n",
    "                  'kernel_regularizer': tf.keras.regularizers.l2(l=0.01),\n",
    "                  'activity_regularizer': None,\n",
    "                  'kernel_size': 3}\n",
    "parameter_container = [parameters_reg, \n",
    "                       parameters_l1, \n",
    "                       parameters_l2]\n",
    "train_accuracy, val_accuracy, model, best_model_index = find_best_model_for_params(parameter_container)"
   ]
  },
  {
   "cell_type": "code",
   "execution_count": 110,
   "metadata": {},
   "outputs": [],
   "source": [
    "labels, predictions, probabilities = test_model(model, test_ds)"
   ]
  },
  {
   "cell_type": "code",
   "execution_count": 111,
   "metadata": {},
   "outputs": [],
   "source": [
    "confusion_matrix = tf.math.confusion_matrix(labels, predictions)\n"
   ]
  },
  {
   "cell_type": "code",
   "execution_count": 112,
   "metadata": {},
   "outputs": [
    {
     "name": "stdout",
     "output_type": "stream",
     "text": [
      "              precision    recall  f1-score   support\n",
      "\n",
      "         0.0       0.86      0.83      0.84      1000\n",
      "         1.0       0.99      0.97      0.98      1000\n",
      "         2.0       0.89      0.74      0.81      1000\n",
      "         3.0       0.89      0.91      0.90      1000\n",
      "         4.0       0.82      0.84      0.83      1000\n",
      "         5.0       0.97      0.98      0.98      1000\n",
      "         6.0       0.66      0.76      0.71      1000\n",
      "         7.0       0.96      0.94      0.95      1000\n",
      "         8.0       0.96      0.98      0.97      1000\n",
      "         9.0       0.95      0.96      0.96      1000\n",
      "\n",
      "   micro avg       0.89      0.89      0.89     10000\n",
      "   macro avg       0.89      0.89      0.89     10000\n",
      "weighted avg       0.89      0.89      0.89     10000\n",
      "\n"
     ]
    }
   ],
   "source": [
    "report = metrics.classification_report(labels, predictions)\n",
    "print(report)"
   ]
  },
  {
   "cell_type": "code",
   "execution_count": 113,
   "metadata": {},
   "outputs": [
    {
     "data": {
      "text/plain": [
       "Text(69.0, 0.5, 'true labels')"
      ]
     },
     "execution_count": 113,
     "metadata": {},
     "output_type": "execute_result"
    },
    {
     "data": {
      "image/png": "[encoded data removed]",
      "text/plain": [
       "<Figure size 720x576 with 1 Axes>"
      ]
     },
     "metadata": {
      "needs_background": "light"
     },
     "output_type": "display_data"
    }
   ],
   "source": [
    "plt.figure(figsize=(10, 8))\n",
    "plt.title(\"Confusion matrix\")\n",
    "sns.heatmap(confusion_matrix, cmap='Blues', \n",
    "            annot=True, \n",
    "            xticklabels=class_names, \n",
    "            yticklabels=class_names,\n",
    "            fmt='g',\n",
    "            cbar=False)\n",
    "plt.xlabel('predictions')\n",
    "plt.ylabel('true labels')"
   ]
  },
  {
   "cell_type": "markdown",
   "metadata": {},
   "source": [
    "## Conclusions: \n",
    "It's possible to see that the chosen model performs fairly well. With the system implemented here, it's possible to change different parameters and do a sort of hyperparameter of optimization (somewhat manual, but it's possible). \n",
    "\n",
    "For the conditions given, the regular model performed best during validation. As a consequence it was chosen as the best model."
   ]
  },
  {
   "cell_type": "code",
   "execution_count": null,
   "metadata": {},
   "outputs": [],
   "source": []
  }
 ],
 "metadata": {
  "kernelspec": {
   "display_name": "Python 3",
   "language": "python",
   "name": "python3"
  },
  "language_info": {
   "codemirror_mode": {
    "name": "ipython",
    "version": 3
   },
   "file_extension": ".py",
   "mimetype": "text/x-python",
   "name": "python",
   "nbconvert_exporter": "python",
   "pygments_lexer": "ipython3",
   "version": "3.6.9"
  },
  "varInspector": {
   "cols": {
    "lenName": 16,
    "lenType": 16,
    "lenVar": 40
   },
   "kernels_config": {
    "python": {
     "delete_cmd_postfix": "",
     "delete_cmd_prefix": "del ",
     "library": "var_list.py",
     "varRefreshCmd": "print(var_dic_list())"
    },
    "r": {
     "delete_cmd_postfix": ") ",
     "delete_cmd_prefix": "rm(",
     "library": "var_list.r",
     "varRefreshCmd": "cat(var_dic_list()) "
    }
   },
   "oldHeight": 123.33333400000001,
   "position": {
    "height": "40px",
    "left": "775.833px",
    "right": "20px",
    "top": "120px",
    "width": "250px"
   },
   "types_to_exclude": [
    "module",
    "function",
    "builtin_function_or_method",
    "instance",
    "_Feature"
   ],
   "varInspector_section_display": "none",
   "window_display": true
  }
 },
 "nbformat": 4,
 "nbformat_minor": 2
}
