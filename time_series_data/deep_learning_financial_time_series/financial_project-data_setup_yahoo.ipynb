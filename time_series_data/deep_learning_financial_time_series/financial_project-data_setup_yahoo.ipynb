{
 "cells": [
  {
   "cell_type": "code",
   "execution_count": 2,
   "metadata": {},
   "outputs": [],
   "source": [
    "import pandas as pd\n",
    "import numpy as np\n",
    "import matplotlib.pyplot as plt\n",
    "import quandl\n",
    "import time\n",
    "import datetime\n",
    "import urllib3\n",
    "# import scipy as sci\n",
    "import scipy.stats as stats\n",
    "import torch\n",
    "import torch.nn as nn\n",
    "import torch.nn.functional as F\n",
    "\n",
    "from time import localtime, strftime\n",
    "\n",
    "from multiprocessing import cpu_count\n",
    "from multiprocessing import Pool\n",
    "from sklearn.ensemble import RandomForestClassifier\n",
    "from sklearn.linear_model import Lasso\n",
    "from sklearn.preprocessing import MinMaxScaler\n",
    "from sklearn.preprocessing import RobustScaler\n",
    "from sklearn.model_selection import train_test_split\n",
    "from sklearn.cluster import KMeans\n",
    "from sklearn.metrics import classification_report\n",
    "from sklearn.metrics import confusion_matrix, classification_report, accuracy_score\n",
    "from sklearn.metrics import roc_curve, auc, roc_auc_score\n",
    "from sklearn.model_selection import GridSearchCV, RandomizedSearchCV\n",
    "import pdb\n",
    "from pdb import set_trace as bp\n"
   ]
  },
  {
   "cell_type": "code",
   "execution_count": 3,
   "metadata": {},
   "outputs": [],
   "source": [
    "#nasdaq = pd.read_csv('QQQ.csv')\n",
    "nasdaq = pd.read_csv('UPM.HE.csv')"
   ]
  },
  {
   "cell_type": "code",
   "execution_count": 4,
   "metadata": {},
   "outputs": [],
   "source": [
    "def get_percentage_change_old(data):\n",
    "    N = len(data)\n",
    "    final_array = []\n",
    "    for index in range(N-1):\n",
    "        final_array.append((data[index + 1] - data[index])/data[index])\n",
    "    return np.array(final_array, dtype=np.float64)"
   ]
  },
  {
   "cell_type": "code",
   "execution_count": 5,
   "metadata": {},
   "outputs": [],
   "source": [
    "def get_percentage_change(data, ref_data=None, offset=0):\n",
    "    N = len(data)\n",
    "    final_array = []\n",
    "    if ref_data is not None:\n",
    "        N = min(len(data), len(ref_data))\n",
    "        for index in range(N-1 - offset):\n",
    "            final_array.append((data[index + 1 + offset] - ref_data[index + offset])/ref_data[index + offset])\n",
    "        return np.array(final_array, dtype=np.float64)\n",
    "    else:\n",
    "        for index in range(N-1 - offset):\n",
    "            final_array.append((data[index + 1 + offset] - data[index + offset])/data[index + offset])\n",
    "        return np.array(final_array, dtype=np.float64)"
   ]
  },
  {
   "cell_type": "code",
   "execution_count": 6,
   "metadata": {},
   "outputs": [
    {
     "name": "stderr",
     "output_type": "stream",
     "text": [
      "/home/l7/dev/tools/anaconda3/lib/python3.6/site-packages/ipykernel_launcher.py:7: RuntimeWarning: divide by zero encountered in double_scalars\n",
      "  import sys\n"
     ]
    }
   ],
   "source": [
    "nasdaq['Date'] = nasdaq['Date'].apply(lambda x: datetime.datetime.strptime(x, '%Y-%m-%d') if str.isdigit(x[0]) else np.NAN )\n",
    "nasdaq['open_change'] = np.append(0,get_percentage_change(data=nasdaq['Open'].values))\n",
    "nasdaq['open_change_pct'] = 100 * nasdaq['open_change'].values\n",
    "\n",
    "nasdaq['next_day_open_change'] = np.append(nasdaq['open_change'].values[1:-1], [0, 0])\n",
    "nasdaq['next_day_open_change_pct'] = 100 * nasdaq['next_day_open_change']\n",
    "\n",
    "nasdaq['open_change_wrt_close'] = np.append(0,get_percentage_change(data=nasdaq['Open'].values,\n",
    "                                                                        ref_data=nasdaq['Close'].values))\n",
    "nasdaq['open_change_wrt_close_pct'] = 100 * nasdaq['open_change_wrt_close'].values\n",
    "\n",
    "nasdaq['open_change_wrt_high'] = np.append(0,get_percentage_change(data=nasdaq['Open'].values,\n",
    "                                                                        ref_data=nasdaq['High'].values))\n",
    "\n",
    "nasdaq['open_change_wrt_low'] = np.append(0,get_percentage_change(data=nasdaq['Open'].values,\n",
    "                                                                        ref_data=nasdaq['Low'].values))\n",
    "\n",
    "nasdaq['open_change_wrt_volume'] = np.append(0,get_percentage_change(data=nasdaq['Open'].values,\n",
    "                                                                        ref_data=nasdaq['Volume'].values))\n",
    "\n",
    "nasdaq['next_day_open_change_wrt_close'] = np.append(nasdaq['open_change_wrt_close'].values[1:-1], [0, 0])\n",
    "nasdaq['next_day_open_change_wrt_close_pct'] = 100 * nasdaq['next_day_open_change_wrt_close'].values\n",
    "\n",
    "nasdaq['next_day_open_change_wrt_high'] = np.append(nasdaq['open_change_wrt_high'].values[1:-1], [0, 0])\n",
    "nasdaq['next_day_open_change_wrt_low'] = np.append(nasdaq['open_change_wrt_low'].values[1:-1], [0, 0])\n",
    "nasdaq['next_day_open_change_wrt_volume'] = np.append(nasdaq['open_change_wrt_volume'].values[1:-1], [0, 0])\n",
    "\n"
   ]
  },
  {
   "cell_type": "code",
   "execution_count": 7,
   "metadata": {},
   "outputs": [],
   "source": [
    "nasdaq['close_change_pct'] = 100 * np.append(0,get_percentage_change(data=nasdaq['Close'].values))\n",
    "\n",
    "nasdaq['close_change'] = np.append(0,get_percentage_change(data=nasdaq['Close'].values))\n"
   ]
  },
  {
   "cell_type": "code",
   "execution_count": 8,
   "metadata": {},
   "outputs": [],
   "source": [
    "\n",
    "nasdaq['high_change_pct'] = 100 * np.append(0,get_percentage_change(data=nasdaq['High'].values))\n",
    "nasdaq['high_change'] = np.append(0,get_percentage_change(data=nasdaq['High'].values))\n"
   ]
  },
  {
   "cell_type": "code",
   "execution_count": 9,
   "metadata": {},
   "outputs": [],
   "source": [
    "\n",
    "nasdaq['low_change_pct'] = 100 * np.append(0,get_percentage_change(data=nasdaq['Low'].values))\n",
    "nasdaq['low_change'] = np.append(0,get_percentage_change(data=nasdaq['Low'].values))\n"
   ]
  },
  {
   "cell_type": "code",
   "execution_count": 10,
   "metadata": {},
   "outputs": [
    {
     "name": "stderr",
     "output_type": "stream",
     "text": [
      "/home/l7/dev/tools/anaconda3/lib/python3.6/site-packages/ipykernel_launcher.py:11: RuntimeWarning: divide by zero encountered in double_scalars\n",
      "  # This is added back by InteractiveShellApp.init_path()\n",
      "/home/l7/dev/tools/anaconda3/lib/python3.6/site-packages/ipykernel_launcher.py:11: RuntimeWarning: invalid value encountered in double_scalars\n",
      "  # This is added back by InteractiveShellApp.init_path()\n"
     ]
    }
   ],
   "source": [
    "\n",
    "nasdaq['volume_change_pct'] = 100 * np.append(0,get_percentage_change(data=nasdaq['Volume'].values))\n",
    "nasdaq['volume_change'] = np.append(0,get_percentage_change(data=nasdaq['Volume'].values))\n"
   ]
  },
  {
   "cell_type": "code",
   "execution_count": 11,
   "metadata": {},
   "outputs": [],
   "source": [
    "def high_low_range(high, low, ref=None):\n",
    "    if ref is None:\n",
    "        return high - low\n",
    "    else:\n",
    "        return (high - low)/ ref"
   ]
  },
  {
   "cell_type": "code",
   "execution_count": 12,
   "metadata": {},
   "outputs": [],
   "source": [
    "\n",
    "nasdaq['high_low_range'] = high_low_range(nasdaq['High'], nasdaq['Low'])\n",
    "nasdaq['high_low_range_with_ref_open'] = high_low_range(nasdaq['High'], nasdaq['Low'], nasdaq['Open'])\n",
    "nasdaq['high_low_range_with_ref_open_pct'] = 100 * high_low_range(nasdaq['High'], nasdaq['Low'], nasdaq['Open'])\n",
    "nasdaq['high_low_range_with_ref_close'] = high_low_range(nasdaq['High'], nasdaq['Low'], nasdaq['Close'])\n",
    "nasdaq['high_low_range_with_ref_close_pct'] = 100 * high_low_range(nasdaq['High'], nasdaq['Low'], nasdaq['Close'])\n",
    "\n"
   ]
  },
  {
   "cell_type": "code",
   "execution_count": 13,
   "metadata": {},
   "outputs": [],
   "source": [
    "def binary_labeling(data, threshold):\n",
    "    #bp()\n",
    "    return data > threshold\n",
    "    "
   ]
  },
  {
   "cell_type": "code",
   "execution_count": 14,
   "metadata": {},
   "outputs": [],
   "source": [
    "nasdaq['gt_1'] = binary_labeling(nasdaq['close_change_pct'], 1)\n",
    "nasdaq['gt_1.5'] = binary_labeling(nasdaq['close_change_pct'], 1.5)\n",
    "nasdaq['gt_2.5'] = binary_labeling(nasdaq['close_change_pct'], 2.5)\n",
    "\n"
   ]
  },
  {
   "cell_type": "code",
   "execution_count": 15,
   "metadata": {},
   "outputs": [
    {
     "name": "stdout",
     "output_type": "stream",
     "text": [
      "0.2567266841998786\n",
      "0.18268258142828242\n",
      "0.09043091240137568\n"
     ]
    }
   ],
   "source": [
    "print(nasdaq['gt_1'].sum() / nasdaq.index.size)\n",
    "print(nasdaq['gt_1.5'].sum() / nasdaq.index.size)\n",
    "print(nasdaq['gt_2.5'].sum() / nasdaq.index.size)"
   ]
  },
  {
   "cell_type": "code",
   "execution_count": 43,
   "metadata": {},
   "outputs": [],
   "source": [
    "clean_nasdaq = nasdaq.copy()\n",
    "clean_nasdaq = clean_nasdaq.replace([np.inf, -np.inf], np.nan)\n",
    "clean_nasdaq = clean_nasdaq.dropna(how='any')\n",
    "clean_nasdaq.to_pickle('upm_yahoo.pckl')"
   ]
  },
  {
   "cell_type": "code",
   "execution_count": 44,
   "metadata": {},
   "outputs": [
    {
     "data": {
      "text/plain": [
       "Index(['Date', 'Open', 'High', 'Low', 'Close', 'Adj Close', 'Volume',\n",
       "       'open_change', 'open_change_pct', 'next_day_open_change',\n",
       "       'next_day_open_change_pct', 'open_change_wrt_close',\n",
       "       'open_change_wrt_close_pct', 'open_change_wrt_high',\n",
       "       'open_change_wrt_low', 'open_change_wrt_volume',\n",
       "       'next_day_open_change_wrt_close', 'next_day_open_change_wrt_close_pct',\n",
       "       'next_day_open_change_wrt_high', 'next_day_open_change_wrt_low',\n",
       "       'next_day_open_change_wrt_volume', 'close_change_pct', 'close_change',\n",
       "       'high_change_pct', 'high_change', 'low_change_pct', 'low_change',\n",
       "       'volume_change_pct', 'volume_change', 'high_low_range',\n",
       "       'high_low_range_with_ref_open', 'high_low_range_with_ref_open_pct',\n",
       "       'high_low_range_with_ref_close', 'high_low_range_with_ref_close_pct',\n",
       "       'gt_1', 'gt_1.5', 'gt_2.5'],\n",
       "      dtype='object')"
      ]
     },
     "execution_count": 44,
     "metadata": {},
     "output_type": "execute_result"
    }
   ],
   "source": [
    "clean_nasdaq.columns"
   ]
  },
  {
   "cell_type": "code",
   "execution_count": 45,
   "metadata": {},
   "outputs": [
    {
     "data": {
      "text/plain": [
       "4755"
      ]
     },
     "execution_count": 45,
     "metadata": {},
     "output_type": "execute_result"
    }
   ],
   "source": [
    "clean_nasdaq.index.size"
   ]
  }
 ],
 "metadata": {
  "kernelspec": {
   "display_name": "Python 3",
   "language": "python",
   "name": "python3"
  },
  "language_info": {
   "codemirror_mode": {
    "name": "ipython",
    "version": 3
   },
   "file_extension": ".py",
   "mimetype": "text/x-python",
   "name": "python",
   "nbconvert_exporter": "python",
   "pygments_lexer": "ipython3",
   "version": "3.6.6"
  },
  "varInspector": {
   "cols": {
    "lenName": 16,
    "lenType": 16,
    "lenVar": 40
   },
   "kernels_config": {
    "python": {
     "delete_cmd_postfix": "",
     "delete_cmd_prefix": "del ",
     "library": "var_list.py",
     "varRefreshCmd": "print(var_dic_list())"
    },
    "r": {
     "delete_cmd_postfix": ") ",
     "delete_cmd_prefix": "rm(",
     "library": "var_list.r",
     "varRefreshCmd": "cat(var_dic_list()) "
    }
   },
   "types_to_exclude": [
    "module",
    "function",
    "builtin_function_or_method",
    "instance",
    "_Feature"
   ],
   "window_display": true
  }
 },
 "nbformat": 4,
 "nbformat_minor": 2
}
