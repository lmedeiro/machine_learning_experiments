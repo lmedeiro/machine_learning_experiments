{
 "cells": [
  {
   "cell_type": "code",
   "execution_count": 1,
   "metadata": {},
   "outputs": [
    {
     "name": "stdout",
     "output_type": "stream",
     "text": [
      "Warning: the binary library cannot be imported. You cannot train maps, but you can load and analyze ones that you have already saved.\n",
      "The problem occurs because either compilation failed when you installed Somoclu or a path is missing from the dependencies when you are trying to import it. Please refer to the documentation to see your options.\n"
     ]
    }
   ],
   "source": [
    "from PipelineResources import * # This is where we have all of the resources that will be used in the project. "
   ]
  },
  {
   "cell_type": "code",
   "execution_count": 2,
   "metadata": {},
   "outputs": [],
   "source": [
    "nasdaq = pd.read_pickle('nasdaq_qqq_yahoo.pckl')"
   ]
  },
  {
   "cell_type": "markdown",
   "metadata": {},
   "source": [
    "## Prepare training, validation and test sets"
   ]
  },
  {
   "cell_type": "markdown",
   "metadata": {},
   "source": [
    "### First Test: Use a CNN Model to predict whether or not the next day will close above 1.5 %. \n",
    "The goal behind this exercise is to establish a baseline model and performance. In addition, it is also work out the way the data will be stored. "
   ]
  },
  {
   "cell_type": "code",
   "execution_count": 3,
   "metadata": {},
   "outputs": [
    {
     "name": "stdout",
     "output_type": "stream",
     "text": [
      " Sample size is: 4780\n"
     ]
    }
   ],
   "source": [
    "number_of_samples = nasdaq.index.size\n",
    "print(\" Sample size is: {}\".format(number_of_samples))"
   ]
  },
  {
   "cell_type": "code",
   "execution_count": 4,
   "metadata": {},
   "outputs": [
    {
     "data": {
      "text/plain": [
       "Index(['Date', 'Open', 'High', 'Low', 'Close', 'Adj Close', 'Volume',\n",
       "       'open_change', 'open_change_pct', 'next_day_open_change',\n",
       "       'next_day_open_change_pct', 'open_change_wrt_close',\n",
       "       'open_change_wrt_close_pct', 'open_change_wrt_high',\n",
       "       'open_change_wrt_low', 'open_change_wrt_volume',\n",
       "       'next_day_open_change_wrt_close', 'next_day_open_change_wrt_close_pct',\n",
       "       'next_day_open_change_wrt_high', 'next_day_open_change_wrt_low',\n",
       "       'next_day_open_change_wrt_volume', 'close_change_pct', 'close_change',\n",
       "       'high_change_pct', 'high_change', 'low_change_pct', 'low_change',\n",
       "       'volume_change_pct', 'volume_change', 'high_low_range',\n",
       "       'high_low_range_with_ref_open', 'high_low_range_with_ref_open_pct',\n",
       "       'high_low_range_with_ref_close', 'high_low_range_with_ref_close_pct',\n",
       "       'gt_1', 'gt_1.5', 'gt_2.5'],\n",
       "      dtype='object')"
      ]
     },
     "execution_count": 4,
     "metadata": {},
     "output_type": "execute_result"
    }
   ],
   "source": [
    "nasdaq.columns"
   ]
  },
  {
   "cell_type": "code",
   "execution_count": 5,
   "metadata": {},
   "outputs": [
    {
     "name": "stdout",
     "output_type": "stream",
     "text": [
      "number of days per samples: 1\n",
      "(4776,)\n",
      "[0 1 0 0 0 1 1 0 0 1 0 0 0 0 0 0 0 0 0 0]\n",
      "[0 0 0 1 1 0 0 1 0 0 0 0 0 0 0 0 0 0 1 1]\n",
      "(4776, 13)\n",
      "(3582, 13)\n"
     ]
    }
   ],
   "source": [
    "random_state = 1\n",
    "x_train, x_val, x_test, y_train, y_val, y_test = get_input_sets(nasdaq, chosen_features, chosen_label, x_test=False,\n",
    "                                                               number_of_days_per_sample=1)\n",
    "print(x_train.shape)\n"
   ]
  },
  {
   "cell_type": "code",
   "execution_count": 6,
   "metadata": {},
   "outputs": [
    {
     "name": "stdout",
     "output_type": "stream",
     "text": [
      "1130\n",
      "1017\n",
      "(177,)\n",
      "(177, 13)\n",
      "3400\n",
      "3060\n",
      "(522,)\n",
      "(522, 13)\n"
     ]
    }
   ],
   "source": [
    "x_val, y_val = decrease_class_rows(x_val, y_val, class_number=0, percentage_cut=0.90)\n",
    "x_train, y_train = decrease_class_rows(x_train, y_train, class_number=0, percentage_cut=0.90)\n"
   ]
  },
  {
   "cell_type": "code",
   "execution_count": 7,
   "metadata": {},
   "outputs": [
    {
     "name": "stdout",
     "output_type": "stream",
     "text": [
      "(522, 2, 13)\n",
      "(177, 2, 13)\n"
     ]
    }
   ],
   "source": [
    "x_train, x_val, x_test = modify_dataset_channels(x_train, x_val, x_test=False, compute_fft=True, multi_channel=True)"
   ]
  },
  {
   "cell_type": "code",
   "execution_count": 8,
   "metadata": {},
   "outputs": [],
   "source": [
    "class Block(nn.Module):\n",
    "    def __init__(self, in_channels, out_channels, stride=1):\n",
    "        \"\"\"\n",
    "        Args:\n",
    "          in_channels (int):  Number of input channels.\n",
    "          out_channels (int): Number of output channels.\n",
    "          stride (int):       Controls the stride.\n",
    "        \"\"\"\n",
    "        super(Block, self).__init__()\n",
    "        kernel_size_0 = 3\n",
    "        padding_0 = 1\n",
    "        self.in_channels = in_channels\n",
    "        self.out_channels = out_channels\n",
    "        self.conv1d_0 = nn.Conv1d(in_channels=in_channels, \n",
    "                                  out_channels=out_channels, \n",
    "                                 kernel_size=kernel_size_0,\n",
    "                                 stride=stride,\n",
    "                                 padding=padding_0,\n",
    "                                 bias=False)\n",
    "        self.conv1d_0 = self.conv1d_0.to(device)\n",
    "        self.conv1d_1 = nn.Conv1d(in_channels=out_channels, \n",
    "                                  out_channels=out_channels, \n",
    "                                 kernel_size=kernel_size_0,\n",
    "                                 stride=1,\n",
    "                                 padding=padding_0,\n",
    "                                 bias=False)\n",
    "        self.conv1d_1 = self.conv1d_1.to(device)\n",
    "        self.relu = nn.ReLU()\n",
    "        self.batch_0_0 = nn.BatchNorm1d(out_channels)\n",
    "        self.batch_0_0 = self.batch_0_0.to(device)\n",
    "        self.batch_0_1 = nn.BatchNorm1d(out_channels)\n",
    "        self.batch_0_1 = self.batch_0_1.to(device)\n",
    "        padding_1 = 0\n",
    "        stride_1 =1\n",
    "        kernel_size_1 = 1\n",
    "        self.skip_layer_1 = nn.Conv1d(in_channels, out_channels, \n",
    "                                 kernel_size=kernel_size_1,\n",
    "                                 stride=stride,\n",
    "                                 padding=padding_1,\n",
    "                                 bias=False)\n",
    "        self.skip_layer_1 = self.skip_layer_1.to(device)\n",
    "        \n",
    "\n",
    "    def forward(self, x):\n",
    "        # bp()\n",
    "        x = x.float()\n",
    "        x_skip = x.clone()\n",
    "        x = x.to(device)\n",
    "        x_skip = x_skip.to(device)\n",
    "        initial_shape = x.shape\n",
    "        x = self.relu(self.batch_0_0(self.conv1d_0(x)))\n",
    "        x = self.batch_0_1(self.conv1d_1(x))\n",
    "        current_shape = x.shape\n",
    "        if np.alltrue(current_shape == initial_shape):\n",
    "            y = x_skip + x\n",
    "        else:\n",
    "            x_skip = self.batch_0_1(self.skip_layer_1(x_skip))\n",
    "            y = x_skip + x\n",
    "        y =  self.relu(y)\n",
    "        return y"
   ]
  },
  {
   "cell_type": "code",
   "execution_count": 9,
   "metadata": {},
   "outputs": [],
   "source": [
    "# Let us implement a group of blocks in this cell\n",
    "class GroupOfBlocks(nn.Module):\n",
    "    def __init__(self, in_channels, out_channels, n_blocks, stride=1):\n",
    "        super(GroupOfBlocks, self).__init__()\n",
    "\n",
    "        first_block = Block(in_channels, out_channels, stride)\n",
    "        other_blocks = [Block(out_channels, out_channels) for _ in range(1, n_blocks)]\n",
    "        self.group = nn.Sequential(first_block, *other_blocks)\n",
    "\n",
    "    def forward(self, x):\n",
    "        return self.group(x)"
   ]
  },
  {
   "cell_type": "code",
   "execution_count": 10,
   "metadata": {},
   "outputs": [
    {
     "name": "stdout",
     "output_type": "stream",
     "text": [
      "GroupOfBlocks(\n",
      "  (group): Sequential(\n",
      "    (0): Block(\n",
      "      (conv1d_0): Conv1d(10, 20, kernel_size=(3,), stride=(1,), padding=(1,), bias=False)\n",
      "      (conv1d_1): Conv1d(20, 20, kernel_size=(3,), stride=(1,), padding=(1,), bias=False)\n",
      "      (relu): ReLU()\n",
      "      (batch_0_0): BatchNorm1d(20, eps=1e-05, momentum=0.1, affine=True, track_running_stats=True)\n",
      "      (batch_0_1): BatchNorm1d(20, eps=1e-05, momentum=0.1, affine=True, track_running_stats=True)\n",
      "      (skip_layer_1): Conv1d(10, 20, kernel_size=(1,), stride=(1,), bias=False)\n",
      "    )\n",
      "    (1): Block(\n",
      "      (conv1d_0): Conv1d(20, 20, kernel_size=(3,), stride=(1,), padding=(1,), bias=False)\n",
      "      (conv1d_1): Conv1d(20, 20, kernel_size=(3,), stride=(1,), padding=(1,), bias=False)\n",
      "      (relu): ReLU()\n",
      "      (batch_0_0): BatchNorm1d(20, eps=1e-05, momentum=0.1, affine=True, track_running_stats=True)\n",
      "      (batch_0_1): BatchNorm1d(20, eps=1e-05, momentum=0.1, affine=True, track_running_stats=True)\n",
      "      (skip_layer_1): Conv1d(20, 20, kernel_size=(1,), stride=(1,), bias=False)\n",
      "    )\n",
      "    (2): Block(\n",
      "      (conv1d_0): Conv1d(20, 20, kernel_size=(3,), stride=(1,), padding=(1,), bias=False)\n",
      "      (conv1d_1): Conv1d(20, 20, kernel_size=(3,), stride=(1,), padding=(1,), bias=False)\n",
      "      (relu): ReLU()\n",
      "      (batch_0_0): BatchNorm1d(20, eps=1e-05, momentum=0.1, affine=True, track_running_stats=True)\n",
      "      (batch_0_1): BatchNorm1d(20, eps=1e-05, momentum=0.1, affine=True, track_running_stats=True)\n",
      "      (skip_layer_1): Conv1d(20, 20, kernel_size=(1,), stride=(1,), bias=False)\n",
      "    )\n",
      "  )\n",
      ")\n"
     ]
    }
   ],
   "source": [
    "# Let's test it\n",
    "device = torch.device('cuda:0')\n",
    "group = GroupOfBlocks(in_channels=10, out_channels=20, n_blocks=3)\n",
    "print(group)"
   ]
  },
  {
   "cell_type": "code",
   "execution_count": 11,
   "metadata": {},
   "outputs": [],
   "source": [
    "class ResNet(nn.Module):\n",
    "    def __init__(self, n_blocks,in_channels=1, n_channels=64, num_classes=2):\n",
    "        \"\"\"\n",
    "        Args:\n",
    "          n_blocks (list):   A list with three elements which contains the number of blocks in \n",
    "                             each of the three groups of blocks in ResNet.\n",
    "                             For instance, n_blocks = [2, 4, 6] means that the first group has two blocks,\n",
    "                             the second group has four blocks and the third one has six blocks.\n",
    "          n_channels (int):  Number of channels in the first group of blocks.\n",
    "          num_classes (int): Number of classes.\n",
    "        \"\"\"\n",
    "        assert len(n_blocks) == 3, \"The number of groups should be three.\"\n",
    "        super(ResNet, self).__init__()\n",
    "        self.name = 'ResNet'\n",
    "        self.conv1 = nn.Conv1d(in_channels=in_channels, out_channels=n_channels, kernel_size=5, stride=1, padding=2, bias=False)\n",
    "        self.bn1 = nn.BatchNorm1d(n_channels)\n",
    "        self.relu = nn.ReLU(inplace=True)\n",
    "        self.maxpool = nn.MaxPool1d(kernel_size=3, stride=2, padding=1)\n",
    "\n",
    "        groups = []\n",
    "        \"\"\"\n",
    "        for index, block in enumerate(n_blocks):\n",
    "            factor = index\n",
    "            groups.append(GroupOfBlocks(in_channels=2**(factor) * n_channels, \n",
    "                                              out_channels=2**(factor + 1) * n_channels,\n",
    "                                             n_blocks=block))\n",
    "        bp()\n",
    "        self.groups = nn.Sequential(*groups)\n",
    "        \"\"\"\n",
    "        self.group_0 = GroupOfBlocks(in_channels=n_channels, \n",
    "                                              out_channels=2 * n_channels,\n",
    "                                             n_blocks=n_blocks[0])\n",
    "        self.group_1 = GroupOfBlocks(in_channels=2 * n_channels, \n",
    "                                              out_channels=4 * n_channels,\n",
    "                                             n_blocks=n_blocks[1],\n",
    "                                    stride=2)\n",
    "        self.group_2 = GroupOfBlocks(in_channels=4 *  n_channels, \n",
    "                                              out_channels=4 * n_channels,\n",
    "                                             n_blocks=n_blocks[2],\n",
    "                                    stride=2)\n",
    "        self.avgpool = nn.AvgPool1d(kernel_size=2, stride=1)\n",
    "        self.fc = nn.Linear(4*n_channels, num_classes)\n",
    "\n",
    "        # Initialize weights\n",
    "        for m in self.modules():\n",
    "            if isinstance(m, nn.Conv1d):\n",
    "                n = m.kernel_size[0] * m.out_channels\n",
    "                m.weight.data.normal_(0, np.sqrt(2. / n))\n",
    "            elif isinstance(m, nn.BatchNorm1d):\n",
    "                m.weight.data.fill_(1)\n",
    "                m.bias.data.zero_()\n",
    "\n",
    "    def forward(self, x, verbose=False):\n",
    "        x = x.float()\n",
    "        if verbose: print(x.shape)\n",
    "        #bp()\n",
    "        x = self.conv1(x)\n",
    "        if verbose: print('conv1:  ', x.shape)\n",
    "        x = self.bn1(x)\n",
    "        if verbose: print('bn1:    ', x.shape)\n",
    "        x = self.relu(x)\n",
    "        if verbose: print('relu:   ', x.shape)\n",
    "        x = self.maxpool(x)\n",
    "        if verbose: print('maxpool:', x.shape)\n",
    "        #bp()\n",
    "        # x = self.groups(x)\n",
    "        x = self.group_0(x)\n",
    "        x = self.group_1(x)\n",
    "        x = self.group_2(x)\n",
    "        #bp()\n",
    "        x = self.avgpool(x)\n",
    "        if verbose: print('avgpool:', x.shape)\n",
    "\n",
    "        x = x.view(-1, self.fc.in_features)\n",
    "        #x = x.view(h, self.fc.in_features * w)\n",
    "        if verbose: print('x.view: ', x.shape)\n",
    "        x = self.fc(x)\n",
    "        if verbose: print('out:    ', x.shape)\n",
    "\n",
    "        return x"
   ]
  },
  {
   "cell_type": "code",
   "execution_count": 12,
   "metadata": {},
   "outputs": [
    {
     "name": "stdout",
     "output_type": "stream",
     "text": [
      "Shape of the input tensor: torch.Size([522, 2, 13])\n",
      "torch.Size([522, 2, 13])\n",
      "conv1:   torch.Size([522, 10, 13])\n",
      "bn1:     torch.Size([522, 10, 13])\n",
      "relu:    torch.Size([522, 10, 13])\n",
      "maxpool: torch.Size([522, 10, 7])\n",
      "avgpool: torch.Size([522, 40, 1])\n",
      "x.view:  torch.Size([522, 40])\n",
      "out:     torch.Size([522, 2])\n",
      "loss: 0.7010028958320618\n",
      "The shapes seem to be ok.\n"
     ]
    }
   ],
   "source": [
    "# Create a network with 2 block in each of the three groups\n",
    "n_blocks = [2, 2, 2]  # number of blocks in the three groups\n",
    "\n",
    "net = ResNet(n_blocks, in_channels=x_train.shape[1], n_channels=10)\n",
    "net.to(device)\n",
    "criterion = nn.CrossEntropyLoss()\n",
    "\n",
    "with torch.no_grad():\n",
    "    #bp()\n",
    "    input_data = torch.tensor(x_train).float()\n",
    "    labels = torch.tensor(y_train).long()\n",
    "    input_data = input_data.to(device)\n",
    "    labels = labels.to(device)\n",
    "    print('Shape of the input tensor:', input_data.shape)\n",
    "    y = net.forward(input_data, verbose=True)\n",
    "    loss = criterion(y, labels)\n",
    "    print('loss: {}'.format(loss))\n",
    "    assert y.shape == torch.Size([y_train.shape[0], 2]), \"Bad shape of y: y.shape={}\".format(y.shape)\n",
    "\n",
    "print('The shapes seem to be ok.')\n"
   ]
  },
  {
   "cell_type": "code",
   "execution_count": 41,
   "metadata": {
    "scrolled": true
   },
   "outputs": [
    {
     "name": "stdout",
     "output_type": "stream",
     "text": [
      "  epoch    f1_train    f1_val    train_loss    valid_acc    valid_loss     dur\n",
      "-------  ----------  --------  ------------  -----------  ------------  ------\n",
      "      1      \u001b[36m0.3478\u001b[0m    \u001b[32m0.5211\u001b[0m        \u001b[35m1.0537\u001b[0m       \u001b[31m0.3524\u001b[0m       \u001b[94m25.3374\u001b[0m  0.0843\n",
      "      2      \u001b[36m0.4299\u001b[0m    0.3404        \u001b[35m1.0198\u001b[0m       \u001b[31m0.7048\u001b[0m        \u001b[94m0.9920\u001b[0m  0.0864\n",
      "      3      0.3316    0.0000        \u001b[35m0.7134\u001b[0m       0.6476        \u001b[94m0.8122\u001b[0m  0.0861\n",
      "      4      0.2842    0.3404        \u001b[35m0.6562\u001b[0m       0.7048        \u001b[94m0.5983\u001b[0m  0.0835\n",
      "      5      \u001b[36m0.4664\u001b[0m    0.0526        \u001b[35m0.6236\u001b[0m       0.6571        0.6648  0.0819\n"
     ]
    },
    {
     "name": "stderr",
     "output_type": "stream",
     "text": [
      "/home/l7/dev/tools/anaconda3/lib/python3.6/site-packages/sklearn/metrics/classification.py:1135: UndefinedMetricWarning: F-score is ill-defined and being set to 0.0 due to no predicted samples.\n",
      "  'precision', 'predicted', average, warn_for)\n"
     ]
    },
    {
     "name": "stdout",
     "output_type": "stream",
     "text": [
      "      6      0.3981    0.3404        \u001b[35m0.5903\u001b[0m       0.7048        0.6189  0.0893\n",
      "      7      \u001b[36m0.5083\u001b[0m    0.3404        0.5933       0.7048        0.6274  0.0878\n",
      "      8      0.4602    0.3750        \u001b[35m0.5837\u001b[0m       \u001b[31m0.7143\u001b[0m        0.6051  0.0804\n",
      "      9      0.4783    0.3750        0.5924       0.7143        \u001b[94m0.5945\u001b[0m  0.0880\n",
      "     10      0.4716    0.4231        \u001b[35m0.5775\u001b[0m       0.7143        \u001b[94m0.5851\u001b[0m  0.0801\n",
      "     11      0.4936    0.4231        0.5886       0.7143        0.5890  0.0839\n",
      "     12      0.4649    0.4528        \u001b[35m0.5747\u001b[0m       \u001b[31m0.7238\u001b[0m        \u001b[94m0.5831\u001b[0m  0.0870\n",
      "     13      0.4766    0.4528        0.5877       0.7238        0.5837  0.0917\n",
      "     14      0.4762    0.4528        \u001b[35m0.5703\u001b[0m       0.7238        0.5887  0.0866\n",
      "     15      0.4851    0.4528        0.5842       0.7238        0.5969  0.0851\n",
      "     16      0.4696    0.4528        \u001b[35m0.5653\u001b[0m       0.7238        0.6066  0.1417\n",
      "     17      \u001b[36m0.5126\u001b[0m    0.4528        0.5755       0.7238        0.6190  0.1092\n",
      "     18      0.4848    0.4444        \u001b[35m0.5513\u001b[0m       0.7143        0.6247  0.1246\n",
      "     19      \u001b[36m0.5161\u001b[0m    \u001b[32m0.5424\u001b[0m        0.5742       \u001b[31m0.7429\u001b[0m        \u001b[94m0.5596\u001b[0m  0.1054\n",
      "     20      0.5064    0.5172        \u001b[35m0.5303\u001b[0m       0.7333        0.6143  0.0904\n",
      "     21      \u001b[36m0.6335\u001b[0m    0.4906        0.5532       0.7429        0.6339  0.0890\n",
      "     22      0.4525    0.3673        0.5645       0.7048        0.5620  0.0818\n",
      "     23      0.4978    0.4706        0.5591       0.7429        0.6142  0.0853\n",
      "     24      0.5781    0.4400        \u001b[35m0.5258\u001b[0m       0.7333        0.6762  0.0812\n",
      "     25      0.6222    0.4082        \u001b[35m0.5199\u001b[0m       0.7238        0.7196  0.0850\n",
      "     26      \u001b[36m0.6691\u001b[0m    0.5172        \u001b[35m0.4624\u001b[0m       0.7333        \u001b[94m0.5532\u001b[0m  0.0831\n",
      "     27      \u001b[36m0.6990\u001b[0m    0.5172        0.4695       0.7333        0.6611  0.0894\n",
      "     28      0.6343    \u001b[32m0.6452\u001b[0m        0.5178       0.6857        0.5945  0.1200\n",
      "     29      0.6124    0.6444        0.4955       0.6952        0.5918  0.1136\n",
      "     30      0.6667    0.1905        0.4973       0.6762        0.7901  0.0915\n",
      "     31      0.6957    0.0000        0.4670       0.6476        1.3529  0.0833\n",
      "     32      \u001b[36m0.7038\u001b[0m    0.3830        \u001b[35m0.4392\u001b[0m       0.7238        0.7339  0.0832\n"
     ]
    },
    {
     "name": "stderr",
     "output_type": "stream",
     "text": [
      "/home/l7/dev/tools/anaconda3/lib/python3.6/site-packages/sklearn/metrics/classification.py:1135: UndefinedMetricWarning: F-score is ill-defined and being set to 0.0 due to no predicted samples.\n",
      "  'precision', 'predicted', average, warn_for)\n"
     ]
    },
    {
     "name": "stdout",
     "output_type": "stream",
     "text": [
      "     33      \u001b[36m0.7105\u001b[0m    0.4946        \u001b[35m0.4381\u001b[0m       0.5524        0.6732  0.1049\n",
      "     34      0.6945    \u001b[32m0.6667\u001b[0m        0.4583       0.7429        0.5677  0.1206\n",
      "     35      0.6765    0.5000        0.4532       0.6381        0.7028  0.1221\n",
      "     36      \u001b[36m0.7386\u001b[0m    \u001b[32m0.7045\u001b[0m        \u001b[35m0.4255\u001b[0m       \u001b[31m0.7524\u001b[0m        \u001b[94m0.5390\u001b[0m  0.1090\n",
      "     37      0.7157    0.4673        0.4343       0.4571        0.7631  0.0932\n",
      "     38      0.5370    0.6173        0.5332       0.7048        \u001b[94m0.5365\u001b[0m  0.0909\n",
      "     39      0.6090    0.1026        0.5066       0.6667        0.6954  0.0940\n",
      "     40      0.6444    0.1500        0.4633       0.6762        1.2805  0.1163\n",
      "     41      0.6899    0.0526        0.4520       0.6571        0.7696  0.1082\n",
      "     42      0.7099    0.6885        0.4359       \u001b[31m0.8190\u001b[0m        \u001b[94m0.5170\u001b[0m  0.0987\n",
      "     43      0.7279    0.6835        \u001b[35m0.4201\u001b[0m       0.7619        0.5794  0.0830\n",
      "     44      0.6758    0.5938        0.4417       0.7524        0.5950  0.0925\n",
      "     45      \u001b[36m0.7582\u001b[0m    0.6355        \u001b[35m0.3998\u001b[0m       0.6286        0.6403  0.0816\n",
      "     46      0.7338    0.5806        \u001b[35m0.3948\u001b[0m       0.7524        0.5356  0.0904\n",
      "     47      0.7314    0.5977        0.4007       0.6667        0.6036  0.1206\n",
      "     48      \u001b[36m0.7625\u001b[0m    0.5000        \u001b[35m0.3811\u001b[0m       0.5810        0.8673  0.1189\n",
      "     49      0.6691    0.5600        0.4077       0.6857        0.7858  0.1072\n",
      "     50      0.7048    0.5393        0.4635       0.6095        1.6023  0.0800\n",
      "     51      0.6786    0.6600        0.4322       0.6762        0.6222  0.0858\n",
      "     52      \u001b[36m0.7732\u001b[0m    0.6897        0.3996       0.7429        0.5394  0.1077\n",
      "     53      0.7292    0.6905        \u001b[35m0.3647\u001b[0m       0.7524        0.5439  0.1223\n",
      "     54      0.7688    0.0000        0.4002       0.6476        1.2046  0.1252\n",
      "     55      0.7090    0.5185        0.3753       0.7524        0.7251  0.0927\n"
     ]
    },
    {
     "name": "stderr",
     "output_type": "stream",
     "text": [
      "/home/l7/dev/tools/anaconda3/lib/python3.6/site-packages/sklearn/metrics/classification.py:1135: UndefinedMetricWarning: F-score is ill-defined and being set to 0.0 due to no predicted samples.\n",
      "  'precision', 'predicted', average, warn_for)\n"
     ]
    },
    {
     "name": "stdout",
     "output_type": "stream",
     "text": [
      "     56      \u001b[36m0.7754\u001b[0m    0.5455        \u001b[35m0.3632\u001b[0m       0.7619        0.7124  0.0814\n",
      "     57      0.6692    0.4906        0.3742       0.7429        0.8825  0.0890\n",
      "     58      \u001b[36m0.7877\u001b[0m    0.4314        \u001b[35m0.3407\u001b[0m       0.7238        1.0822  0.0977\n",
      "     59      0.7619    0.6769        \u001b[35m0.3378\u001b[0m       0.8000        0.7876  0.1435\n",
      "     60      0.7448    0.4800        0.4004       0.7524        0.9613  0.1449\n",
      "     61      0.7042    0.0526        0.4329       0.6571        1.0757  0.0864\n",
      "     62      0.6824    0.6667        0.4495       0.7524        0.6722  0.0958\n",
      "     63      0.7235    0.6333        0.4364       0.7905        0.5704  0.1247\n",
      "     64      0.7153    \u001b[32m0.7250\u001b[0m        0.3861       0.7905        0.5771  0.1363\n",
      "     65      0.7460    0.2667        0.3879       0.6857        0.8073  0.0864\n",
      "     66      0.7011    0.5614        0.3983       0.7619        0.7135  0.0905\n",
      "     67      0.7640    0.4490        0.4391       0.7429        0.8931  0.1331\n",
      "     68      0.7234    0.4615        0.3706       0.7333        0.6430  0.1359\n",
      "     69      0.7682    0.5455        0.3492       0.7619        0.6217  0.1446\n",
      "     70      0.7859    \u001b[32m0.7467\u001b[0m        0.3621       0.8190        0.5251  0.1030\n",
      "Accuracy of Net: 0.81\n",
      "\n",
      "Classification report:\n",
      "             precision    recall  f1-score   support\n",
      "\n",
      "          0       0.85      0.85      0.85       340\n",
      "          1       0.72      0.72      0.72       182\n",
      "\n",
      "avg / total       0.81      0.81      0.81       522\n",
      "\n",
      "Accuracy of Net: 0.78\n",
      "\n",
      "Classification report:\n",
      "             precision    recall  f1-score   support\n",
      "\n",
      "          0       0.83      0.82      0.83       113\n",
      "          1       0.69      0.70      0.70        64\n",
      "\n",
      "avg / total       0.78      0.78      0.78       177\n",
      "\n"
     ]
    },
    {
     "data": {
      "text/plain": [
       "<Figure size 432x288 with 0 Axes>"
      ]
     },
     "metadata": {},
     "output_type": "display_data"
    },
    {
     "data": {
      "image/png": "[encoded data removed]",
      "text/plain": [
       "<Figure size 288x288 with 1 Axes>"
      ]
     },
     "metadata": {},
     "output_type": "display_data"
    },
    {
     "data": {
      "text/plain": [
       "<Figure size 432x288 with 0 Axes>"
      ]
     },
     "metadata": {},
     "output_type": "display_data"
    },
    {
     "data": {
      "image/png": "[encoded data removed]",
      "text/plain": [
       "<Figure size 288x288 with 1 Axes>"
      ]
     },
     "metadata": {},
     "output_type": "display_data"
    }
   ],
   "source": [
    "model = None\n",
    "model_name = ResNet.__name__\n",
    "noise_training = False\n",
    "#n_channels = x_train.shape[1]\n",
    "#n_features = x_train.shape[2]\n",
    "device = torch.device('cuda:0')\n",
    "accuracy_epoch_scoring_val = EpochScoring(scoring='f1',name='f1_val', lower_is_better=False, on_train=False)\n",
    "accuracy_epoch_scoring_train = EpochScoring(scoring='f1',name='f1_train', lower_is_better=False, on_train=True)\n",
    "n_blocks = [2, 2, 2]  # number of blocks in the three groups\n",
    "in_channels=x_train.shape[1]\n",
    "n_channels = 64\n",
    "n_epochs = 70\n",
    "model = NeuralNetClassifier(module=ResNet, criterion=nn.CrossEntropyLoss,\n",
    "                          module__n_channels= n_channels,\n",
    "                          module__n_blocks=n_blocks,\n",
    "                          module__in_channels=in_channels,\n",
    "                          optimizer=optim.Adam, \n",
    "                          optimizer__lr=0.01,\n",
    "                          #optimizer__weight_decay=0.01,\n",
    "                          max_epochs=n_epochs, \n",
    "                          batch_size=100,\n",
    "                          iterator_train__shuffle=False,\n",
    "                          device=device,\n",
    "                          warm_start=True,#train_split=None,\n",
    "                          callbacks=[accuracy_epoch_scoring_val, accuracy_epoch_scoring_train],\n",
    "                         )\n",
    "if noise_training:\n",
    "    noise_rounds = 10\n",
    "    for _ in range(noise_rounds):\n",
    "        x_noise = add_noise(x_train, noise_distribution=np.random.rayleigh, std=np.random.uniform(0,0.5))\n",
    "        #x_noise = add_noise(x)\n",
    "        model.partial_fit(x_noise, y_train)\n",
    "else:\n",
    "    model.fit(x_train, y_train)\n",
    "\n",
    "pred_test = model.predict(x_train)  # Predict labels of test data using the trained classifier\n",
    "accuracy_of_net = plot_confusion_matrix(pred_test, y_train, prefix_information=model_name,\n",
    "                          dataset_name='train', save_results=False,\n",
    "                     y_pred_is_predicted_classes=True)    \n",
    "\n",
    "pred_test = model.predict(x_val)  # Predict labels of test data using the trained classifier\n",
    "accuracy_of_net = plot_confusion_matrix(pred_test, y_val, prefix_information='ResNet',\n",
    "                          dataset_name='', save_results=False,\n",
    "                     y_pred_is_predicted_classes=True)\n",
    "\n",
    "\n"
   ]
  },
  {
   "cell_type": "code",
   "execution_count": 43,
   "metadata": {},
   "outputs": [
    {
     "name": "stdout",
     "output_type": "stream",
     "text": [
      "Accuracy of Net: 0.81\n",
      "\n",
      "Classification report:\n",
      "             precision    recall  f1-score   support\n",
      "\n",
      "          0       0.85      0.85      0.85       340\n",
      "          1       0.72      0.72      0.72       182\n",
      "\n",
      "avg / total       0.81      0.81      0.81       522\n",
      "\n",
      "Accuracy of Net: 0.78\n",
      "\n",
      "Classification report:\n",
      "             precision    recall  f1-score   support\n",
      "\n",
      "          0       0.83      0.82      0.83       113\n",
      "          1       0.69      0.70      0.70        64\n",
      "\n",
      "avg / total       0.78      0.78      0.78       177\n",
      "\n"
     ]
    },
    {
     "data": {
      "text/plain": [
       "<Figure size 432x288 with 0 Axes>"
      ]
     },
     "metadata": {},
     "output_type": "display_data"
    },
    {
     "data": {
      "image/png": "[encoded data removed]",
      "text/plain": [
       "<Figure size 288x288 with 1 Axes>"
      ]
     },
     "metadata": {},
     "output_type": "display_data"
    },
    {
     "data": {
      "text/plain": [
       "<Figure size 432x288 with 0 Axes>"
      ]
     },
     "metadata": {},
     "output_type": "display_data"
    },
    {
     "data": {
      "image/png": "[encoded data removed]",
      "text/plain": [
       "<Figure size 288x288 with 1 Axes>"
      ]
     },
     "metadata": {},
     "output_type": "display_data"
    }
   ],
   "source": [
    "pred_test = model.predict(x_train)  # Predict labels of test data using the trained classifier\n",
    "accuracy_of_net = plot_confusion_matrix(pred_test, y_train, prefix_information=model_name,\n",
    "                          dataset_name='train', save_results=False,\n",
    "                     y_pred_is_predicted_classes=True)    \n",
    "\n",
    "plt.savefig(fname='latex/figures/' + 'ResNet_Training_results' + '.pdf', format='pdf', dpi=300)\n",
    "\n",
    "pred_test = model.predict(x_val)  # Predict labels of test data using the trained classifier\n",
    "accuracy_of_net = plot_confusion_matrix(pred_test, y_val, prefix_information='ResNet',\n",
    "                          dataset_name='', save_results=False,\n",
    "                     y_pred_is_predicted_classes=True)\n",
    "plt.savefig(fname='latex/figures/' + 'ResNet_Test_results' + '.pdf', format='pdf', dpi=300)"
   ]
  },
  {
   "cell_type": "markdown",
   "metadata": {},
   "source": [
    "### Hyper Parameter Optimization"
   ]
  },
  {
   "cell_type": "code",
   "execution_count": 61,
   "metadata": {},
   "outputs": [
    {
     "name": "stdout",
     "output_type": "stream",
     "text": [
      "{'module__n_blocks': [array([7, 2, 9]), array([5, 5, 7]), array([8, 5, 2]), array([5, 9, 5]), array([9, 6, 5]), array([5, 9, 8]), array([5, 7, 3]), array([2, 8, 3]), array([2, 2, 9]), array([3, 2, 4]), array([8, 9, 7]), array([9, 4, 7]), array([2, 8, 3]), array([7, 8, 5]), array([8, 8, 5]), array([3, 4, 7]), array([9, 3, 3]), array([7, 9, 7]), array([6, 4, 5]), array([7, 3, 4])]}\n"
     ]
    }
   ],
   "source": [
    "M = 20\n",
    "optimizer__lr= np.random.uniform(2e-2, 1e-3, M)\n",
    "weight_decay = np.random.uniform(1e-2,0.3 , M)\n",
    "optimizer__weight_decay = np.random.uniform(1e-2,0.3 , M)\n",
    "max_epochs = np.random.randint(2, 100, M)\n",
    "n_blocks = [np.random.randint(2, 10, size=3) for _ in range(M)]\n",
    "batch_size = [4, 10, 20, 50, 100, 200]\n",
    "optimizers = (optim.SGD, optim.Adam)\n",
    "parameters = {#'optimizer__lr': optimizer__lr, \n",
    "    #'optimizer': optimizers, \n",
    "    #'optimizer__weight_decay': optimizer__weight_decay,\n",
    "    #'max_epochs': max_epochs\n",
    "    'module__n_blocks': n_blocks,\n",
    "}\n",
    "print(parameters)"
   ]
  },
  {
   "cell_type": "code",
   "execution_count": 62,
   "metadata": {
    "scrolled": true
   },
   "outputs": [
    {
     "name": "stdout",
     "output_type": "stream",
     "text": [
      "  epoch      f1    train_loss    valid_acc    valid_loss     dur\n",
      "-------  ------  ------------  -----------  ------------  ------\n",
      "      1  \u001b[36m0.0650\u001b[0m        \u001b[32m0.5779\u001b[0m       \u001b[35m0.7850\u001b[0m        \u001b[31m0.5140\u001b[0m  0.6612\n",
      "      2  0.0650        \u001b[32m0.5504\u001b[0m       0.7850        \u001b[31m0.5068\u001b[0m  0.6258\n",
      "      3  0.0000        \u001b[32m0.5318\u001b[0m       0.7794        0.5183  0.6157\n"
     ]
    },
    {
     "name": "stderr",
     "output_type": "stream",
     "text": [
      "/home/l7/dev/tools/anaconda3/lib/python3.6/site-packages/sklearn/metrics/classification.py:1135: UndefinedMetricWarning: F-score is ill-defined and being set to 0.0 due to no predicted samples.\n",
      "  'precision', 'predicted', average, warn_for)\n"
     ]
    },
    {
     "name": "stdout",
     "output_type": "stream",
     "text": [
      "      4  0.0000        \u001b[32m0.5108\u001b[0m       0.7794        0.5083  0.6184\n"
     ]
    },
    {
     "name": "stderr",
     "output_type": "stream",
     "text": [
      "/home/l7/dev/tools/anaconda3/lib/python3.6/site-packages/sklearn/metrics/classification.py:1135: UndefinedMetricWarning: F-score is ill-defined and being set to 0.0 due to no predicted samples.\n",
      "  'precision', 'predicted', average, warn_for)\n"
     ]
    },
    {
     "name": "stdout",
     "output_type": "stream",
     "text": [
      "      5  0.0000        0.5144       0.7794        0.5134  0.6243\n"
     ]
    },
    {
     "name": "stderr",
     "output_type": "stream",
     "text": [
      "/home/l7/dev/tools/anaconda3/lib/python3.6/site-packages/sklearn/metrics/classification.py:1135: UndefinedMetricWarning: F-score is ill-defined and being set to 0.0 due to no predicted samples.\n",
      "  'precision', 'predicted', average, warn_for)\n"
     ]
    },
    {
     "name": "stdout",
     "output_type": "stream",
     "text": [
      "      6  0.0000        0.5117       0.7794        0.5114  0.6202\n"
     ]
    },
    {
     "name": "stderr",
     "output_type": "stream",
     "text": [
      "/home/l7/dev/tools/anaconda3/lib/python3.6/site-packages/sklearn/metrics/classification.py:1135: UndefinedMetricWarning: F-score is ill-defined and being set to 0.0 due to no predicted samples.\n",
      "  'precision', 'predicted', average, warn_for)\n"
     ]
    },
    {
     "name": "stdout",
     "output_type": "stream",
     "text": [
      "      7  0.0000        0.5118       0.7794        0.5141  0.6219\n"
     ]
    },
    {
     "name": "stderr",
     "output_type": "stream",
     "text": [
      "/home/l7/dev/tools/anaconda3/lib/python3.6/site-packages/sklearn/metrics/classification.py:1135: UndefinedMetricWarning: F-score is ill-defined and being set to 0.0 due to no predicted samples.\n",
      "  'precision', 'predicted', average, warn_for)\n"
     ]
    },
    {
     "name": "stdout",
     "output_type": "stream",
     "text": [
      "      8  0.0000        \u001b[32m0.5069\u001b[0m       0.7794        0.5092  0.6203\n"
     ]
    },
    {
     "name": "stderr",
     "output_type": "stream",
     "text": [
      "/home/l7/dev/tools/anaconda3/lib/python3.6/site-packages/sklearn/metrics/classification.py:1135: UndefinedMetricWarning: F-score is ill-defined and being set to 0.0 due to no predicted samples.\n",
      "  'precision', 'predicted', average, warn_for)\n"
     ]
    },
    {
     "name": "stdout",
     "output_type": "stream",
     "text": [
      "      9  0.0000        \u001b[32m0.5046\u001b[0m       0.7794        0.5081  0.6214\n"
     ]
    },
    {
     "name": "stderr",
     "output_type": "stream",
     "text": [
      "/home/l7/dev/tools/anaconda3/lib/python3.6/site-packages/sklearn/metrics/classification.py:1135: UndefinedMetricWarning: F-score is ill-defined and being set to 0.0 due to no predicted samples.\n",
      "  'precision', 'predicted', average, warn_for)\n"
     ]
    },
    {
     "name": "stdout",
     "output_type": "stream",
     "text": [
      "     10  0.0000        \u001b[32m0.5044\u001b[0m       0.7794        \u001b[31m0.5052\u001b[0m  0.6251\n"
     ]
    },
    {
     "name": "stderr",
     "output_type": "stream",
     "text": [
      "/home/l7/dev/tools/anaconda3/lib/python3.6/site-packages/sklearn/metrics/classification.py:1135: UndefinedMetricWarning: F-score is ill-defined and being set to 0.0 due to no predicted samples.\n",
      "  'precision', 'predicted', average, warn_for)\n"
     ]
    },
    {
     "name": "stdout",
     "output_type": "stream",
     "text": [
      "     11  0.0000        \u001b[32m0.5005\u001b[0m       0.7794        \u001b[31m0.5014\u001b[0m  0.6190\n"
     ]
    },
    {
     "name": "stderr",
     "output_type": "stream",
     "text": [
      "/home/l7/dev/tools/anaconda3/lib/python3.6/site-packages/sklearn/metrics/classification.py:1135: UndefinedMetricWarning: F-score is ill-defined and being set to 0.0 due to no predicted samples.\n",
      "  'precision', 'predicted', average, warn_for)\n"
     ]
    },
    {
     "name": "stdout",
     "output_type": "stream",
     "text": [
      "     12  0.0000        \u001b[32m0.4948\u001b[0m       0.7794        0.5115  0.6201\n"
     ]
    },
    {
     "name": "stderr",
     "output_type": "stream",
     "text": [
      "/home/l7/dev/tools/anaconda3/lib/python3.6/site-packages/sklearn/metrics/classification.py:1135: UndefinedMetricWarning: F-score is ill-defined and being set to 0.0 due to no predicted samples.\n",
      "  'precision', 'predicted', average, warn_for)\n"
     ]
    },
    {
     "name": "stdout",
     "output_type": "stream",
     "text": [
      "     13  0.0000        0.5007       0.7794        0.5027  0.6241\n"
     ]
    },
    {
     "name": "stderr",
     "output_type": "stream",
     "text": [
      "/home/l7/dev/tools/anaconda3/lib/python3.6/site-packages/sklearn/metrics/classification.py:1135: UndefinedMetricWarning: F-score is ill-defined and being set to 0.0 due to no predicted samples.\n",
      "  'precision', 'predicted', average, warn_for)\n"
     ]
    },
    {
     "name": "stdout",
     "output_type": "stream",
     "text": [
      "     14  0.0000        0.4977       0.7794        \u001b[31m0.4962\u001b[0m  0.6193\n"
     ]
    },
    {
     "name": "stderr",
     "output_type": "stream",
     "text": [
      "/home/l7/dev/tools/anaconda3/lib/python3.6/site-packages/sklearn/metrics/classification.py:1135: UndefinedMetricWarning: F-score is ill-defined and being set to 0.0 due to no predicted samples.\n",
      "  'precision', 'predicted', average, warn_for)\n"
     ]
    },
    {
     "name": "stdout",
     "output_type": "stream",
     "text": [
      "     15  0.0000        \u001b[32m0.4947\u001b[0m       0.7794        \u001b[31m0.4950\u001b[0m  0.6193\n"
     ]
    },
    {
     "name": "stderr",
     "output_type": "stream",
     "text": [
      "/home/l7/dev/tools/anaconda3/lib/python3.6/site-packages/sklearn/metrics/classification.py:1135: UndefinedMetricWarning: F-score is ill-defined and being set to 0.0 due to no predicted samples.\n",
      "  'precision', 'predicted', average, warn_for)\n"
     ]
    },
    {
     "name": "stdout",
     "output_type": "stream",
     "text": [
      "     16  \u001b[36m0.3396\u001b[0m        \u001b[32m0.4830\u001b[0m       0.7383        0.5268  0.6213\n",
      "     17  0.0800        0.4872       0.7850        \u001b[31m0.4910\u001b[0m  0.6177\n",
      "     18  \u001b[36m0.4583\u001b[0m        \u001b[32m0.4792\u001b[0m       0.7570        0.5182  0.6163\n",
      "     19  0.0000        \u001b[32m0.4646\u001b[0m       0.7794        \u001b[31m0.4867\u001b[0m  0.6151\n"
     ]
    },
    {
     "name": "stderr",
     "output_type": "stream",
     "text": [
      "/home/l7/dev/tools/anaconda3/lib/python3.6/site-packages/sklearn/metrics/classification.py:1135: UndefinedMetricWarning: F-score is ill-defined and being set to 0.0 due to no predicted samples.\n",
      "  'precision', 'predicted', average, warn_for)\n"
     ]
    },
    {
     "name": "stdout",
     "output_type": "stream",
     "text": [
      "     20  0.4059        0.4812       0.7757        \u001b[31m0.4834\u001b[0m  0.6249\n",
      "  epoch      f1    train_loss    valid_acc    valid_loss     dur\n",
      "-------  ------  ------------  -----------  ------------  ------\n",
      "      1  \u001b[36m0.0513\u001b[0m        \u001b[32m0.5838\u001b[0m       \u001b[35m0.7925\u001b[0m        \u001b[31m0.5173\u001b[0m  0.6153\n",
      "      2  \u001b[36m0.0661\u001b[0m        \u001b[32m0.5052\u001b[0m       0.7888        \u001b[31m0.5059\u001b[0m  0.6190\n",
      "      3  \u001b[36m0.2113\u001b[0m        \u001b[32m0.5000\u001b[0m       0.7907        0.5127  0.6193\n",
      "      4  \u001b[36m0.2368\u001b[0m        \u001b[32m0.4975\u001b[0m       0.7832        0.5195  0.6191\n",
      "      5  \u001b[36m0.2692\u001b[0m        \u001b[32m0.4958\u001b[0m       0.7869        0.5243  0.6182\n",
      "      6  0.2500        \u001b[32m0.4938\u001b[0m       0.7869        0.5194  0.6177\n",
      "      7  0.2675        \u001b[32m0.4932\u001b[0m       0.7850        0.5241  0.6193\n",
      "      8  0.2692        \u001b[32m0.4900\u001b[0m       0.7869        0.5135  0.7101\n",
      "      9  0.2675        \u001b[32m0.4855\u001b[0m       0.7850        0.5171  0.7245\n",
      "     10  0.0504        0.4957       0.7888        0.5082  0.6750\n",
      "     11  0.0000        0.4916       0.7888        \u001b[31m0.4960\u001b[0m  0.7171\n"
     ]
    },
    {
     "name": "stderr",
     "output_type": "stream",
     "text": [
      "/home/l7/dev/tools/anaconda3/lib/python3.6/site-packages/sklearn/metrics/classification.py:1135: UndefinedMetricWarning: F-score is ill-defined and being set to 0.0 due to no predicted samples.\n",
      "  'precision', 'predicted', average, warn_for)\n"
     ]
    },
    {
     "name": "stdout",
     "output_type": "stream",
     "text": [
      "     12  0.1940        \u001b[32m0.4828\u001b[0m       \u001b[35m0.7981\u001b[0m        \u001b[31m0.4836\u001b[0m  0.7438\n",
      "     13  0.0826        0.4947       0.7925        0.5122  0.6333\n",
      "     14  0.0000        \u001b[32m0.4780\u001b[0m       0.7888        0.5301  0.7312\n"
     ]
    },
    {
     "name": "stderr",
     "output_type": "stream",
     "text": [
      "/home/l7/dev/tools/anaconda3/lib/python3.6/site-packages/sklearn/metrics/classification.py:1135: UndefinedMetricWarning: F-score is ill-defined and being set to 0.0 due to no predicted samples.\n",
      "  'precision', 'predicted', average, warn_for)\n"
     ]
    },
    {
     "name": "stdout",
     "output_type": "stream",
     "text": [
      "     15  \u001b[36m0.3886\u001b[0m        0.4830       \u001b[35m0.8000\u001b[0m        0.4911  0.7143\n",
      "     16  0.2877        \u001b[32m0.4621\u001b[0m       \u001b[35m0.8056\u001b[0m        \u001b[31m0.4779\u001b[0m  0.7116\n",
      "     17  0.2714        \u001b[32m0.4614\u001b[0m       \u001b[35m0.8093\u001b[0m        \u001b[31m0.4654\u001b[0m  0.6419\n",
      "     18  \u001b[36m0.4022\u001b[0m        \u001b[32m0.4526\u001b[0m       0.8000        0.4670  0.7504\n",
      "     19  0.0968        0.4586       0.7907        0.4774  0.6275\n",
      "     20  0.0833        \u001b[32m0.4426\u001b[0m       0.7944        \u001b[31m0.4588\u001b[0m  0.6222\n",
      "  epoch      f1    train_loss    valid_acc    valid_loss     dur\n",
      "-------  ------  ------------  -----------  ------------  ------\n",
      "      1  \u001b[36m0.0678\u001b[0m        \u001b[32m0.6014\u001b[0m       \u001b[35m0.7944\u001b[0m        \u001b[31m0.5163\u001b[0m  0.6319\n",
      "      2  0.0000        \u001b[32m0.5097\u001b[0m       0.7925        \u001b[31m0.5103\u001b[0m  0.7586\n"
     ]
    },
    {
     "name": "stderr",
     "output_type": "stream",
     "text": [
      "/home/l7/dev/tools/anaconda3/lib/python3.6/site-packages/sklearn/metrics/classification.py:1135: UndefinedMetricWarning: F-score is ill-defined and being set to 0.0 due to no predicted samples.\n",
      "  'precision', 'predicted', average, warn_for)\n"
     ]
    },
    {
     "name": "stdout",
     "output_type": "stream",
     "text": [
      "      3  0.0000        0.5142       0.7925        \u001b[31m0.4980\u001b[0m  0.6448\n"
     ]
    },
    {
     "name": "stderr",
     "output_type": "stream",
     "text": [
      "/home/l7/dev/tools/anaconda3/lib/python3.6/site-packages/sklearn/metrics/classification.py:1135: UndefinedMetricWarning: F-score is ill-defined and being set to 0.0 due to no predicted samples.\n",
      "  'precision', 'predicted', average, warn_for)\n"
     ]
    },
    {
     "name": "stdout",
     "output_type": "stream",
     "text": [
      "      4  0.0000        \u001b[32m0.4963\u001b[0m       0.7925        \u001b[31m0.4974\u001b[0m  0.6870\n"
     ]
    },
    {
     "name": "stderr",
     "output_type": "stream",
     "text": [
      "/home/l7/dev/tools/anaconda3/lib/python3.6/site-packages/sklearn/metrics/classification.py:1135: UndefinedMetricWarning: F-score is ill-defined and being set to 0.0 due to no predicted samples.\n",
      "  'precision', 'predicted', average, warn_for)\n"
     ]
    },
    {
     "name": "stdout",
     "output_type": "stream",
     "text": [
      "      5  0.0000        \u001b[32m0.4955\u001b[0m       0.7925        0.4988  0.6236\n"
     ]
    },
    {
     "name": "stderr",
     "output_type": "stream",
     "text": [
      "/home/l7/dev/tools/anaconda3/lib/python3.6/site-packages/sklearn/metrics/classification.py:1135: UndefinedMetricWarning: F-score is ill-defined and being set to 0.0 due to no predicted samples.\n",
      "  'precision', 'predicted', average, warn_for)\n"
     ]
    },
    {
     "name": "stdout",
     "output_type": "stream",
     "text": [
      "      6  0.0000        \u001b[32m0.4913\u001b[0m       0.7925        \u001b[31m0.4954\u001b[0m  0.6213\n"
     ]
    },
    {
     "name": "stderr",
     "output_type": "stream",
     "text": [
      "/home/l7/dev/tools/anaconda3/lib/python3.6/site-packages/sklearn/metrics/classification.py:1135: UndefinedMetricWarning: F-score is ill-defined and being set to 0.0 due to no predicted samples.\n",
      "  'precision', 'predicted', average, warn_for)\n"
     ]
    },
    {
     "name": "stdout",
     "output_type": "stream",
     "text": [
      "      7  0.0000        \u001b[32m0.4860\u001b[0m       0.7925        0.4966  0.6221\n"
     ]
    },
    {
     "name": "stderr",
     "output_type": "stream",
     "text": [
      "/home/l7/dev/tools/anaconda3/lib/python3.6/site-packages/sklearn/metrics/classification.py:1135: UndefinedMetricWarning: F-score is ill-defined and being set to 0.0 due to no predicted samples.\n",
      "  'precision', 'predicted', average, warn_for)\n"
     ]
    },
    {
     "name": "stdout",
     "output_type": "stream",
     "text": [
      "      8  0.0000        \u001b[32m0.4836\u001b[0m       0.7925        \u001b[31m0.4948\u001b[0m  0.6279\n"
     ]
    },
    {
     "name": "stderr",
     "output_type": "stream",
     "text": [
      "/home/l7/dev/tools/anaconda3/lib/python3.6/site-packages/sklearn/metrics/classification.py:1135: UndefinedMetricWarning: F-score is ill-defined and being set to 0.0 due to no predicted samples.\n",
      "  'precision', 'predicted', average, warn_for)\n"
     ]
    },
    {
     "name": "stdout",
     "output_type": "stream",
     "text": [
      "      9  0.0000        \u001b[32m0.4792\u001b[0m       0.7925        \u001b[31m0.4827\u001b[0m  0.6309\n"
     ]
    },
    {
     "name": "stderr",
     "output_type": "stream",
     "text": [
      "/home/l7/dev/tools/anaconda3/lib/python3.6/site-packages/sklearn/metrics/classification.py:1135: UndefinedMetricWarning: F-score is ill-defined and being set to 0.0 due to no predicted samples.\n",
      "  'precision', 'predicted', average, warn_for)\n"
     ]
    },
    {
     "name": "stdout",
     "output_type": "stream",
     "text": [
      "     10  0.0000        0.4812       0.7925        0.4857  0.6997\n"
     ]
    },
    {
     "name": "stderr",
     "output_type": "stream",
     "text": [
      "/home/l7/dev/tools/anaconda3/lib/python3.6/site-packages/sklearn/metrics/classification.py:1135: UndefinedMetricWarning: F-score is ill-defined and being set to 0.0 due to no predicted samples.\n",
      "  'precision', 'predicted', average, warn_for)\n"
     ]
    },
    {
     "name": "stdout",
     "output_type": "stream",
     "text": [
      "     11  0.0000        0.4812       0.7925        0.4935  0.6818\n"
     ]
    },
    {
     "name": "stderr",
     "output_type": "stream",
     "text": [
      "/home/l7/dev/tools/anaconda3/lib/python3.6/site-packages/sklearn/metrics/classification.py:1135: UndefinedMetricWarning: F-score is ill-defined and being set to 0.0 due to no predicted samples.\n",
      "  'precision', 'predicted', average, warn_for)\n"
     ]
    },
    {
     "name": "stdout",
     "output_type": "stream",
     "text": [
      "     12  0.0000        \u001b[32m0.4626\u001b[0m       0.7925        0.4986  0.6763\n"
     ]
    },
    {
     "name": "stderr",
     "output_type": "stream",
     "text": [
      "/home/l7/dev/tools/anaconda3/lib/python3.6/site-packages/sklearn/metrics/classification.py:1135: UndefinedMetricWarning: F-score is ill-defined and being set to 0.0 due to no predicted samples.\n",
      "  'precision', 'predicted', average, warn_for)\n"
     ]
    },
    {
     "name": "stdout",
     "output_type": "stream",
     "text": [
      "     13  0.0351        \u001b[32m0.4606\u001b[0m       0.7944        \u001b[31m0.4776\u001b[0m  0.6519\n",
      "     14  0.0351        \u001b[32m0.4464\u001b[0m       0.7944        0.4898  0.7056\n",
      "     15  0.0522        \u001b[32m0.4382\u001b[0m       \u001b[35m0.7963\u001b[0m        0.4970  0.6985\n",
      "     16  0.0000        \u001b[32m0.4333\u001b[0m       0.7925        0.5692  0.6585\n"
     ]
    },
    {
     "name": "stderr",
     "output_type": "stream",
     "text": [
      "/home/l7/dev/tools/anaconda3/lib/python3.6/site-packages/sklearn/metrics/classification.py:1135: UndefinedMetricWarning: F-score is ill-defined and being set to 0.0 due to no predicted samples.\n",
      "  'precision', 'predicted', average, warn_for)\n"
     ]
    },
    {
     "name": "stdout",
     "output_type": "stream",
     "text": [
      "     17  \u001b[36m0.1587\u001b[0m        \u001b[32m0.4257\u001b[0m       \u001b[35m0.8019\u001b[0m        \u001b[31m0.4411\u001b[0m  0.6330\n",
      "     18  0.0351        \u001b[32m0.4172\u001b[0m       0.7944        0.4981  0.6324\n",
      "     19  \u001b[36m0.4114\u001b[0m        0.4198       \u001b[35m0.8075\u001b[0m        0.5208  0.6353\n",
      "     20  0.0522        \u001b[32m0.4101\u001b[0m       0.7963        0.5210  0.7336\n",
      "  epoch      f1    train_loss    valid_acc    valid_loss     dur\n",
      "-------  ------  ------------  -----------  ------------  ------\n",
      "      1  \u001b[36m0.0656\u001b[0m        \u001b[32m0.6101\u001b[0m       \u001b[35m0.7869\u001b[0m        \u001b[31m0.5348\u001b[0m  0.5521\n",
      "      2  \u001b[36m0.1765\u001b[0m        \u001b[32m0.5629\u001b[0m       \u001b[35m0.7907\u001b[0m        \u001b[31m0.5046\u001b[0m  0.6015\n",
      "      3  0.0000        \u001b[32m0.5424\u001b[0m       0.7794        0.5157  0.5833\n"
     ]
    },
    {
     "name": "stderr",
     "output_type": "stream",
     "text": [
      "/home/l7/dev/tools/anaconda3/lib/python3.6/site-packages/sklearn/metrics/classification.py:1135: UndefinedMetricWarning: F-score is ill-defined and being set to 0.0 due to no predicted samples.\n",
      "  'precision', 'predicted', average, warn_for)\n"
     ]
    },
    {
     "name": "stdout",
     "output_type": "stream",
     "text": [
      "      4  0.0000        \u001b[32m0.5237\u001b[0m       0.7794        0.5117  0.6120\n"
     ]
    },
    {
     "name": "stderr",
     "output_type": "stream",
     "text": [
      "/home/l7/dev/tools/anaconda3/lib/python3.6/site-packages/sklearn/metrics/classification.py:1135: UndefinedMetricWarning: F-score is ill-defined and being set to 0.0 due to no predicted samples.\n",
      "  'precision', 'predicted', average, warn_for)\n"
     ]
    },
    {
     "name": "stdout",
     "output_type": "stream",
     "text": [
      "      5  0.0000        \u001b[32m0.5163\u001b[0m       0.7794        0.5059  0.6596\n"
     ]
    },
    {
     "name": "stderr",
     "output_type": "stream",
     "text": [
      "/home/l7/dev/tools/anaconda3/lib/python3.6/site-packages/sklearn/metrics/classification.py:1135: UndefinedMetricWarning: F-score is ill-defined and being set to 0.0 due to no predicted samples.\n",
      "  'precision', 'predicted', average, warn_for)\n"
     ]
    },
    {
     "name": "stdout",
     "output_type": "stream",
     "text": [
      "      6  0.0000        \u001b[32m0.5140\u001b[0m       0.7794        0.5088  0.6438\n"
     ]
    },
    {
     "name": "stderr",
     "output_type": "stream",
     "text": [
      "/home/l7/dev/tools/anaconda3/lib/python3.6/site-packages/sklearn/metrics/classification.py:1135: UndefinedMetricWarning: F-score is ill-defined and being set to 0.0 due to no predicted samples.\n",
      "  'precision', 'predicted', average, warn_for)\n"
     ]
    },
    {
     "name": "stdout",
     "output_type": "stream",
     "text": [
      "      7  0.0000        \u001b[32m0.5111\u001b[0m       0.7794        0.5052  0.5702\n"
     ]
    },
    {
     "name": "stderr",
     "output_type": "stream",
     "text": [
      "/home/l7/dev/tools/anaconda3/lib/python3.6/site-packages/sklearn/metrics/classification.py:1135: UndefinedMetricWarning: F-score is ill-defined and being set to 0.0 due to no predicted samples.\n",
      "  'precision', 'predicted', average, warn_for)\n"
     ]
    },
    {
     "name": "stdout",
     "output_type": "stream",
     "text": [
      "      8  0.0000        \u001b[32m0.5077\u001b[0m       0.7794        0.5146  0.6188\n"
     ]
    },
    {
     "name": "stderr",
     "output_type": "stream",
     "text": [
      "/home/l7/dev/tools/anaconda3/lib/python3.6/site-packages/sklearn/metrics/classification.py:1135: UndefinedMetricWarning: F-score is ill-defined and being set to 0.0 due to no predicted samples.\n",
      "  'precision', 'predicted', average, warn_for)\n"
     ]
    },
    {
     "name": "stdout",
     "output_type": "stream",
     "text": [
      "      9  0.0168        \u001b[32m0.4928\u001b[0m       0.7813        \u001b[31m0.4888\u001b[0m  0.6275\n",
      "     10  0.0640        \u001b[32m0.4927\u001b[0m       0.7813        0.5035  0.5926\n",
      "     11  0.0000        \u001b[32m0.4889\u001b[0m       0.7794        0.5229  0.5998\n"
     ]
    },
    {
     "name": "stderr",
     "output_type": "stream",
     "text": [
      "/home/l7/dev/tools/anaconda3/lib/python3.6/site-packages/sklearn/metrics/classification.py:1135: UndefinedMetricWarning: F-score is ill-defined and being set to 0.0 due to no predicted samples.\n",
      "  'precision', 'predicted', average, warn_for)\n"
     ]
    },
    {
     "name": "stdout",
     "output_type": "stream",
     "text": [
      "     12  \u001b[36m0.3878\u001b[0m        \u001b[32m0.4710\u001b[0m       0.7757        0.5202  0.6159\n",
      "     13  0.2517        \u001b[32m0.4662\u001b[0m       0.7888        0.5232  0.5548\n",
      "     14  0.0960        \u001b[32m0.4495\u001b[0m       0.7888        \u001b[31m0.4701\u001b[0m  0.5911\n",
      "     15  0.3291        \u001b[32m0.4322\u001b[0m       \u001b[35m0.8019\u001b[0m        \u001b[31m0.4399\u001b[0m  0.5599\n",
      "     16  \u001b[36m0.4486\u001b[0m        \u001b[32m0.4216\u001b[0m       0.7794        0.5680  0.5729\n",
      "     17  0.3208        0.4309       0.2243        0.8967  0.5824\n",
      "     18  0.3622        \u001b[32m0.4049\u001b[0m       0.2299        0.9943  0.5814\n",
      "     19  0.3617        \u001b[32m0.4014\u001b[0m       0.2280        1.1590  0.5955\n",
      "     20  0.4444        \u001b[32m0.3957\u001b[0m       \u001b[35m0.8037\u001b[0m        0.5030  0.5950\n",
      "  epoch      f1    train_loss    valid_acc    valid_loss     dur\n",
      "-------  ------  ------------  -----------  ------------  ------\n",
      "      1  \u001b[36m0.0667\u001b[0m        \u001b[32m0.5990\u001b[0m       \u001b[35m0.7907\u001b[0m        \u001b[31m0.5107\u001b[0m  0.6020\n",
      "      2  \u001b[36m0.2113\u001b[0m        \u001b[32m0.5129\u001b[0m       0.7907        0.5307  0.6070\n",
      "      3  \u001b[36m0.2857\u001b[0m        \u001b[32m0.5031\u001b[0m       0.7757        0.5659  0.6131\n",
      "      4  0.2840        \u001b[32m0.4988\u001b[0m       0.7738        0.5531  0.6012\n",
      "      5  0.2824        \u001b[32m0.4950\u001b[0m       0.7720        0.5532  0.5924\n",
      "      6  0.2857        \u001b[32m0.4925\u001b[0m       0.7757        0.5441  0.5750\n",
      "      7  0.2775        \u001b[32m0.4916\u001b[0m       0.7664        0.5596  0.5966\n",
      "      8  \u001b[36m0.2874\u001b[0m        \u001b[32m0.4906\u001b[0m       0.7776        0.5430  0.5962\n",
      "      9  0.2857        \u001b[32m0.4889\u001b[0m       0.7757        0.5434  0.5574\n",
      "     10  \u001b[36m0.2945\u001b[0m        \u001b[32m0.4771\u001b[0m       0.7850        0.5266  0.5918\n",
      "     11  0.2840        \u001b[32m0.4746\u001b[0m       0.7738        0.5322  0.5814\n",
      "     12  0.2416        \u001b[32m0.4647\u001b[0m       0.7888        0.5387  0.5747\n",
      "     13  \u001b[36m0.3548\u001b[0m        0.4728       0.7757        0.5453  0.6031\n",
      "     14  \u001b[36m0.3610\u001b[0m        \u001b[32m0.4435\u001b[0m       0.7551        0.5470  0.6092\n",
      "     15  0.2098        \u001b[32m0.4364\u001b[0m       0.7888        0.5489  0.5662\n",
      "     16  \u001b[36m0.3917\u001b[0m        \u001b[32m0.4235\u001b[0m       0.4542        0.7750  0.5925\n",
      "     17  \u001b[36m0.4803\u001b[0m        \u001b[32m0.4100\u001b[0m       0.7776        0.5248  0.5759\n",
      "     18  0.3777        \u001b[32m0.4025\u001b[0m       0.3533        0.9403  0.5817\n",
      "     19  0.3470        0.4068       0.3178        1.0011  0.5909\n",
      "     20  0.3624        \u001b[32m0.3931\u001b[0m       0.3028        0.8784  0.5830\n",
      "  epoch      f1    train_loss    valid_acc    valid_loss     dur\n",
      "-------  ------  ------------  -----------  ------------  ------\n",
      "      1  \u001b[36m0.0000\u001b[0m        \u001b[32m0.6247\u001b[0m       \u001b[35m0.7925\u001b[0m        \u001b[31m0.5230\u001b[0m  0.5511\n"
     ]
    },
    {
     "name": "stderr",
     "output_type": "stream",
     "text": [
      "/home/l7/dev/tools/anaconda3/lib/python3.6/site-packages/sklearn/metrics/classification.py:1135: UndefinedMetricWarning: F-score is ill-defined and being set to 0.0 due to no predicted samples.\n",
      "  'precision', 'predicted', average, warn_for)\n"
     ]
    },
    {
     "name": "stdout",
     "output_type": "stream",
     "text": [
      "      2  0.0000        \u001b[32m0.5179\u001b[0m       0.7925        0.5285  0.6298\n"
     ]
    },
    {
     "name": "stderr",
     "output_type": "stream",
     "text": [
      "/home/l7/dev/tools/anaconda3/lib/python3.6/site-packages/sklearn/metrics/classification.py:1135: UndefinedMetricWarning: F-score is ill-defined and being set to 0.0 due to no predicted samples.\n",
      "  'precision', 'predicted', average, warn_for)\n"
     ]
    },
    {
     "name": "stdout",
     "output_type": "stream",
     "text": [
      "      3  0.0000        0.5183       0.7925        \u001b[31m0.5037\u001b[0m  0.5644\n"
     ]
    },
    {
     "name": "stderr",
     "output_type": "stream",
     "text": [
      "/home/l7/dev/tools/anaconda3/lib/python3.6/site-packages/sklearn/metrics/classification.py:1135: UndefinedMetricWarning: F-score is ill-defined and being set to 0.0 due to no predicted samples.\n",
      "  'precision', 'predicted', average, warn_for)\n"
     ]
    },
    {
     "name": "stdout",
     "output_type": "stream",
     "text": [
      "      4  0.0000        \u001b[32m0.4977\u001b[0m       0.7925        0.5125  0.5594\n"
     ]
    },
    {
     "name": "stderr",
     "output_type": "stream",
     "text": [
      "/home/l7/dev/tools/anaconda3/lib/python3.6/site-packages/sklearn/metrics/classification.py:1135: UndefinedMetricWarning: F-score is ill-defined and being set to 0.0 due to no predicted samples.\n",
      "  'precision', 'predicted', average, warn_for)\n"
     ]
    },
    {
     "name": "stdout",
     "output_type": "stream",
     "text": [
      "      5  0.0000        \u001b[32m0.4937\u001b[0m       0.7925        0.5116  0.5578\n"
     ]
    },
    {
     "name": "stderr",
     "output_type": "stream",
     "text": [
      "/home/l7/dev/tools/anaconda3/lib/python3.6/site-packages/sklearn/metrics/classification.py:1135: UndefinedMetricWarning: F-score is ill-defined and being set to 0.0 due to no predicted samples.\n",
      "  'precision', 'predicted', average, warn_for)\n"
     ]
    },
    {
     "name": "stdout",
     "output_type": "stream",
     "text": [
      "      6  0.0000        \u001b[32m0.4930\u001b[0m       0.7925        0.5075  0.5562\n"
     ]
    },
    {
     "name": "stderr",
     "output_type": "stream",
     "text": [
      "/home/l7/dev/tools/anaconda3/lib/python3.6/site-packages/sklearn/metrics/classification.py:1135: UndefinedMetricWarning: F-score is ill-defined and being set to 0.0 due to no predicted samples.\n",
      "  'precision', 'predicted', average, warn_for)\n"
     ]
    },
    {
     "name": "stdout",
     "output_type": "stream",
     "text": [
      "      7  0.0000        \u001b[32m0.4896\u001b[0m       0.7925        0.5092  0.5566\n"
     ]
    },
    {
     "name": "stderr",
     "output_type": "stream",
     "text": [
      "/home/l7/dev/tools/anaconda3/lib/python3.6/site-packages/sklearn/metrics/classification.py:1135: UndefinedMetricWarning: F-score is ill-defined and being set to 0.0 due to no predicted samples.\n",
      "  'precision', 'predicted', average, warn_for)\n"
     ]
    },
    {
     "name": "stdout",
     "output_type": "stream",
     "text": [
      "      8  0.0000        \u001b[32m0.4841\u001b[0m       0.7925        0.5115  0.5598\n"
     ]
    },
    {
     "name": "stderr",
     "output_type": "stream",
     "text": [
      "/home/l7/dev/tools/anaconda3/lib/python3.6/site-packages/sklearn/metrics/classification.py:1135: UndefinedMetricWarning: F-score is ill-defined and being set to 0.0 due to no predicted samples.\n",
      "  'precision', 'predicted', average, warn_for)\n"
     ]
    },
    {
     "name": "stdout",
     "output_type": "stream",
     "text": [
      "      9  0.0000        \u001b[32m0.4806\u001b[0m       0.7925        \u001b[31m0.5014\u001b[0m  0.5611\n"
     ]
    },
    {
     "name": "stderr",
     "output_type": "stream",
     "text": [
      "/home/l7/dev/tools/anaconda3/lib/python3.6/site-packages/sklearn/metrics/classification.py:1135: UndefinedMetricWarning: F-score is ill-defined and being set to 0.0 due to no predicted samples.\n",
      "  'precision', 'predicted', average, warn_for)\n"
     ]
    },
    {
     "name": "stdout",
     "output_type": "stream",
     "text": [
      "     10  0.0000        \u001b[32m0.4799\u001b[0m       0.7925        0.5056  0.5623\n"
     ]
    },
    {
     "name": "stderr",
     "output_type": "stream",
     "text": [
      "/home/l7/dev/tools/anaconda3/lib/python3.6/site-packages/sklearn/metrics/classification.py:1135: UndefinedMetricWarning: F-score is ill-defined and being set to 0.0 due to no predicted samples.\n",
      "  'precision', 'predicted', average, warn_for)\n"
     ]
    },
    {
     "name": "stdout",
     "output_type": "stream",
     "text": [
      "     11  0.0000        \u001b[32m0.4710\u001b[0m       0.7925        \u001b[31m0.4902\u001b[0m  0.5654\n"
     ]
    },
    {
     "name": "stderr",
     "output_type": "stream",
     "text": [
      "/home/l7/dev/tools/anaconda3/lib/python3.6/site-packages/sklearn/metrics/classification.py:1135: UndefinedMetricWarning: F-score is ill-defined and being set to 0.0 due to no predicted samples.\n",
      "  'precision', 'predicted', average, warn_for)\n"
     ]
    },
    {
     "name": "stdout",
     "output_type": "stream",
     "text": [
      "     12  0.0000        \u001b[32m0.4665\u001b[0m       0.7925        0.4999  0.5620\n"
     ]
    },
    {
     "name": "stderr",
     "output_type": "stream",
     "text": [
      "/home/l7/dev/tools/anaconda3/lib/python3.6/site-packages/sklearn/metrics/classification.py:1135: UndefinedMetricWarning: F-score is ill-defined and being set to 0.0 due to no predicted samples.\n",
      "  'precision', 'predicted', average, warn_for)\n"
     ]
    },
    {
     "name": "stdout",
     "output_type": "stream",
     "text": [
      "     13  0.0000        \u001b[32m0.4609\u001b[0m       0.7925        0.5117  0.5630\n"
     ]
    },
    {
     "name": "stderr",
     "output_type": "stream",
     "text": [
      "/home/l7/dev/tools/anaconda3/lib/python3.6/site-packages/sklearn/metrics/classification.py:1135: UndefinedMetricWarning: F-score is ill-defined and being set to 0.0 due to no predicted samples.\n",
      "  'precision', 'predicted', average, warn_for)\n"
     ]
    },
    {
     "name": "stdout",
     "output_type": "stream",
     "text": [
      "     14  0.0000        \u001b[32m0.4498\u001b[0m       0.7925        \u001b[31m0.4874\u001b[0m  0.5601\n"
     ]
    },
    {
     "name": "stderr",
     "output_type": "stream",
     "text": [
      "/home/l7/dev/tools/anaconda3/lib/python3.6/site-packages/sklearn/metrics/classification.py:1135: UndefinedMetricWarning: F-score is ill-defined and being set to 0.0 due to no predicted samples.\n",
      "  'precision', 'predicted', average, warn_for)\n"
     ]
    },
    {
     "name": "stdout",
     "output_type": "stream",
     "text": [
      "     15  \u001b[36m0.0678\u001b[0m        \u001b[32m0.4437\u001b[0m       \u001b[35m0.7944\u001b[0m        0.5224  0.5625\n",
      "     16  \u001b[36m0.0690\u001b[0m        0.4440       \u001b[35m0.7981\u001b[0m        \u001b[31m0.4614\u001b[0m  0.5623\n",
      "     17  \u001b[36m0.1538\u001b[0m        \u001b[32m0.4257\u001b[0m       0.7944        0.5286  0.5566\n",
      "     18  0.0847        \u001b[32m0.4222\u001b[0m       0.7981        0.4625  0.5512\n",
      "     19  \u001b[36m0.2105\u001b[0m        \u001b[32m0.4144\u001b[0m       \u001b[35m0.8037\u001b[0m        0.4934  0.5520\n",
      "     20  0.0177        \u001b[32m0.4130\u001b[0m       0.7925        0.5489  0.5562\n",
      "  epoch      f1    train_loss    valid_acc    valid_loss     dur\n",
      "-------  ------  ------------  -----------  ------------  ------\n",
      "      1  \u001b[36m0.0000\u001b[0m        \u001b[32m0.5798\u001b[0m       \u001b[35m0.7794\u001b[0m        \u001b[31m0.5441\u001b[0m  0.6098\n"
     ]
    },
    {
     "name": "stderr",
     "output_type": "stream",
     "text": [
      "/home/l7/dev/tools/anaconda3/lib/python3.6/site-packages/sklearn/metrics/classification.py:1135: UndefinedMetricWarning: F-score is ill-defined and being set to 0.0 due to no predicted samples.\n",
      "  'precision', 'predicted', average, warn_for)\n"
     ]
    },
    {
     "name": "stdout",
     "output_type": "stream",
     "text": [
      "      2  0.0000        \u001b[32m0.5276\u001b[0m       0.7794        \u001b[31m0.5128\u001b[0m  0.6210\n"
     ]
    },
    {
     "name": "stderr",
     "output_type": "stream",
     "text": [
      "/home/l7/dev/tools/anaconda3/lib/python3.6/site-packages/sklearn/metrics/classification.py:1135: UndefinedMetricWarning: F-score is ill-defined and being set to 0.0 due to no predicted samples.\n",
      "  'precision', 'predicted', average, warn_for)\n"
     ]
    },
    {
     "name": "stdout",
     "output_type": "stream",
     "text": [
      "      3  \u001b[36m0.0168\u001b[0m        \u001b[32m0.5064\u001b[0m       \u001b[35m0.7813\u001b[0m        \u001b[31m0.5020\u001b[0m  0.6144\n",
      "      4  0.0000        0.5081       0.7794        0.5046  0.6107\n"
     ]
    },
    {
     "name": "stderr",
     "output_type": "stream",
     "text": [
      "/home/l7/dev/tools/anaconda3/lib/python3.6/site-packages/sklearn/metrics/classification.py:1135: UndefinedMetricWarning: F-score is ill-defined and being set to 0.0 due to no predicted samples.\n",
      "  'precision', 'predicted', average, warn_for)\n"
     ]
    },
    {
     "name": "stdout",
     "output_type": "stream",
     "text": [
      "      5  0.0000        0.5065       0.7794        0.5043  0.6133\n"
     ]
    },
    {
     "name": "stderr",
     "output_type": "stream",
     "text": [
      "/home/l7/dev/tools/anaconda3/lib/python3.6/site-packages/sklearn/metrics/classification.py:1135: UndefinedMetricWarning: F-score is ill-defined and being set to 0.0 due to no predicted samples.\n",
      "  'precision', 'predicted', average, warn_for)\n"
     ]
    },
    {
     "name": "stdout",
     "output_type": "stream",
     "text": [
      "      6  0.0168        \u001b[32m0.5042\u001b[0m       0.7813        \u001b[31m0.5006\u001b[0m  0.6141\n",
      "      7  \u001b[36m0.0333\u001b[0m        \u001b[32m0.5021\u001b[0m       \u001b[35m0.7832\u001b[0m        0.5009  0.6164\n",
      "      8  0.0333        \u001b[32m0.4972\u001b[0m       0.7832        \u001b[31m0.4982\u001b[0m  0.6126\n",
      "      9  \u001b[36m0.0492\u001b[0m        \u001b[32m0.4915\u001b[0m       0.7832        \u001b[31m0.4836\u001b[0m  0.6179\n",
      "     10  \u001b[36m0.1642\u001b[0m        \u001b[32m0.4812\u001b[0m       \u001b[35m0.7907\u001b[0m        \u001b[31m0.4546\u001b[0m  0.6279\n",
      "     11  \u001b[36m0.2429\u001b[0m        \u001b[32m0.4729\u001b[0m       \u001b[35m0.8019\u001b[0m        \u001b[31m0.4496\u001b[0m  0.6200\n",
      "     12  \u001b[36m0.3981\u001b[0m        \u001b[32m0.4418\u001b[0m       0.7626        0.5172  0.6315\n",
      "     13  0.1805        \u001b[32m0.4391\u001b[0m       0.7963        0.4530  0.6369\n",
      "     14  \u001b[36m0.4412\u001b[0m        \u001b[32m0.4235\u001b[0m       0.7869        0.4764  0.6344\n",
      "     15  \u001b[36m0.4809\u001b[0m        0.4258       0.7458        0.5103  0.6273\n",
      "     16  0.3846        \u001b[32m0.4232\u001b[0m       0.7607        0.5227  0.6344\n",
      "     17  0.4683        \u001b[32m0.4117\u001b[0m       0.7963        \u001b[31m0.4476\u001b[0m  0.7251\n",
      "     18  0.4096        \u001b[32m0.3910\u001b[0m       \u001b[35m0.8168\u001b[0m        \u001b[31m0.4433\u001b[0m  0.6545\n",
      "     19  0.4508        0.3939       0.6037        0.6778  0.7172\n",
      "     20  0.4600        0.4147       0.5963        0.6693  0.6282\n",
      "  epoch      f1    train_loss    valid_acc    valid_loss     dur\n",
      "-------  ------  ------------  -----------  ------------  ------\n",
      "      1  \u001b[36m0.0508\u001b[0m        \u001b[32m0.5528\u001b[0m       \u001b[35m0.7907\u001b[0m        \u001b[31m0.5210\u001b[0m  0.7198\n",
      "      2  \u001b[36m0.0656\u001b[0m        \u001b[32m0.5005\u001b[0m       0.7869        \u001b[31m0.5028\u001b[0m  0.8979\n",
      "      3  \u001b[36m0.2222\u001b[0m        \u001b[32m0.4995\u001b[0m       0.7907        0.5123  0.9074\n",
      "      4  0.0174        \u001b[32m0.4984\u001b[0m       0.7888        0.5092  0.8556\n",
      "      5  0.0000        0.5012       0.7888        0.5168  0.8467\n"
     ]
    },
    {
     "name": "stderr",
     "output_type": "stream",
     "text": [
      "/home/l7/dev/tools/anaconda3/lib/python3.6/site-packages/sklearn/metrics/classification.py:1135: UndefinedMetricWarning: F-score is ill-defined and being set to 0.0 due to no predicted samples.\n",
      "  'precision', 'predicted', average, warn_for)\n"
     ]
    },
    {
     "name": "stdout",
     "output_type": "stream",
     "text": [
      "      6  0.0000        \u001b[32m0.4982\u001b[0m       0.7888        0.5130  0.7924\n"
     ]
    },
    {
     "name": "stderr",
     "output_type": "stream",
     "text": [
      "/home/l7/dev/tools/anaconda3/lib/python3.6/site-packages/sklearn/metrics/classification.py:1135: UndefinedMetricWarning: F-score is ill-defined and being set to 0.0 due to no predicted samples.\n",
      "  'precision', 'predicted', average, warn_for)\n"
     ]
    },
    {
     "name": "stdout",
     "output_type": "stream",
     "text": [
      "      7  0.1270        \u001b[32m0.4967\u001b[0m       \u001b[35m0.7944\u001b[0m        0.5145  0.6460\n",
      "      8  0.0000        \u001b[32m0.4952\u001b[0m       0.7888        0.5090  0.6271\n"
     ]
    },
    {
     "name": "stderr",
     "output_type": "stream",
     "text": [
      "/home/l7/dev/tools/anaconda3/lib/python3.6/site-packages/sklearn/metrics/classification.py:1135: UndefinedMetricWarning: F-score is ill-defined and being set to 0.0 due to no predicted samples.\n",
      "  'precision', 'predicted', average, warn_for)\n"
     ]
    },
    {
     "name": "stdout",
     "output_type": "stream",
     "text": [
      "      9  0.0345        \u001b[32m0.4883\u001b[0m       0.7907        \u001b[31m0.4919\u001b[0m  0.6237\n",
      "     10  0.0000        0.4928       0.7888        0.4927  0.6332\n"
     ]
    },
    {
     "name": "stderr",
     "output_type": "stream",
     "text": [
      "/home/l7/dev/tools/anaconda3/lib/python3.6/site-packages/sklearn/metrics/classification.py:1135: UndefinedMetricWarning: F-score is ill-defined and being set to 0.0 due to no predicted samples.\n",
      "  'precision', 'predicted', average, warn_for)\n"
     ]
    },
    {
     "name": "stdout",
     "output_type": "stream",
     "text": [
      "     11  \u001b[36m0.2353\u001b[0m        \u001b[32m0.4702\u001b[0m       \u001b[35m0.8056\u001b[0m        0.5122  0.6737\n",
      "     12  0.1515        0.4708       0.7907        \u001b[31m0.4660\u001b[0m  0.6461\n",
      "     13  0.0508        0.4811       0.7907        0.4773  0.6478\n",
      "     14  \u001b[36m0.4216\u001b[0m        \u001b[32m0.4626\u001b[0m       0.7794        0.5452  0.6222\n",
      "     15  0.0000        \u001b[32m0.4585\u001b[0m       0.7888        0.5577  0.6160\n"
     ]
    },
    {
     "name": "stderr",
     "output_type": "stream",
     "text": [
      "/home/l7/dev/tools/anaconda3/lib/python3.6/site-packages/sklearn/metrics/classification.py:1135: UndefinedMetricWarning: F-score is ill-defined and being set to 0.0 due to no predicted samples.\n",
      "  'precision', 'predicted', average, warn_for)\n"
     ]
    },
    {
     "name": "stdout",
     "output_type": "stream",
     "text": [
      "     16  0.3583        \u001b[32m0.4403\u001b[0m       0.7121        0.5827  0.6494\n",
      "     17  0.0508        \u001b[32m0.4327\u001b[0m       0.7907        0.5472  0.6389\n",
      "     18  0.2963        0.4794       0.7869        0.5131  0.7235\n",
      "     19  0.0174        0.4409       0.7888        0.5519  0.6936\n",
      "     20  0.4082        \u001b[32m0.4309\u001b[0m       0.4579        0.9785  0.6348\n",
      "  epoch      f1    train_loss    valid_acc    valid_loss     dur\n",
      "-------  ------  ------------  -----------  ------------  ------\n",
      "      1  \u001b[36m0.0000\u001b[0m        \u001b[32m0.5572\u001b[0m       \u001b[35m0.7925\u001b[0m        \u001b[31m0.5112\u001b[0m  0.6153\n"
     ]
    },
    {
     "name": "stderr",
     "output_type": "stream",
     "text": [
      "/home/l7/dev/tools/anaconda3/lib/python3.6/site-packages/sklearn/metrics/classification.py:1135: UndefinedMetricWarning: F-score is ill-defined and being set to 0.0 due to no predicted samples.\n",
      "  'precision', 'predicted', average, warn_for)\n"
     ]
    },
    {
     "name": "stdout",
     "output_type": "stream",
     "text": [
      "      2  0.0000        \u001b[32m0.5104\u001b[0m       0.7925        \u001b[31m0.5104\u001b[0m  0.6174\n"
     ]
    },
    {
     "name": "stderr",
     "output_type": "stream",
     "text": [
      "/home/l7/dev/tools/anaconda3/lib/python3.6/site-packages/sklearn/metrics/classification.py:1135: UndefinedMetricWarning: F-score is ill-defined and being set to 0.0 due to no predicted samples.\n",
      "  'precision', 'predicted', average, warn_for)\n"
     ]
    },
    {
     "name": "stdout",
     "output_type": "stream",
     "text": [
      "      3  0.0000        \u001b[32m0.5015\u001b[0m       0.7925        \u001b[31m0.5047\u001b[0m  0.6230\n"
     ]
    },
    {
     "name": "stderr",
     "output_type": "stream",
     "text": [
      "/home/l7/dev/tools/anaconda3/lib/python3.6/site-packages/sklearn/metrics/classification.py:1135: UndefinedMetricWarning: F-score is ill-defined and being set to 0.0 due to no predicted samples.\n",
      "  'precision', 'predicted', average, warn_for)\n"
     ]
    },
    {
     "name": "stdout",
     "output_type": "stream",
     "text": [
      "      4  0.0000        \u001b[32m0.4925\u001b[0m       0.7925        0.5136  0.6736\n"
     ]
    },
    {
     "name": "stderr",
     "output_type": "stream",
     "text": [
      "/home/l7/dev/tools/anaconda3/lib/python3.6/site-packages/sklearn/metrics/classification.py:1135: UndefinedMetricWarning: F-score is ill-defined and being set to 0.0 due to no predicted samples.\n",
      "  'precision', 'predicted', average, warn_for)\n"
     ]
    },
    {
     "name": "stdout",
     "output_type": "stream",
     "text": [
      "      5  0.0000        \u001b[32m0.4911\u001b[0m       0.7925        0.5089  0.6245\n"
     ]
    },
    {
     "name": "stderr",
     "output_type": "stream",
     "text": [
      "/home/l7/dev/tools/anaconda3/lib/python3.6/site-packages/sklearn/metrics/classification.py:1135: UndefinedMetricWarning: F-score is ill-defined and being set to 0.0 due to no predicted samples.\n",
      "  'precision', 'predicted', average, warn_for)\n"
     ]
    },
    {
     "name": "stdout",
     "output_type": "stream",
     "text": [
      "      6  0.0000        \u001b[32m0.4878\u001b[0m       0.7925        0.5100  0.6138\n"
     ]
    },
    {
     "name": "stderr",
     "output_type": "stream",
     "text": [
      "/home/l7/dev/tools/anaconda3/lib/python3.6/site-packages/sklearn/metrics/classification.py:1135: UndefinedMetricWarning: F-score is ill-defined and being set to 0.0 due to no predicted samples.\n",
      "  'precision', 'predicted', average, warn_for)\n"
     ]
    },
    {
     "name": "stdout",
     "output_type": "stream",
     "text": [
      "      7  0.0000        \u001b[32m0.4849\u001b[0m       0.7925        \u001b[31m0.5010\u001b[0m  0.6568\n"
     ]
    },
    {
     "name": "stderr",
     "output_type": "stream",
     "text": [
      "/home/l7/dev/tools/anaconda3/lib/python3.6/site-packages/sklearn/metrics/classification.py:1135: UndefinedMetricWarning: F-score is ill-defined and being set to 0.0 due to no predicted samples.\n",
      "  'precision', 'predicted', average, warn_for)\n"
     ]
    },
    {
     "name": "stdout",
     "output_type": "stream",
     "text": [
      "      8  0.0000        \u001b[32m0.4817\u001b[0m       0.7925        \u001b[31m0.5000\u001b[0m  0.7973\n"
     ]
    },
    {
     "name": "stderr",
     "output_type": "stream",
     "text": [
      "/home/l7/dev/tools/anaconda3/lib/python3.6/site-packages/sklearn/metrics/classification.py:1135: UndefinedMetricWarning: F-score is ill-defined and being set to 0.0 due to no predicted samples.\n",
      "  'precision', 'predicted', average, warn_for)\n"
     ]
    },
    {
     "name": "stdout",
     "output_type": "stream",
     "text": [
      "      9  0.0000        \u001b[32m0.4771\u001b[0m       0.7925        0.5043  0.6354\n"
     ]
    },
    {
     "name": "stderr",
     "output_type": "stream",
     "text": [
      "/home/l7/dev/tools/anaconda3/lib/python3.6/site-packages/sklearn/metrics/classification.py:1135: UndefinedMetricWarning: F-score is ill-defined and being set to 0.0 due to no predicted samples.\n",
      "  'precision', 'predicted', average, warn_for)\n"
     ]
    },
    {
     "name": "stdout",
     "output_type": "stream",
     "text": [
      "     10  0.0000        0.4781       0.7925        \u001b[31m0.4922\u001b[0m  0.7116\n"
     ]
    },
    {
     "name": "stderr",
     "output_type": "stream",
     "text": [
      "/home/l7/dev/tools/anaconda3/lib/python3.6/site-packages/sklearn/metrics/classification.py:1135: UndefinedMetricWarning: F-score is ill-defined and being set to 0.0 due to no predicted samples.\n",
      "  'precision', 'predicted', average, warn_for)\n"
     ]
    },
    {
     "name": "stdout",
     "output_type": "stream",
     "text": [
      "     11  0.0000        \u001b[32m0.4746\u001b[0m       0.7925        0.4984  0.6590\n"
     ]
    },
    {
     "name": "stderr",
     "output_type": "stream",
     "text": [
      "/home/l7/dev/tools/anaconda3/lib/python3.6/site-packages/sklearn/metrics/classification.py:1135: UndefinedMetricWarning: F-score is ill-defined and being set to 0.0 due to no predicted samples.\n",
      "  'precision', 'predicted', average, warn_for)\n"
     ]
    },
    {
     "name": "stdout",
     "output_type": "stream",
     "text": [
      "     12  0.0000        \u001b[32m0.4689\u001b[0m       0.7925        0.5139  0.6265\n"
     ]
    },
    {
     "name": "stderr",
     "output_type": "stream",
     "text": [
      "/home/l7/dev/tools/anaconda3/lib/python3.6/site-packages/sklearn/metrics/classification.py:1135: UndefinedMetricWarning: F-score is ill-defined and being set to 0.0 due to no predicted samples.\n",
      "  'precision', 'predicted', average, warn_for)\n"
     ]
    },
    {
     "name": "stdout",
     "output_type": "stream",
     "text": [
      "     13  0.0000        \u001b[32m0.4525\u001b[0m       0.7925        0.5167  0.7583\n"
     ]
    },
    {
     "name": "stderr",
     "output_type": "stream",
     "text": [
      "/home/l7/dev/tools/anaconda3/lib/python3.6/site-packages/sklearn/metrics/classification.py:1135: UndefinedMetricWarning: F-score is ill-defined and being set to 0.0 due to no predicted samples.\n",
      "  'precision', 'predicted', average, warn_for)\n"
     ]
    },
    {
     "name": "stdout",
     "output_type": "stream",
     "text": [
      "     14  0.0000        0.4534       0.7925        0.5365  0.6754\n"
     ]
    },
    {
     "name": "stderr",
     "output_type": "stream",
     "text": [
      "/home/l7/dev/tools/anaconda3/lib/python3.6/site-packages/sklearn/metrics/classification.py:1135: UndefinedMetricWarning: F-score is ill-defined and being set to 0.0 due to no predicted samples.\n",
      "  'precision', 'predicted', average, warn_for)\n"
     ]
    },
    {
     "name": "stdout",
     "output_type": "stream",
     "text": [
      "     15  0.0000        \u001b[32m0.4449\u001b[0m       0.7925        0.5031  0.6721\n"
     ]
    },
    {
     "name": "stderr",
     "output_type": "stream",
     "text": [
      "/home/l7/dev/tools/anaconda3/lib/python3.6/site-packages/sklearn/metrics/classification.py:1135: UndefinedMetricWarning: F-score is ill-defined and being set to 0.0 due to no predicted samples.\n",
      "  'precision', 'predicted', average, warn_for)\n"
     ]
    },
    {
     "name": "stdout",
     "output_type": "stream",
     "text": [
      "     16  \u001b[36m0.0678\u001b[0m        \u001b[32m0.4366\u001b[0m       \u001b[35m0.7944\u001b[0m        0.5077  0.6199\n",
      "     17  0.0000        0.4505       0.7925        0.5511  0.6273\n"
     ]
    },
    {
     "name": "stderr",
     "output_type": "stream",
     "text": [
      "/home/l7/dev/tools/anaconda3/lib/python3.6/site-packages/sklearn/metrics/classification.py:1135: UndefinedMetricWarning: F-score is ill-defined and being set to 0.0 due to no predicted samples.\n",
      "  'precision', 'predicted', average, warn_for)\n"
     ]
    },
    {
     "name": "stdout",
     "output_type": "stream",
     "text": [
      "     18  0.0522        \u001b[32m0.4306\u001b[0m       \u001b[35m0.7963\u001b[0m        \u001b[31m0.4549\u001b[0m  0.6122\n",
      "     19  0.0000        \u001b[32m0.4204\u001b[0m       0.7907        0.5581  0.6134\n",
      "     20  0.0177        \u001b[32m0.4155\u001b[0m       0.7925        0.5237  0.6091\n",
      "  epoch      f1    train_loss    valid_acc    valid_loss     dur\n",
      "-------  ------  ------------  -----------  ------------  ------\n",
      "      1  \u001b[36m0.0000\u001b[0m        \u001b[32m0.5959\u001b[0m       \u001b[35m0.7794\u001b[0m        \u001b[31m0.5324\u001b[0m  0.7887\n"
     ]
    },
    {
     "name": "stderr",
     "output_type": "stream",
     "text": [
      "/home/l7/dev/tools/anaconda3/lib/python3.6/site-packages/sklearn/metrics/classification.py:1135: UndefinedMetricWarning: F-score is ill-defined and being set to 0.0 due to no predicted samples.\n",
      "  'precision', 'predicted', average, warn_for)\n"
     ]
    },
    {
     "name": "stdout",
     "output_type": "stream",
     "text": [
      "      2  0.0000        \u001b[32m0.5294\u001b[0m       0.7794        \u001b[31m0.5071\u001b[0m  0.8002\n"
     ]
    },
    {
     "name": "stderr",
     "output_type": "stream",
     "text": [
      "/home/l7/dev/tools/anaconda3/lib/python3.6/site-packages/sklearn/metrics/classification.py:1135: UndefinedMetricWarning: F-score is ill-defined and being set to 0.0 due to no predicted samples.\n",
      "  'precision', 'predicted', average, warn_for)\n"
     ]
    },
    {
     "name": "stdout",
     "output_type": "stream",
     "text": [
      "      3  0.0000        \u001b[32m0.5151\u001b[0m       0.7794        \u001b[31m0.5059\u001b[0m  0.7964\n"
     ]
    },
    {
     "name": "stderr",
     "output_type": "stream",
     "text": [
      "/home/l7/dev/tools/anaconda3/lib/python3.6/site-packages/sklearn/metrics/classification.py:1135: UndefinedMetricWarning: F-score is ill-defined and being set to 0.0 due to no predicted samples.\n",
      "  'precision', 'predicted', average, warn_for)\n"
     ]
    },
    {
     "name": "stdout",
     "output_type": "stream",
     "text": [
      "      4  0.0000        \u001b[32m0.5100\u001b[0m       0.7794        \u001b[31m0.5036\u001b[0m  0.8016\n"
     ]
    },
    {
     "name": "stderr",
     "output_type": "stream",
     "text": [
      "/home/l7/dev/tools/anaconda3/lib/python3.6/site-packages/sklearn/metrics/classification.py:1135: UndefinedMetricWarning: F-score is ill-defined and being set to 0.0 due to no predicted samples.\n",
      "  'precision', 'predicted', average, warn_for)\n"
     ]
    },
    {
     "name": "stdout",
     "output_type": "stream",
     "text": [
      "      5  0.0000        \u001b[32m0.5084\u001b[0m       0.7794        \u001b[31m0.5029\u001b[0m  0.7823\n"
     ]
    },
    {
     "name": "stderr",
     "output_type": "stream",
     "text": [
      "/home/l7/dev/tools/anaconda3/lib/python3.6/site-packages/sklearn/metrics/classification.py:1135: UndefinedMetricWarning: F-score is ill-defined and being set to 0.0 due to no predicted samples.\n",
      "  'precision', 'predicted', average, warn_for)\n"
     ]
    },
    {
     "name": "stdout",
     "output_type": "stream",
     "text": [
      "      6  \u001b[36m0.0168\u001b[0m        \u001b[32m0.5063\u001b[0m       \u001b[35m0.7813\u001b[0m        0.5037  0.7949\n",
      "      7  0.0168        \u001b[32m0.5050\u001b[0m       0.7813        0.5042  0.7606\n",
      "      8  \u001b[36m0.0496\u001b[0m        \u001b[32m0.5024\u001b[0m       \u001b[35m0.7850\u001b[0m        0.5061  0.7413\n",
      "      9  0.0167        \u001b[32m0.4971\u001b[0m       0.7794        0.5055  0.7365\n",
      "     10  \u001b[36m0.1094\u001b[0m        \u001b[32m0.4921\u001b[0m       \u001b[35m0.7869\u001b[0m        \u001b[31m0.4916\u001b[0m  0.7367\n",
      "     11  0.0960        \u001b[32m0.4842\u001b[0m       \u001b[35m0.7888\u001b[0m        \u001b[31m0.4730\u001b[0m  0.7330\n",
      "     12  \u001b[36m0.2254\u001b[0m        \u001b[32m0.4758\u001b[0m       \u001b[35m0.7944\u001b[0m        0.5077  0.7378\n",
      "     13  0.1240        0.5026       0.7888        0.4936  0.7410\n",
      "     14  0.0640        0.4958       0.7813        0.4896  0.7371\n",
      "     15  \u001b[36m0.4248\u001b[0m        \u001b[32m0.4652\u001b[0m       0.6355        0.5773  0.7419\n",
      "     16  \u001b[36m0.4312\u001b[0m        \u001b[32m0.4563\u001b[0m       0.7682        0.5430  0.7412\n",
      "     17  \u001b[36m0.4531\u001b[0m        \u001b[32m0.4536\u001b[0m       0.7383        0.5159  0.7452\n",
      "     18  \u001b[36m0.4581\u001b[0m        \u001b[32m0.4503\u001b[0m       0.7701        0.5333  0.7387\n",
      "     19  0.2778        \u001b[32m0.4381\u001b[0m       \u001b[35m0.8056\u001b[0m        \u001b[31m0.4494\u001b[0m  0.7586\n",
      "     20  \u001b[36m0.4855\u001b[0m        \u001b[32m0.4251\u001b[0m       0.7346        0.5739  0.7492\n",
      "  epoch      f1    train_loss    valid_acc    valid_loss     dur\n",
      "-------  ------  ------------  -----------  ------------  ------\n",
      "      1  \u001b[36m0.0513\u001b[0m        \u001b[32m0.5782\u001b[0m       \u001b[35m0.7925\u001b[0m        \u001b[31m0.5053\u001b[0m  0.7327\n",
      "      2  0.0000        \u001b[32m0.5114\u001b[0m       0.7888        \u001b[31m0.5045\u001b[0m  0.7392\n"
     ]
    },
    {
     "name": "stderr",
     "output_type": "stream",
     "text": [
      "/home/l7/dev/tools/anaconda3/lib/python3.6/site-packages/sklearn/metrics/classification.py:1135: UndefinedMetricWarning: F-score is ill-defined and being set to 0.0 due to no predicted samples.\n",
      "  'precision', 'predicted', average, warn_for)\n"
     ]
    },
    {
     "name": "stdout",
     "output_type": "stream",
     "text": [
      "      3  \u001b[36m0.0667\u001b[0m        \u001b[32m0.4980\u001b[0m       0.7907        0.5048  0.7354\n",
      "      4  0.0661        \u001b[32m0.4961\u001b[0m       0.7888        0.5084  0.7415\n",
      "      5  \u001b[36m0.0813\u001b[0m        \u001b[32m0.4941\u001b[0m       0.7888        0.5090  0.7359\n",
      "      6  0.0661        \u001b[32m0.4923\u001b[0m       0.7888        \u001b[31m0.5034\u001b[0m  0.8289\n",
      "      7  \u001b[36m0.1270\u001b[0m        \u001b[32m0.4900\u001b[0m       \u001b[35m0.7944\u001b[0m        \u001b[31m0.5026\u001b[0m  0.8226\n",
      "      8  \u001b[36m0.1705\u001b[0m        \u001b[32m0.4858\u001b[0m       \u001b[35m0.8000\u001b[0m        0.5153  0.8749\n",
      "      9  0.0513        \u001b[32m0.4754\u001b[0m       0.7925        \u001b[31m0.4997\u001b[0m  0.8253\n",
      "     10  \u001b[36m0.3519\u001b[0m        0.4768       0.6075        0.6359  0.8252\n",
      "     11  0.2194        \u001b[32m0.4588\u001b[0m       0.7738        0.5252  0.8186\n",
      "     12  0.2710        0.4632       0.7888        0.5168  0.8260\n",
      "     13  0.2789        0.4711       0.6037        0.6239  0.8202\n",
      "     14  0.3498        \u001b[32m0.4475\u001b[0m       0.3121        1.1063  0.8241\n",
      "     15  0.1120        \u001b[32m0.4258\u001b[0m       0.7925        \u001b[31m0.4662\u001b[0m  0.8605\n",
      "     16  0.3364        0.4372       0.5944        0.6906  0.8217\n",
      "     17  0.2913        0.4357       0.3271        0.9657  0.8969\n",
      "     18  \u001b[36m0.3779\u001b[0m        0.4274       0.3907        1.0622  0.8287\n",
      "     19  0.3233        \u001b[32m0.4229\u001b[0m       0.4523        0.7391  0.8283\n",
      "     20  \u001b[36m0.3827\u001b[0m        \u001b[32m0.4197\u001b[0m       0.6804        0.6334  0.8208\n",
      "  epoch      f1    train_loss    valid_acc    valid_loss     dur\n",
      "-------  ------  ------------  -----------  ------------  ------\n",
      "      1  \u001b[36m0.0000\u001b[0m        \u001b[32m0.5646\u001b[0m       \u001b[35m0.7925\u001b[0m        \u001b[31m0.5077\u001b[0m  0.8303\n"
     ]
    },
    {
     "name": "stderr",
     "output_type": "stream",
     "text": [
      "/home/l7/dev/tools/anaconda3/lib/python3.6/site-packages/sklearn/metrics/classification.py:1135: UndefinedMetricWarning: F-score is ill-defined and being set to 0.0 due to no predicted samples.\n",
      "  'precision', 'predicted', average, warn_for)\n"
     ]
    },
    {
     "name": "stdout",
     "output_type": "stream",
     "text": [
      "      2  0.0000        \u001b[32m0.5111\u001b[0m       0.7925        0.5190  0.8246\n"
     ]
    },
    {
     "name": "stderr",
     "output_type": "stream",
     "text": [
      "/home/l7/dev/tools/anaconda3/lib/python3.6/site-packages/sklearn/metrics/classification.py:1135: UndefinedMetricWarning: F-score is ill-defined and being set to 0.0 due to no predicted samples.\n",
      "  'precision', 'predicted', average, warn_for)\n"
     ]
    },
    {
     "name": "stdout",
     "output_type": "stream",
     "text": [
      "      3  0.0000        0.5147       0.7925        \u001b[31m0.5052\u001b[0m  0.8268\n"
     ]
    },
    {
     "name": "stderr",
     "output_type": "stream",
     "text": [
      "/home/l7/dev/tools/anaconda3/lib/python3.6/site-packages/sklearn/metrics/classification.py:1135: UndefinedMetricWarning: F-score is ill-defined and being set to 0.0 due to no predicted samples.\n",
      "  'precision', 'predicted', average, warn_for)\n"
     ]
    },
    {
     "name": "stdout",
     "output_type": "stream",
     "text": [
      "      4  0.0000        \u001b[32m0.4970\u001b[0m       0.7925        0.5096  0.8215\n"
     ]
    },
    {
     "name": "stderr",
     "output_type": "stream",
     "text": [
      "/home/l7/dev/tools/anaconda3/lib/python3.6/site-packages/sklearn/metrics/classification.py:1135: UndefinedMetricWarning: F-score is ill-defined and being set to 0.0 due to no predicted samples.\n",
      "  'precision', 'predicted', average, warn_for)\n"
     ]
    },
    {
     "name": "stdout",
     "output_type": "stream",
     "text": [
      "      5  0.0000        \u001b[32m0.4966\u001b[0m       0.7925        0.5141  0.8475\n"
     ]
    },
    {
     "name": "stderr",
     "output_type": "stream",
     "text": [
      "/home/l7/dev/tools/anaconda3/lib/python3.6/site-packages/sklearn/metrics/classification.py:1135: UndefinedMetricWarning: F-score is ill-defined and being set to 0.0 due to no predicted samples.\n",
      "  'precision', 'predicted', average, warn_for)\n"
     ]
    },
    {
     "name": "stdout",
     "output_type": "stream",
     "text": [
      "      6  0.0000        \u001b[32m0.4903\u001b[0m       0.7925        0.5079  0.8335\n"
     ]
    },
    {
     "name": "stderr",
     "output_type": "stream",
     "text": [
      "/home/l7/dev/tools/anaconda3/lib/python3.6/site-packages/sklearn/metrics/classification.py:1135: UndefinedMetricWarning: F-score is ill-defined and being set to 0.0 due to no predicted samples.\n",
      "  'precision', 'predicted', average, warn_for)\n"
     ]
    },
    {
     "name": "stdout",
     "output_type": "stream",
     "text": [
      "      7  0.0000        \u001b[32m0.4866\u001b[0m       0.7925        0.5263  0.8752\n"
     ]
    },
    {
     "name": "stderr",
     "output_type": "stream",
     "text": [
      "/home/l7/dev/tools/anaconda3/lib/python3.6/site-packages/sklearn/metrics/classification.py:1135: UndefinedMetricWarning: F-score is ill-defined and being set to 0.0 due to no predicted samples.\n",
      "  'precision', 'predicted', average, warn_for)\n"
     ]
    },
    {
     "name": "stdout",
     "output_type": "stream",
     "text": [
      "      8  0.0000        \u001b[32m0.4846\u001b[0m       0.7925        \u001b[31m0.5018\u001b[0m  0.8710\n"
     ]
    },
    {
     "name": "stderr",
     "output_type": "stream",
     "text": [
      "/home/l7/dev/tools/anaconda3/lib/python3.6/site-packages/sklearn/metrics/classification.py:1135: UndefinedMetricWarning: F-score is ill-defined and being set to 0.0 due to no predicted samples.\n",
      "  'precision', 'predicted', average, warn_for)\n"
     ]
    },
    {
     "name": "stdout",
     "output_type": "stream",
     "text": [
      "      9  0.0000        \u001b[32m0.4792\u001b[0m       0.7925        0.5210  0.8600\n"
     ]
    },
    {
     "name": "stderr",
     "output_type": "stream",
     "text": [
      "/home/l7/dev/tools/anaconda3/lib/python3.6/site-packages/sklearn/metrics/classification.py:1135: UndefinedMetricWarning: F-score is ill-defined and being set to 0.0 due to no predicted samples.\n",
      "  'precision', 'predicted', average, warn_for)\n"
     ]
    },
    {
     "name": "stdout",
     "output_type": "stream",
     "text": [
      "     10  0.0000        \u001b[32m0.4725\u001b[0m       0.7925        0.5211  0.8493\n"
     ]
    },
    {
     "name": "stderr",
     "output_type": "stream",
     "text": [
      "/home/l7/dev/tools/anaconda3/lib/python3.6/site-packages/sklearn/metrics/classification.py:1135: UndefinedMetricWarning: F-score is ill-defined and being set to 0.0 due to no predicted samples.\n",
      "  'precision', 'predicted', average, warn_for)\n"
     ]
    },
    {
     "name": "stdout",
     "output_type": "stream",
     "text": [
      "     11  0.0000        \u001b[32m0.4720\u001b[0m       0.7925        \u001b[31m0.4819\u001b[0m  0.8501\n"
     ]
    },
    {
     "name": "stderr",
     "output_type": "stream",
     "text": [
      "/home/l7/dev/tools/anaconda3/lib/python3.6/site-packages/sklearn/metrics/classification.py:1135: UndefinedMetricWarning: F-score is ill-defined and being set to 0.0 due to no predicted samples.\n",
      "  'precision', 'predicted', average, warn_for)\n"
     ]
    },
    {
     "name": "stdout",
     "output_type": "stream",
     "text": [
      "     12  0.0000        \u001b[32m0.4544\u001b[0m       0.7925        0.4841  0.8787\n"
     ]
    },
    {
     "name": "stderr",
     "output_type": "stream",
     "text": [
      "/home/l7/dev/tools/anaconda3/lib/python3.6/site-packages/sklearn/metrics/classification.py:1135: UndefinedMetricWarning: F-score is ill-defined and being set to 0.0 due to no predicted samples.\n",
      "  'precision', 'predicted', average, warn_for)\n"
     ]
    },
    {
     "name": "stdout",
     "output_type": "stream",
     "text": [
      "     13  0.0000        \u001b[32m0.4504\u001b[0m       0.7925        0.5102  0.8385\n"
     ]
    },
    {
     "name": "stderr",
     "output_type": "stream",
     "text": [
      "/home/l7/dev/tools/anaconda3/lib/python3.6/site-packages/sklearn/metrics/classification.py:1135: UndefinedMetricWarning: F-score is ill-defined and being set to 0.0 due to no predicted samples.\n",
      "  'precision', 'predicted', average, warn_for)\n"
     ]
    },
    {
     "name": "stdout",
     "output_type": "stream",
     "text": [
      "     14  \u001b[36m0.2603\u001b[0m        \u001b[32m0.4422\u001b[0m       \u001b[35m0.7981\u001b[0m        0.5011  0.8656\n",
      "     15  0.1167        0.4447       \u001b[35m0.8019\u001b[0m        0.5086  0.8447\n",
      "     16  \u001b[36m0.2911\u001b[0m        0.4495       0.7907        0.5037  0.8276\n",
      "     17  \u001b[36m0.3352\u001b[0m        \u001b[32m0.4304\u001b[0m       0.5551        0.6865  0.8235\n",
      "     18  0.0000        0.4308       0.7907        0.5470  0.8462\n",
      "     19  \u001b[36m0.4495\u001b[0m        \u001b[32m0.4231\u001b[0m       0.6841        0.5782  0.8723\n",
      "     20  0.3503        0.4276       0.5701        0.6698  0.8113\n",
      "  epoch      f1    train_loss    valid_acc    valid_loss     dur\n",
      "-------  ------  ------------  -----------  ------------  ------\n",
      "      1  \u001b[36m0.0000\u001b[0m        \u001b[32m0.7921\u001b[0m       \u001b[35m0.7794\u001b[0m        \u001b[31m0.5434\u001b[0m  0.9272\n"
     ]
    },
    {
     "name": "stderr",
     "output_type": "stream",
     "text": [
      "/home/l7/dev/tools/anaconda3/lib/python3.6/site-packages/sklearn/metrics/classification.py:1135: UndefinedMetricWarning: F-score is ill-defined and being set to 0.0 due to no predicted samples.\n",
      "  'precision', 'predicted', average, warn_for)\n"
     ]
    },
    {
     "name": "stdout",
     "output_type": "stream",
     "text": [
      "      2  \u001b[36m0.0640\u001b[0m        \u001b[32m0.5534\u001b[0m       \u001b[35m0.7813\u001b[0m        \u001b[31m0.5039\u001b[0m  0.9306\n",
      "      3  \u001b[36m0.1515\u001b[0m        \u001b[32m0.5370\u001b[0m       \u001b[35m0.7907\u001b[0m        \u001b[31m0.4993\u001b[0m  0.9244\n",
      "      4  0.0496        \u001b[32m0.5307\u001b[0m       0.7850        0.5038  0.9298\n",
      "      5  0.0000        \u001b[32m0.5253\u001b[0m       0.7794        0.5126  0.9250\n"
     ]
    },
    {
     "name": "stderr",
     "output_type": "stream",
     "text": [
      "/home/l7/dev/tools/anaconda3/lib/python3.6/site-packages/sklearn/metrics/classification.py:1135: UndefinedMetricWarning: F-score is ill-defined and being set to 0.0 due to no predicted samples.\n",
      "  'precision', 'predicted', average, warn_for)\n"
     ]
    },
    {
     "name": "stdout",
     "output_type": "stream",
     "text": [
      "      6  0.0000        \u001b[32m0.5199\u001b[0m       0.7794        0.5180  0.9308\n"
     ]
    },
    {
     "name": "stderr",
     "output_type": "stream",
     "text": [
      "/home/l7/dev/tools/anaconda3/lib/python3.6/site-packages/sklearn/metrics/classification.py:1135: UndefinedMetricWarning: F-score is ill-defined and being set to 0.0 due to no predicted samples.\n",
      "  'precision', 'predicted', average, warn_for)\n"
     ]
    },
    {
     "name": "stdout",
     "output_type": "stream",
     "text": [
      "      7  0.0000        \u001b[32m0.5133\u001b[0m       0.7794        0.5165  0.9212\n"
     ]
    },
    {
     "name": "stderr",
     "output_type": "stream",
     "text": [
      "/home/l7/dev/tools/anaconda3/lib/python3.6/site-packages/sklearn/metrics/classification.py:1135: UndefinedMetricWarning: F-score is ill-defined and being set to 0.0 due to no predicted samples.\n",
      "  'precision', 'predicted', average, warn_for)\n"
     ]
    },
    {
     "name": "stdout",
     "output_type": "stream",
     "text": [
      "      8  0.0000        \u001b[32m0.5100\u001b[0m       0.7794        0.5207  0.9359\n"
     ]
    },
    {
     "name": "stderr",
     "output_type": "stream",
     "text": [
      "/home/l7/dev/tools/anaconda3/lib/python3.6/site-packages/sklearn/metrics/classification.py:1135: UndefinedMetricWarning: F-score is ill-defined and being set to 0.0 due to no predicted samples.\n",
      "  'precision', 'predicted', average, warn_for)\n"
     ]
    },
    {
     "name": "stdout",
     "output_type": "stream",
     "text": [
      "      9  0.0000        \u001b[32m0.5030\u001b[0m       0.7794        0.5134  0.9407\n"
     ]
    },
    {
     "name": "stderr",
     "output_type": "stream",
     "text": [
      "/home/l7/dev/tools/anaconda3/lib/python3.6/site-packages/sklearn/metrics/classification.py:1135: UndefinedMetricWarning: F-score is ill-defined and being set to 0.0 due to no predicted samples.\n",
      "  'precision', 'predicted', average, warn_for)\n"
     ]
    },
    {
     "name": "stdout",
     "output_type": "stream",
     "text": [
      "     10  0.0000        \u001b[32m0.4964\u001b[0m       0.7794        0.5322  0.9219\n"
     ]
    },
    {
     "name": "stderr",
     "output_type": "stream",
     "text": [
      "/home/l7/dev/tools/anaconda3/lib/python3.6/site-packages/sklearn/metrics/classification.py:1135: UndefinedMetricWarning: F-score is ill-defined and being set to 0.0 due to no predicted samples.\n",
      "  'precision', 'predicted', average, warn_for)\n"
     ]
    },
    {
     "name": "stdout",
     "output_type": "stream",
     "text": [
      "     11  0.0168        \u001b[32m0.4956\u001b[0m       0.7813        0.5107  0.9725\n",
      "     12  0.0000        0.5030       0.7794        0.5151  0.9185\n"
     ]
    },
    {
     "name": "stderr",
     "output_type": "stream",
     "text": [
      "/home/l7/dev/tools/anaconda3/lib/python3.6/site-packages/sklearn/metrics/classification.py:1135: UndefinedMetricWarning: F-score is ill-defined and being set to 0.0 due to no predicted samples.\n",
      "  'precision', 'predicted', average, warn_for)\n"
     ]
    },
    {
     "name": "stdout",
     "output_type": "stream",
     "text": [
      "     13  \u001b[36m0.3585\u001b[0m        \u001b[32m0.4743\u001b[0m       0.7458        0.5556  0.9274\n",
      "     14  0.1240        \u001b[32m0.4729\u001b[0m       0.7888        \u001b[31m0.4915\u001b[0m  0.9277\n",
      "     15  0.0000        \u001b[32m0.4619\u001b[0m       0.7794        0.5489  0.9254\n"
     ]
    },
    {
     "name": "stderr",
     "output_type": "stream",
     "text": [
      "/home/l7/dev/tools/anaconda3/lib/python3.6/site-packages/sklearn/metrics/classification.py:1135: UndefinedMetricWarning: F-score is ill-defined and being set to 0.0 due to no predicted samples.\n",
      "  'precision', 'predicted', average, warn_for)\n"
     ]
    },
    {
     "name": "stdout",
     "output_type": "stream",
     "text": [
      "     16  0.0496        0.4662       0.7850        \u001b[31m0.4669\u001b[0m  0.9265\n",
      "     17  0.0000        \u001b[32m0.4506\u001b[0m       0.7794        0.5998  0.9919\n"
     ]
    },
    {
     "name": "stderr",
     "output_type": "stream",
     "text": [
      "/home/l7/dev/tools/anaconda3/lib/python3.6/site-packages/sklearn/metrics/classification.py:1135: UndefinedMetricWarning: F-score is ill-defined and being set to 0.0 due to no predicted samples.\n",
      "  'precision', 'predicted', average, warn_for)\n"
     ]
    },
    {
     "name": "stdout",
     "output_type": "stream",
     "text": [
      "     18  0.0000        \u001b[32m0.4432\u001b[0m       0.7794        0.6187  1.0460\n"
     ]
    },
    {
     "name": "stderr",
     "output_type": "stream",
     "text": [
      "/home/l7/dev/tools/anaconda3/lib/python3.6/site-packages/sklearn/metrics/classification.py:1135: UndefinedMetricWarning: F-score is ill-defined and being set to 0.0 due to no predicted samples.\n",
      "  'precision', 'predicted', average, warn_for)\n"
     ]
    },
    {
     "name": "stdout",
     "output_type": "stream",
     "text": [
      "     19  0.0656        \u001b[32m0.4329\u001b[0m       0.7869        0.5147  1.0794\n",
      "     20  0.0000        \u001b[32m0.4273\u001b[0m       0.7794        0.8284  1.0221\n"
     ]
    },
    {
     "name": "stderr",
     "output_type": "stream",
     "text": [
      "/home/l7/dev/tools/anaconda3/lib/python3.6/site-packages/sklearn/metrics/classification.py:1135: UndefinedMetricWarning: F-score is ill-defined and being set to 0.0 due to no predicted samples.\n",
      "  'precision', 'predicted', average, warn_for)\n",
      "/home/l7/dev/tools/anaconda3/lib/python3.6/site-packages/sklearn/metrics/classification.py:1135: UndefinedMetricWarning: F-score is ill-defined and being set to 0.0 due to no predicted samples.\n",
      "  'precision', 'predicted', average, warn_for)\n"
     ]
    },
    {
     "name": "stdout",
     "output_type": "stream",
     "text": [
      "  epoch      f1    train_loss    valid_acc    valid_loss     dur\n",
      "-------  ------  ------------  -----------  ------------  ------\n",
      "      1  \u001b[36m0.0661\u001b[0m        \u001b[32m0.6539\u001b[0m       \u001b[35m0.7888\u001b[0m        \u001b[31m0.5101\u001b[0m  1.0219\n",
      "      2  \u001b[36m0.0813\u001b[0m        \u001b[32m0.5283\u001b[0m       0.7888        0.5214  1.0210\n",
      "      3  \u001b[36m0.2581\u001b[0m        \u001b[32m0.5112\u001b[0m       0.7850        0.5553  1.0073\n",
      "      4  \u001b[36m0.2767\u001b[0m        \u001b[32m0.5038\u001b[0m       0.7850        0.5543  1.0103\n",
      "      5  \u001b[36m0.2785\u001b[0m        \u001b[32m0.5003\u001b[0m       0.7869        0.5568  1.0124\n",
      "      6  0.2767        \u001b[32m0.4986\u001b[0m       0.7850        0.5532  1.0064\n",
      "      7  0.2500        \u001b[32m0.4974\u001b[0m       0.7869        0.5328  1.0072\n",
      "      8  0.2468        \u001b[32m0.4971\u001b[0m       0.7832        0.5161  1.0219\n",
      "      9  0.2313        \u001b[32m0.4865\u001b[0m       0.7888        0.5135  1.0161\n",
      "     10  \u001b[36m0.2945\u001b[0m        \u001b[32m0.4782\u001b[0m       0.7850        0.5427  1.0219\n",
      "     11  0.2029        \u001b[32m0.4691\u001b[0m       \u001b[35m0.7944\u001b[0m        \u001b[31m0.5068\u001b[0m  1.0179\n",
      "     12  \u001b[36m0.3627\u001b[0m        0.4704       0.7701        0.5551  1.0243\n",
      "     13  0.2270        \u001b[32m0.4685\u001b[0m       \u001b[35m0.7963\u001b[0m        0.5138  1.0208\n",
      "     14  0.3441        \u001b[32m0.4549\u001b[0m       0.7720        0.6483  1.0170\n",
      "     15  0.1395        \u001b[32m0.4497\u001b[0m       0.7925        0.5105  1.0094\n",
      "     16  0.2143        0.4505       0.7944        \u001b[31m0.4776\u001b[0m  1.0109\n",
      "     17  0.2143        \u001b[32m0.4342\u001b[0m       0.7944        \u001b[31m0.4740\u001b[0m  1.0230\n",
      "     18  \u001b[36m0.4000\u001b[0m        \u001b[32m0.4303\u001b[0m       0.6748        0.6207  1.0112\n",
      "     19  0.3506        \u001b[32m0.4271\u001b[0m       0.2729        0.9347  1.0157\n",
      "     20  0.3482        \u001b[32m0.4217\u001b[0m       0.7271        0.5365  1.0618\n",
      "  epoch      f1    train_loss    valid_acc    valid_loss     dur\n",
      "-------  ------  ------------  -----------  ------------  ------\n",
      "      1  \u001b[36m0.0678\u001b[0m        \u001b[32m0.6907\u001b[0m       \u001b[35m0.7944\u001b[0m        \u001b[31m0.5201\u001b[0m  1.0129\n",
      "      2  0.0000        \u001b[32m0.5260\u001b[0m       0.7925        \u001b[31m0.5165\u001b[0m  1.0699\n"
     ]
    },
    {
     "name": "stderr",
     "output_type": "stream",
     "text": [
      "/home/l7/dev/tools/anaconda3/lib/python3.6/site-packages/sklearn/metrics/classification.py:1135: UndefinedMetricWarning: F-score is ill-defined and being set to 0.0 due to no predicted samples.\n",
      "  'precision', 'predicted', average, warn_for)\n"
     ]
    },
    {
     "name": "stdout",
     "output_type": "stream",
     "text": [
      "      3  0.0000        \u001b[32m0.5208\u001b[0m       0.7925        0.5377  1.0510\n"
     ]
    },
    {
     "name": "stderr",
     "output_type": "stream",
     "text": [
      "/home/l7/dev/tools/anaconda3/lib/python3.6/site-packages/sklearn/metrics/classification.py:1135: UndefinedMetricWarning: F-score is ill-defined and being set to 0.0 due to no predicted samples.\n",
      "  'precision', 'predicted', average, warn_for)\n"
     ]
    },
    {
     "name": "stdout",
     "output_type": "stream",
     "text": [
      "      4  0.0000        \u001b[32m0.5163\u001b[0m       0.7925        \u001b[31m0.5053\u001b[0m  1.0784\n"
     ]
    },
    {
     "name": "stderr",
     "output_type": "stream",
     "text": [
      "/home/l7/dev/tools/anaconda3/lib/python3.6/site-packages/sklearn/metrics/classification.py:1135: UndefinedMetricWarning: F-score is ill-defined and being set to 0.0 due to no predicted samples.\n",
      "  'precision', 'predicted', average, warn_for)\n"
     ]
    },
    {
     "name": "stdout",
     "output_type": "stream",
     "text": [
      "      5  0.0000        \u001b[32m0.4985\u001b[0m       0.7925        0.5101  1.0025\n"
     ]
    },
    {
     "name": "stderr",
     "output_type": "stream",
     "text": [
      "/home/l7/dev/tools/anaconda3/lib/python3.6/site-packages/sklearn/metrics/classification.py:1135: UndefinedMetricWarning: F-score is ill-defined and being set to 0.0 due to no predicted samples.\n",
      "  'precision', 'predicted', average, warn_for)\n"
     ]
    },
    {
     "name": "stdout",
     "output_type": "stream",
     "text": [
      "      6  0.0000        \u001b[32m0.4927\u001b[0m       0.7925        \u001b[31m0.5041\u001b[0m  1.0015\n"
     ]
    },
    {
     "name": "stderr",
     "output_type": "stream",
     "text": [
      "/home/l7/dev/tools/anaconda3/lib/python3.6/site-packages/sklearn/metrics/classification.py:1135: UndefinedMetricWarning: F-score is ill-defined and being set to 0.0 due to no predicted samples.\n",
      "  'precision', 'predicted', average, warn_for)\n"
     ]
    },
    {
     "name": "stdout",
     "output_type": "stream",
     "text": [
      "      7  0.0000        \u001b[32m0.4887\u001b[0m       0.7925        \u001b[31m0.5017\u001b[0m  0.9249\n"
     ]
    },
    {
     "name": "stderr",
     "output_type": "stream",
     "text": [
      "/home/l7/dev/tools/anaconda3/lib/python3.6/site-packages/sklearn/metrics/classification.py:1135: UndefinedMetricWarning: F-score is ill-defined and being set to 0.0 due to no predicted samples.\n",
      "  'precision', 'predicted', average, warn_for)\n"
     ]
    },
    {
     "name": "stdout",
     "output_type": "stream",
     "text": [
      "      8  0.0000        \u001b[32m0.4847\u001b[0m       0.7925        0.5046  0.9262\n"
     ]
    },
    {
     "name": "stderr",
     "output_type": "stream",
     "text": [
      "/home/l7/dev/tools/anaconda3/lib/python3.6/site-packages/sklearn/metrics/classification.py:1135: UndefinedMetricWarning: F-score is ill-defined and being set to 0.0 due to no predicted samples.\n",
      "  'precision', 'predicted', average, warn_for)\n"
     ]
    },
    {
     "name": "stdout",
     "output_type": "stream",
     "text": [
      "      9  0.0000        \u001b[32m0.4800\u001b[0m       0.7925        \u001b[31m0.5000\u001b[0m  0.9339\n"
     ]
    },
    {
     "name": "stderr",
     "output_type": "stream",
     "text": [
      "/home/l7/dev/tools/anaconda3/lib/python3.6/site-packages/sklearn/metrics/classification.py:1135: UndefinedMetricWarning: F-score is ill-defined and being set to 0.0 due to no predicted samples.\n",
      "  'precision', 'predicted', average, warn_for)\n"
     ]
    },
    {
     "name": "stdout",
     "output_type": "stream",
     "text": [
      "     10  0.0000        \u001b[32m0.4724\u001b[0m       0.7925        \u001b[31m0.4965\u001b[0m  0.9362\n"
     ]
    },
    {
     "name": "stderr",
     "output_type": "stream",
     "text": [
      "/home/l7/dev/tools/anaconda3/lib/python3.6/site-packages/sklearn/metrics/classification.py:1135: UndefinedMetricWarning: F-score is ill-defined and being set to 0.0 due to no predicted samples.\n",
      "  'precision', 'predicted', average, warn_for)\n"
     ]
    },
    {
     "name": "stdout",
     "output_type": "stream",
     "text": [
      "     11  0.0000        \u001b[32m0.4649\u001b[0m       0.7925        \u001b[31m0.4811\u001b[0m  0.9218\n"
     ]
    },
    {
     "name": "stderr",
     "output_type": "stream",
     "text": [
      "/home/l7/dev/tools/anaconda3/lib/python3.6/site-packages/sklearn/metrics/classification.py:1135: UndefinedMetricWarning: F-score is ill-defined and being set to 0.0 due to no predicted samples.\n",
      "  'precision', 'predicted', average, warn_for)\n"
     ]
    },
    {
     "name": "stdout",
     "output_type": "stream",
     "text": [
      "     12  0.0000        \u001b[32m0.4575\u001b[0m       0.7925        0.5281  0.9296\n"
     ]
    },
    {
     "name": "stderr",
     "output_type": "stream",
     "text": [
      "/home/l7/dev/tools/anaconda3/lib/python3.6/site-packages/sklearn/metrics/classification.py:1135: UndefinedMetricWarning: F-score is ill-defined and being set to 0.0 due to no predicted samples.\n",
      "  'precision', 'predicted', average, warn_for)\n"
     ]
    },
    {
     "name": "stdout",
     "output_type": "stream",
     "text": [
      "     13  0.0000        \u001b[32m0.4505\u001b[0m       0.7925        0.5457  0.9255\n"
     ]
    },
    {
     "name": "stderr",
     "output_type": "stream",
     "text": [
      "/home/l7/dev/tools/anaconda3/lib/python3.6/site-packages/sklearn/metrics/classification.py:1135: UndefinedMetricWarning: F-score is ill-defined and being set to 0.0 due to no predicted samples.\n",
      "  'precision', 'predicted', average, warn_for)\n"
     ]
    },
    {
     "name": "stdout",
     "output_type": "stream",
     "text": [
      "     14  0.0351        \u001b[32m0.4500\u001b[0m       0.7944        0.4812  0.9207\n",
      "     15  0.0000        \u001b[32m0.4328\u001b[0m       0.7907        0.5833  0.9534\n",
      "     16  0.0000        \u001b[32m0.4302\u001b[0m       0.7925        0.5845  0.9480\n"
     ]
    },
    {
     "name": "stderr",
     "output_type": "stream",
     "text": [
      "/home/l7/dev/tools/anaconda3/lib/python3.6/site-packages/sklearn/metrics/classification.py:1135: UndefinedMetricWarning: F-score is ill-defined and being set to 0.0 due to no predicted samples.\n",
      "  'precision', 'predicted', average, warn_for)\n"
     ]
    },
    {
     "name": "stdout",
     "output_type": "stream",
     "text": [
      "     17  \u001b[36m0.2721\u001b[0m        \u001b[32m0.4198\u001b[0m       \u001b[35m0.8000\u001b[0m        \u001b[31m0.4807\u001b[0m  1.0021\n",
      "     18  0.0826        \u001b[32m0.4174\u001b[0m       0.7925        0.5233  0.9725\n",
      "     19  0.0000        \u001b[32m0.4079\u001b[0m       0.7925        0.5916  0.9899\n"
     ]
    },
    {
     "name": "stderr",
     "output_type": "stream",
     "text": [
      "/home/l7/dev/tools/anaconda3/lib/python3.6/site-packages/sklearn/metrics/classification.py:1135: UndefinedMetricWarning: F-score is ill-defined and being set to 0.0 due to no predicted samples.\n",
      "  'precision', 'predicted', average, warn_for)\n"
     ]
    },
    {
     "name": "stdout",
     "output_type": "stream",
     "text": [
      "     20  0.0517        0.4221       0.7944        0.5215  1.0015\n",
      "  epoch      f1    train_loss    valid_acc    valid_loss     dur\n",
      "-------  ------  ------------  -----------  ------------  ------\n",
      "      1  \u001b[36m0.0000\u001b[0m        \u001b[32m0.8756\u001b[0m       \u001b[35m0.7794\u001b[0m        \u001b[31m0.5344\u001b[0m  1.0750\n"
     ]
    },
    {
     "name": "stderr",
     "output_type": "stream",
     "text": [
      "/home/l7/dev/tools/anaconda3/lib/python3.6/site-packages/sklearn/metrics/classification.py:1135: UndefinedMetricWarning: F-score is ill-defined and being set to 0.0 due to no predicted samples.\n",
      "  'precision', 'predicted', average, warn_for)\n"
     ]
    },
    {
     "name": "stdout",
     "output_type": "stream",
     "text": [
      "      2  \u001b[36m0.0650\u001b[0m        \u001b[32m0.5418\u001b[0m       \u001b[35m0.7850\u001b[0m        \u001b[31m0.5027\u001b[0m  1.0799\n",
      "      3  \u001b[36m0.1765\u001b[0m        \u001b[32m0.5262\u001b[0m       \u001b[35m0.7907\u001b[0m        \u001b[31m0.4994\u001b[0m  1.0774\n",
      "      4  0.1752        \u001b[32m0.5220\u001b[0m       0.7888        0.4996  1.0861\n",
      "      5  \u001b[36m0.1884\u001b[0m        \u001b[32m0.5197\u001b[0m       0.7907        0.4994  1.0821\n",
      "      6  \u001b[36m0.2014\u001b[0m        \u001b[32m0.5181\u001b[0m       \u001b[35m0.7925\u001b[0m        0.5003  1.0778\n",
      "      7  0.1752        \u001b[32m0.5161\u001b[0m       0.7888        0.5009  1.0849\n",
      "      8  0.2014        \u001b[32m0.5143\u001b[0m       0.7925        0.5005  1.0825\n",
      "      9  \u001b[36m0.2649\u001b[0m        \u001b[32m0.5122\u001b[0m       0.7925        0.5063  1.0781\n",
      "     10  0.2361        \u001b[32m0.5062\u001b[0m       \u001b[35m0.7944\u001b[0m        \u001b[31m0.4978\u001b[0m  1.0790\n",
      "     11  \u001b[36m0.2683\u001b[0m        \u001b[32m0.4967\u001b[0m       0.7757        0.5176  1.0823\n",
      "     12  0.0650        0.5082       0.7850        0.5035  1.0855\n",
      "     13  0.0640        0.5126       0.7813        \u001b[31m0.4907\u001b[0m  1.0795\n",
      "     14  0.0000        \u001b[32m0.4818\u001b[0m       0.7794        0.5083  1.0765\n"
     ]
    },
    {
     "name": "stderr",
     "output_type": "stream",
     "text": [
      "/home/l7/dev/tools/anaconda3/lib/python3.6/site-packages/sklearn/metrics/classification.py:1135: UndefinedMetricWarning: F-score is ill-defined and being set to 0.0 due to no predicted samples.\n",
      "  'precision', 'predicted', average, warn_for)\n"
     ]
    },
    {
     "name": "stdout",
     "output_type": "stream",
     "text": [
      "     15  \u001b[36m0.3464\u001b[0m        \u001b[32m0.4627\u001b[0m       0.7813        0.4960  1.0820\n",
      "     16  \u001b[36m0.4598\u001b[0m        0.4630       0.7364        0.5381  1.0852\n",
      "     17  0.0333        \u001b[32m0.4543\u001b[0m       0.7832        0.5675  1.0914\n",
      "     18  0.0938        \u001b[32m0.4400\u001b[0m       0.7832        0.4927  1.0842\n",
      "     19  0.4242        0.4408       0.6093        0.7471  1.0816\n",
      "     20  0.0496        \u001b[32m0.4387\u001b[0m       0.7850        0.5147  1.1093\n",
      "  epoch      f1    train_loss    valid_acc    valid_loss     dur\n",
      "-------  ------  ------------  -----------  ------------  ------\n",
      "      1  \u001b[36m0.0667\u001b[0m        \u001b[32m0.7317\u001b[0m       \u001b[35m0.7907\u001b[0m        \u001b[31m0.5378\u001b[0m  1.0821\n",
      "      2  0.0661        \u001b[32m0.5600\u001b[0m       0.7888        \u001b[31m0.5103\u001b[0m  1.1183\n",
      "      3  \u001b[36m0.2581\u001b[0m        \u001b[32m0.5200\u001b[0m       0.7850        0.5319  1.0835\n",
      "      4  0.2581        \u001b[32m0.5031\u001b[0m       0.7850        0.5370  1.0803\n",
      "      5  \u001b[36m0.2692\u001b[0m        \u001b[32m0.4989\u001b[0m       0.7869        0.5509  1.0801\n",
      "      6  0.2581        \u001b[32m0.4967\u001b[0m       0.7850        0.5523  1.0797\n",
      "      7  0.2675        \u001b[32m0.4966\u001b[0m       0.7850        0.5639  1.0821\n",
      "      8  0.2581        \u001b[32m0.4947\u001b[0m       0.7850        0.5587  1.0842\n",
      "      9  \u001b[36m0.2750\u001b[0m        0.4971       0.7832        0.5705  1.0968\n",
      "     10  0.2400        0.4955       0.7869        0.5312  1.0870\n",
      "     11  \u001b[36m0.3000\u001b[0m        \u001b[32m0.4853\u001b[0m       0.7645        0.5623  1.1895\n",
      "     12  0.1898        0.4909       \u001b[35m0.7925\u001b[0m        0.5157  1.2083\n",
      "     13  0.2222        \u001b[32m0.4715\u001b[0m       0.7907        \u001b[31m0.5047\u001b[0m  1.2404\n",
      "     14  0.0968        \u001b[32m0.4660\u001b[0m       0.7907        \u001b[31m0.5014\u001b[0m  1.1999\n",
      "     15  0.2128        0.4737       0.7925        0.5027  1.2054\n",
      "     16  \u001b[36m0.4248\u001b[0m        \u001b[32m0.4643\u001b[0m       0.7570        0.5982  1.2038\n",
      "     17  0.1260        \u001b[32m0.4522\u001b[0m       0.7925        \u001b[31m0.4699\u001b[0m  1.2364\n",
      "     18  0.2649        0.4545       0.7925        0.4972  1.2487\n",
      "     19  0.2158        \u001b[32m0.4306\u001b[0m       \u001b[35m0.7963\u001b[0m        0.5303  1.2187\n",
      "     20  0.1129        \u001b[32m0.4213\u001b[0m       0.7944        0.4840  1.2111\n",
      "  epoch      f1    train_loss    valid_acc    valid_loss     dur\n",
      "-------  ------  ------------  -----------  ------------  ------\n",
      "      1  \u001b[36m0.0517\u001b[0m        \u001b[32m0.7024\u001b[0m       \u001b[35m0.7944\u001b[0m        \u001b[31m0.5066\u001b[0m  1.2079\n",
      "      2  0.0000        \u001b[32m0.5541\u001b[0m       0.7925        0.5154  1.2131\n"
     ]
    },
    {
     "name": "stderr",
     "output_type": "stream",
     "text": [
      "/home/l7/dev/tools/anaconda3/lib/python3.6/site-packages/sklearn/metrics/classification.py:1135: UndefinedMetricWarning: F-score is ill-defined and being set to 0.0 due to no predicted samples.\n",
      "  'precision', 'predicted', average, warn_for)\n"
     ]
    },
    {
     "name": "stdout",
     "output_type": "stream",
     "text": [
      "      3  0.0000        \u001b[32m0.5454\u001b[0m       0.7925        0.5617  1.2454\n"
     ]
    },
    {
     "name": "stderr",
     "output_type": "stream",
     "text": [
      "/home/l7/dev/tools/anaconda3/lib/python3.6/site-packages/sklearn/metrics/classification.py:1135: UndefinedMetricWarning: F-score is ill-defined and being set to 0.0 due to no predicted samples.\n",
      "  'precision', 'predicted', average, warn_for)\n"
     ]
    },
    {
     "name": "stdout",
     "output_type": "stream",
     "text": [
      "      4  \u001b[36m0.0984\u001b[0m        0.5644       0.7944        \u001b[31m0.4937\u001b[0m  1.2426\n",
      "      5  0.0840        \u001b[32m0.5100\u001b[0m       \u001b[35m0.7963\u001b[0m        0.4992  1.2443\n",
      "      6  0.0000        \u001b[32m0.4977\u001b[0m       0.7925        0.5272  1.2155\n"
     ]
    },
    {
     "name": "stderr",
     "output_type": "stream",
     "text": [
      "/home/l7/dev/tools/anaconda3/lib/python3.6/site-packages/sklearn/metrics/classification.py:1135: UndefinedMetricWarning: F-score is ill-defined and being set to 0.0 due to no predicted samples.\n",
      "  'precision', 'predicted', average, warn_for)\n"
     ]
    },
    {
     "name": "stdout",
     "output_type": "stream",
     "text": [
      "      7  0.0000        0.5092       0.7925        0.5558  1.2186\n"
     ]
    },
    {
     "name": "stderr",
     "output_type": "stream",
     "text": [
      "/home/l7/dev/tools/anaconda3/lib/python3.6/site-packages/sklearn/metrics/classification.py:1135: UndefinedMetricWarning: F-score is ill-defined and being set to 0.0 due to no predicted samples.\n",
      "  'precision', 'predicted', average, warn_for)\n"
     ]
    },
    {
     "name": "stdout",
     "output_type": "stream",
     "text": [
      "      8  0.0000        0.5049       0.7925        0.5226  1.2026\n"
     ]
    },
    {
     "name": "stderr",
     "output_type": "stream",
     "text": [
      "/home/l7/dev/tools/anaconda3/lib/python3.6/site-packages/sklearn/metrics/classification.py:1135: UndefinedMetricWarning: F-score is ill-defined and being set to 0.0 due to no predicted samples.\n",
      "  'precision', 'predicted', average, warn_for)\n"
     ]
    },
    {
     "name": "stdout",
     "output_type": "stream",
     "text": [
      "      9  0.0342        \u001b[32m0.4951\u001b[0m       0.7888        0.5378  1.2314\n",
      "     10  0.0000        \u001b[32m0.4890\u001b[0m       0.7925        0.5164  1.2056\n"
     ]
    },
    {
     "name": "stderr",
     "output_type": "stream",
     "text": [
      "/home/l7/dev/tools/anaconda3/lib/python3.6/site-packages/sklearn/metrics/classification.py:1135: UndefinedMetricWarning: F-score is ill-defined and being set to 0.0 due to no predicted samples.\n",
      "  'precision', 'predicted', average, warn_for)\n"
     ]
    },
    {
     "name": "stdout",
     "output_type": "stream",
     "text": [
      "     11  0.0351        0.4934       0.7944        0.5074  1.2334\n",
      "     12  0.0177        0.4894       0.7925        0.5402  1.2334\n",
      "     13  0.0351        \u001b[32m0.4847\u001b[0m       0.7944        0.5163  1.2254\n",
      "     14  0.0000        \u001b[32m0.4647\u001b[0m       0.7907        0.4981  1.2570\n",
      "     15  0.0000        0.4654       0.7925        0.5290  1.1361\n"
     ]
    },
    {
     "name": "stderr",
     "output_type": "stream",
     "text": [
      "/home/l7/dev/tools/anaconda3/lib/python3.6/site-packages/sklearn/metrics/classification.py:1135: UndefinedMetricWarning: F-score is ill-defined and being set to 0.0 due to no predicted samples.\n",
      "  'precision', 'predicted', average, warn_for)\n"
     ]
    },
    {
     "name": "stdout",
     "output_type": "stream",
     "text": [
      "     16  \u001b[36m0.1985\u001b[0m        \u001b[32m0.4553\u001b[0m       \u001b[35m0.8037\u001b[0m        0.5144  1.0880\n",
      "     17  \u001b[36m0.4332\u001b[0m        0.4580       0.7701        0.4957  1.0877\n",
      "     18  0.0000        \u001b[32m0.4449\u001b[0m       0.7925        0.5948  1.1160\n"
     ]
    },
    {
     "name": "stderr",
     "output_type": "stream",
     "text": [
      "/home/l7/dev/tools/anaconda3/lib/python3.6/site-packages/sklearn/metrics/classification.py:1135: UndefinedMetricWarning: F-score is ill-defined and being set to 0.0 due to no predicted samples.\n",
      "  'precision', 'predicted', average, warn_for)\n"
     ]
    },
    {
     "name": "stdout",
     "output_type": "stream",
     "text": [
      "     19  0.3553        0.4482       \u001b[35m0.8168\u001b[0m        0.5193  1.1119\n",
      "     20  0.0351        \u001b[32m0.4366\u001b[0m       0.7944        0.5610  1.0872\n",
      "  epoch      f1    train_loss    valid_acc    valid_loss     dur\n",
      "-------  ------  ------------  -----------  ------------  ------\n",
      "      1  \u001b[36m0.0000\u001b[0m        \u001b[32m0.7534\u001b[0m       \u001b[35m0.7794\u001b[0m        \u001b[31m0.5198\u001b[0m  1.2534\n"
     ]
    },
    {
     "name": "stderr",
     "output_type": "stream",
     "text": [
      "/home/l7/dev/tools/anaconda3/lib/python3.6/site-packages/sklearn/metrics/classification.py:1135: UndefinedMetricWarning: F-score is ill-defined and being set to 0.0 due to no predicted samples.\n",
      "  'precision', 'predicted', average, warn_for)\n"
     ]
    },
    {
     "name": "stdout",
     "output_type": "stream",
     "text": [
      "      2  \u001b[36m0.0650\u001b[0m        \u001b[32m0.5289\u001b[0m       \u001b[35m0.7850\u001b[0m        \u001b[31m0.5063\u001b[0m  1.2982\n",
      "      3  \u001b[36m0.1385\u001b[0m        \u001b[32m0.5256\u001b[0m       \u001b[35m0.7907\u001b[0m        \u001b[31m0.4997\u001b[0m  1.3206\n",
      "      4  0.0496        0.5318       0.7850        0.5031  1.2886\n",
      "      5  0.0000        0.5381       0.7794        0.5317  1.2324\n"
     ]
    },
    {
     "name": "stderr",
     "output_type": "stream",
     "text": [
      "/home/l7/dev/tools/anaconda3/lib/python3.6/site-packages/sklearn/metrics/classification.py:1135: UndefinedMetricWarning: F-score is ill-defined and being set to 0.0 due to no predicted samples.\n",
      "  'precision', 'predicted', average, warn_for)\n"
     ]
    },
    {
     "name": "stdout",
     "output_type": "stream",
     "text": [
      "      6  0.0000        \u001b[32m0.5178\u001b[0m       0.7794        0.5111  1.2357\n"
     ]
    },
    {
     "name": "stderr",
     "output_type": "stream",
     "text": [
      "/home/l7/dev/tools/anaconda3/lib/python3.6/site-packages/sklearn/metrics/classification.py:1135: UndefinedMetricWarning: F-score is ill-defined and being set to 0.0 due to no predicted samples.\n",
      "  'precision', 'predicted', average, warn_for)\n"
     ]
    },
    {
     "name": "stdout",
     "output_type": "stream",
     "text": [
      "      7  0.0000        0.5278       0.7794        0.5317  1.2396\n"
     ]
    },
    {
     "name": "stderr",
     "output_type": "stream",
     "text": [
      "/home/l7/dev/tools/anaconda3/lib/python3.6/site-packages/sklearn/metrics/classification.py:1135: UndefinedMetricWarning: F-score is ill-defined and being set to 0.0 due to no predicted samples.\n",
      "  'precision', 'predicted', average, warn_for)\n"
     ]
    },
    {
     "name": "stdout",
     "output_type": "stream",
     "text": [
      "      8  0.0333        \u001b[32m0.5017\u001b[0m       0.7832        0.5013  1.2449\n",
      "      9  0.0000        0.5110       0.7794        0.5347  1.2461\n"
     ]
    },
    {
     "name": "stderr",
     "output_type": "stream",
     "text": [
      "/home/l7/dev/tools/anaconda3/lib/python3.6/site-packages/sklearn/metrics/classification.py:1135: UndefinedMetricWarning: F-score is ill-defined and being set to 0.0 due to no predicted samples.\n",
      "  'precision', 'predicted', average, warn_for)\n"
     ]
    },
    {
     "name": "stdout",
     "output_type": "stream",
     "text": [
      "     10  0.0896        0.5085       0.7720        0.5272  1.2388\n",
      "     11  0.0168        \u001b[32m0.4933\u001b[0m       0.7813        0.5231  1.2826\n",
      "     12  \u001b[36m0.3163\u001b[0m        \u001b[32m0.4883\u001b[0m       0.7252        0.5407  1.2739\n",
      "     13  0.0496        \u001b[32m0.4807\u001b[0m       0.7850        0.5301  1.2855\n",
      "     14  0.0000        0.5094       0.7794        0.5028  1.2375\n"
     ]
    },
    {
     "name": "stderr",
     "output_type": "stream",
     "text": [
      "/home/l7/dev/tools/anaconda3/lib/python3.6/site-packages/sklearn/metrics/classification.py:1135: UndefinedMetricWarning: F-score is ill-defined and being set to 0.0 due to no predicted samples.\n",
      "  'precision', 'predicted', average, warn_for)\n"
     ]
    },
    {
     "name": "stdout",
     "output_type": "stream",
     "text": [
      "     15  0.0000        0.4896       0.7794        0.6160  1.2483\n"
     ]
    },
    {
     "name": "stderr",
     "output_type": "stream",
     "text": [
      "/home/l7/dev/tools/anaconda3/lib/python3.6/site-packages/sklearn/metrics/classification.py:1135: UndefinedMetricWarning: F-score is ill-defined and being set to 0.0 due to no predicted samples.\n",
      "  'precision', 'predicted', average, warn_for)\n"
     ]
    },
    {
     "name": "stdout",
     "output_type": "stream",
     "text": [
      "     16  0.2710        \u001b[32m0.4673\u001b[0m       0.7888        0.5183  1.3517\n",
      "     17  0.0333        \u001b[32m0.4506\u001b[0m       0.7832        0.5881  1.2829\n",
      "     18  0.1395        \u001b[32m0.4442\u001b[0m       \u001b[35m0.7925\u001b[0m        \u001b[31m0.4617\u001b[0m  1.2394\n",
      "     19  0.2206        0.4744       \u001b[35m0.8019\u001b[0m        0.5179  1.2760\n",
      "     20  0.0333        \u001b[32m0.4399\u001b[0m       0.7832        0.5794  1.2896\n",
      "  epoch      f1    train_loss    valid_acc    valid_loss     dur\n",
      "-------  ------  ------------  -----------  ------------  ------\n",
      "      1  \u001b[36m0.0508\u001b[0m        \u001b[32m0.6529\u001b[0m       \u001b[35m0.7907\u001b[0m        \u001b[31m0.5091\u001b[0m  1.2366\n",
      "      2  \u001b[36m0.0813\u001b[0m        \u001b[32m0.5154\u001b[0m       0.7888        0.5308  1.2417\n",
      "      3  \u001b[36m0.2222\u001b[0m        \u001b[32m0.5080\u001b[0m       0.7907        0.5482  1.2656\n",
      "      4  0.2113        \u001b[32m0.5037\u001b[0m       0.7907        0.5502  1.2482\n",
      "      5  0.2128        \u001b[32m0.5017\u001b[0m       \u001b[35m0.7925\u001b[0m        0.5520  1.2426\n",
      "      6  0.2128        \u001b[32m0.5005\u001b[0m       0.7925        0.5510  1.2487\n",
      "      7  0.2222        0.5027       0.7907        0.5578  1.2662\n",
      "      8  0.0661        0.5028       0.7888        0.5141  1.2682\n",
      "      9  0.2143        \u001b[32m0.4912\u001b[0m       \u001b[35m0.7944\u001b[0m        0.5282  1.2433\n",
      "     10  0.1791        0.4939       0.7944        0.5210  1.2335\n",
      "     11  0.1739        \u001b[32m0.4900\u001b[0m       0.7869        0.5200  1.2363\n",
      "     12  0.1654        0.4945       0.7925        0.5242  1.2459\n",
      "     13  \u001b[36m0.2267\u001b[0m        \u001b[32m0.4846\u001b[0m       0.7832        0.5458  1.2714\n",
      "     14  0.2014        0.5030       0.7925        0.5157  1.2495\n",
      "     15  0.0968        0.4906       0.7907        0.5199  1.2431\n",
      "     16  0.2143        0.4880       0.7944        0.5275  1.2580\n",
      "     17  0.1898        \u001b[32m0.4789\u001b[0m       0.7925        0.5225  1.2450\n",
      "     18  0.0661        0.4797       0.7888        \u001b[31m0.5070\u001b[0m  1.2334\n",
      "     19  0.1364        \u001b[32m0.4663\u001b[0m       0.7869        \u001b[31m0.5010\u001b[0m  1.2390\n",
      "     20  \u001b[36m0.3704\u001b[0m        \u001b[32m0.4637\u001b[0m       0.6822        0.6176  1.2333\n",
      "  epoch      f1    train_loss    valid_acc    valid_loss     dur\n",
      "-------  ------  ------------  -----------  ------------  ------\n",
      "      1  \u001b[36m0.0517\u001b[0m        \u001b[32m0.6374\u001b[0m       \u001b[35m0.7944\u001b[0m        \u001b[31m0.5110\u001b[0m  1.2555\n",
      "      2  0.0000        \u001b[32m0.5238\u001b[0m       0.7925        \u001b[31m0.4981\u001b[0m  1.2481\n"
     ]
    },
    {
     "name": "stderr",
     "output_type": "stream",
     "text": [
      "/home/l7/dev/tools/anaconda3/lib/python3.6/site-packages/sklearn/metrics/classification.py:1135: UndefinedMetricWarning: F-score is ill-defined and being set to 0.0 due to no predicted samples.\n",
      "  'precision', 'predicted', average, warn_for)\n"
     ]
    },
    {
     "name": "stdout",
     "output_type": "stream",
     "text": [
      "      3  0.0000        0.5306       0.7925        0.5377  1.3156\n"
     ]
    },
    {
     "name": "stderr",
     "output_type": "stream",
     "text": [
      "/home/l7/dev/tools/anaconda3/lib/python3.6/site-packages/sklearn/metrics/classification.py:1135: UndefinedMetricWarning: F-score is ill-defined and being set to 0.0 due to no predicted samples.\n",
      "  'precision', 'predicted', average, warn_for)\n"
     ]
    },
    {
     "name": "stdout",
     "output_type": "stream",
     "text": [
      "      4  \u001b[36m0.0826\u001b[0m        0.5424       0.7925        \u001b[31m0.4944\u001b[0m  1.2487\n",
      "      5  0.0513        \u001b[32m0.5012\u001b[0m       0.7925        0.5028  1.2522\n",
      "      6  0.0000        \u001b[32m0.4971\u001b[0m       0.7925        0.5193  1.2498\n"
     ]
    },
    {
     "name": "stderr",
     "output_type": "stream",
     "text": [
      "/home/l7/dev/tools/anaconda3/lib/python3.6/site-packages/sklearn/metrics/classification.py:1135: UndefinedMetricWarning: F-score is ill-defined and being set to 0.0 due to no predicted samples.\n",
      "  'precision', 'predicted', average, warn_for)\n"
     ]
    },
    {
     "name": "stdout",
     "output_type": "stream",
     "text": [
      "      7  0.0000        0.5043       0.7925        0.5192  1.2808\n"
     ]
    },
    {
     "name": "stderr",
     "output_type": "stream",
     "text": [
      "/home/l7/dev/tools/anaconda3/lib/python3.6/site-packages/sklearn/metrics/classification.py:1135: UndefinedMetricWarning: F-score is ill-defined and being set to 0.0 due to no predicted samples.\n",
      "  'precision', 'predicted', average, warn_for)\n"
     ]
    },
    {
     "name": "stdout",
     "output_type": "stream",
     "text": [
      "      8  0.0000        \u001b[32m0.4943\u001b[0m       0.7925        0.5144  1.3071\n"
     ]
    },
    {
     "name": "stderr",
     "output_type": "stream",
     "text": [
      "/home/l7/dev/tools/anaconda3/lib/python3.6/site-packages/sklearn/metrics/classification.py:1135: UndefinedMetricWarning: F-score is ill-defined and being set to 0.0 due to no predicted samples.\n",
      "  'precision', 'predicted', average, warn_for)\n"
     ]
    },
    {
     "name": "stdout",
     "output_type": "stream",
     "text": [
      "      9  0.0000        \u001b[32m0.4915\u001b[0m       0.7925        0.5182  1.2725\n"
     ]
    },
    {
     "name": "stderr",
     "output_type": "stream",
     "text": [
      "/home/l7/dev/tools/anaconda3/lib/python3.6/site-packages/sklearn/metrics/classification.py:1135: UndefinedMetricWarning: F-score is ill-defined and being set to 0.0 due to no predicted samples.\n",
      "  'precision', 'predicted', average, warn_for)\n"
     ]
    },
    {
     "name": "stdout",
     "output_type": "stream",
     "text": [
      "     10  0.0000        0.4916       0.7925        0.5307  1.2601\n"
     ]
    },
    {
     "name": "stderr",
     "output_type": "stream",
     "text": [
      "/home/l7/dev/tools/anaconda3/lib/python3.6/site-packages/sklearn/metrics/classification.py:1135: UndefinedMetricWarning: F-score is ill-defined and being set to 0.0 due to no predicted samples.\n",
      "  'precision', 'predicted', average, warn_for)\n"
     ]
    },
    {
     "name": "stdout",
     "output_type": "stream",
     "text": [
      "     11  0.0667        \u001b[32m0.4857\u001b[0m       0.7907        0.5420  1.2312\n",
      "     12  0.0000        \u001b[32m0.4794\u001b[0m       0.7925        0.5359  1.2323\n"
     ]
    },
    {
     "name": "stderr",
     "output_type": "stream",
     "text": [
      "/home/l7/dev/tools/anaconda3/lib/python3.6/site-packages/sklearn/metrics/classification.py:1135: UndefinedMetricWarning: F-score is ill-defined and being set to 0.0 due to no predicted samples.\n",
      "  'precision', 'predicted', average, warn_for)\n"
     ]
    },
    {
     "name": "stdout",
     "output_type": "stream",
     "text": [
      "     13  0.0348        0.4804       0.7925        0.4958  1.3279\n",
      "     14  0.0179        \u001b[32m0.4637\u001b[0m       0.7944        0.5642  1.4022\n",
      "     15  0.0517        \u001b[32m0.4617\u001b[0m       0.7944        \u001b[31m0.4929\u001b[0m  1.2674\n",
      "     16  \u001b[36m0.3318\u001b[0m        \u001b[32m0.4505\u001b[0m       0.7364        0.5890  1.2354\n",
      "     17  0.3185        \u001b[32m0.4400\u001b[0m       \u001b[35m0.8000\u001b[0m        0.5018  1.2329\n",
      "     18  0.0690        0.4421       0.7981        0.5096  1.2403\n",
      "     19  0.0351        \u001b[32m0.4323\u001b[0m       0.7944        0.5156  1.2323\n",
      "     20  \u001b[36m0.4052\u001b[0m        \u001b[32m0.4310\u001b[0m       0.6598        0.6655  1.2555\n",
      "  epoch      f1    train_loss    valid_acc    valid_loss     dur\n",
      "-------  ------  ------------  -----------  ------------  ------\n",
      "      1  \u001b[36m0.0000\u001b[0m        \u001b[32m0.8975\u001b[0m       \u001b[35m0.7794\u001b[0m        \u001b[31m0.5125\u001b[0m  1.0018\n"
     ]
    },
    {
     "name": "stderr",
     "output_type": "stream",
     "text": [
      "/home/l7/dev/tools/anaconda3/lib/python3.6/site-packages/sklearn/metrics/classification.py:1135: UndefinedMetricWarning: F-score is ill-defined and being set to 0.0 due to no predicted samples.\n",
      "  'precision', 'predicted', average, warn_for)\n"
     ]
    },
    {
     "name": "stdout",
     "output_type": "stream",
     "text": [
      "      2  \u001b[36m0.0945\u001b[0m        \u001b[32m0.5722\u001b[0m       \u001b[35m0.7850\u001b[0m        \u001b[31m0.5026\u001b[0m  0.9922\n",
      "      3  \u001b[36m0.2432\u001b[0m        \u001b[32m0.5380\u001b[0m       \u001b[35m0.7907\u001b[0m        0.5036  1.0540\n",
      "      4  0.2254        \u001b[32m0.5298\u001b[0m       \u001b[35m0.7944\u001b[0m        0.5027  0.9971\n",
      "      5  0.1752        \u001b[32m0.5232\u001b[0m       0.7888        \u001b[31m0.4999\u001b[0m  1.0032\n",
      "      6  0.1765        \u001b[32m0.5198\u001b[0m       0.7907        0.5002  0.9984\n",
      "      7  0.1986        \u001b[32m0.5164\u001b[0m       0.7888        \u001b[31m0.4983\u001b[0m  0.9932\n",
      "      8  0.2238        0.5170       0.7925        0.5096  0.9986\n",
      "      9  0.0000        \u001b[32m0.5110\u001b[0m       0.7794        0.5057  0.9916\n"
     ]
    },
    {
     "name": "stderr",
     "output_type": "stream",
     "text": [
      "/home/l7/dev/tools/anaconda3/lib/python3.6/site-packages/sklearn/metrics/classification.py:1135: UndefinedMetricWarning: F-score is ill-defined and being set to 0.0 due to no predicted samples.\n",
      "  'precision', 'predicted', average, warn_for)\n"
     ]
    },
    {
     "name": "stdout",
     "output_type": "stream",
     "text": [
      "     10  0.0333        0.5124       0.7832        \u001b[31m0.4974\u001b[0m  0.9942\n",
      "     11  0.0787        \u001b[32m0.4894\u001b[0m       0.7813        0.4981  0.9918\n",
      "     12  0.0333        0.5010       0.7832        \u001b[31m0.4879\u001b[0m  0.9993\n",
      "     13  0.0000        \u001b[32m0.4768\u001b[0m       0.7794        0.4899  0.9886\n"
     ]
    },
    {
     "name": "stderr",
     "output_type": "stream",
     "text": [
      "/home/l7/dev/tools/anaconda3/lib/python3.6/site-packages/sklearn/metrics/classification.py:1135: UndefinedMetricWarning: F-score is ill-defined and being set to 0.0 due to no predicted samples.\n",
      "  'precision', 'predicted', average, warn_for)\n"
     ]
    },
    {
     "name": "stdout",
     "output_type": "stream",
     "text": [
      "     14  0.0800        \u001b[32m0.4590\u001b[0m       0.7850        \u001b[31m0.4616\u001b[0m  1.0027\n",
      "     15  0.1120        \u001b[32m0.4524\u001b[0m       0.7925        0.4771  1.0026\n",
      "     16  0.0635        \u001b[32m0.4336\u001b[0m       0.7794        0.5119  1.0006\n",
      "     17  0.0496        \u001b[32m0.4269\u001b[0m       0.7850        0.4788  0.9942\n",
      "     18  \u001b[36m0.3353\u001b[0m        \u001b[32m0.4199\u001b[0m       0.7925        0.4698  1.0041\n",
      "     19  0.0496        \u001b[32m0.4165\u001b[0m       0.7850        0.5663  1.0118\n",
      "     20  \u001b[36m0.5197\u001b[0m        \u001b[32m0.4159\u001b[0m       0.7720        0.4943  1.0269\n",
      "  epoch      f1    train_loss    valid_acc    valid_loss     dur\n",
      "-------  ------  ------------  -----------  ------------  ------\n",
      "      1  \u001b[36m0.0667\u001b[0m        \u001b[32m0.7464\u001b[0m       \u001b[35m0.7907\u001b[0m        \u001b[31m0.5074\u001b[0m  1.0053\n",
      "      2  \u001b[36m0.1120\u001b[0m        \u001b[32m0.5383\u001b[0m       \u001b[35m0.7925\u001b[0m        0.5222  1.0314\n",
      "      3  \u001b[36m0.2581\u001b[0m        \u001b[32m0.5302\u001b[0m       0.7850        0.5654  0.9978\n",
      "      4  0.2581        \u001b[32m0.5114\u001b[0m       0.7850        0.5366  0.9916\n",
      "      5  0.2581        \u001b[32m0.5006\u001b[0m       0.7850        0.5411  0.9875\n",
      "      6  \u001b[36m0.2692\u001b[0m        \u001b[32m0.4981\u001b[0m       0.7869        0.5462  1.0309\n",
      "      7  0.2675        \u001b[32m0.4940\u001b[0m       0.7850        0.5456  0.9945\n",
      "      8  0.2252        \u001b[32m0.4869\u001b[0m       0.7813        0.5354  0.9868\n",
      "      9  0.2581        \u001b[32m0.4778\u001b[0m       0.7850        0.5291  0.9920\n",
      "     10  \u001b[36m0.3667\u001b[0m        0.4829       0.7869        0.5683  0.9929\n",
      "     11  0.2767        \u001b[32m0.4732\u001b[0m       0.7850        0.5574  1.0009\n",
      "     12  0.2690        \u001b[32m0.4668\u001b[0m       0.7664        0.5312  1.0048\n",
      "     13  0.3133        0.4790       0.7869        0.5400  1.0111\n",
      "     14  0.2803        \u001b[32m0.4504\u001b[0m       0.7888        \u001b[31m0.5052\u001b[0m  1.0546\n",
      "     15  0.2222        \u001b[32m0.4259\u001b[0m       0.7907        0.7499  1.0367\n",
      "     16  0.3444        \u001b[32m0.4219\u001b[0m       0.7794        0.5229  1.1323\n",
      "     17  0.2361        0.4238       \u001b[35m0.7944\u001b[0m        \u001b[31m0.5007\u001b[0m  1.1227\n",
      "     18  \u001b[36m0.4573\u001b[0m        \u001b[32m0.4066\u001b[0m       0.6673        0.6516  1.0858\n",
      "     19  0.3559        \u001b[32m0.4040\u001b[0m       0.2897        0.9121  1.0792\n",
      "     20  0.3488        \u001b[32m0.3999\u001b[0m       0.2112        1.5274  1.1283\n",
      "  epoch      f1    train_loss    valid_acc    valid_loss     dur\n",
      "-------  ------  ------------  -----------  ------------  ------\n",
      "      1  \u001b[36m0.0000\u001b[0m        \u001b[32m0.7514\u001b[0m       \u001b[35m0.7925\u001b[0m        \u001b[31m0.5063\u001b[0m  1.2006\n"
     ]
    },
    {
     "name": "stderr",
     "output_type": "stream",
     "text": [
      "/home/l7/dev/tools/anaconda3/lib/python3.6/site-packages/sklearn/metrics/classification.py:1135: UndefinedMetricWarning: F-score is ill-defined and being set to 0.0 due to no predicted samples.\n",
      "  'precision', 'predicted', average, warn_for)\n"
     ]
    },
    {
     "name": "stdout",
     "output_type": "stream",
     "text": [
      "      2  0.0000        \u001b[32m0.5376\u001b[0m       0.7925        0.5236  1.1390\n"
     ]
    },
    {
     "name": "stderr",
     "output_type": "stream",
     "text": [
      "/home/l7/dev/tools/anaconda3/lib/python3.6/site-packages/sklearn/metrics/classification.py:1135: UndefinedMetricWarning: F-score is ill-defined and being set to 0.0 due to no predicted samples.\n",
      "  'precision', 'predicted', average, warn_for)\n"
     ]
    },
    {
     "name": "stdout",
     "output_type": "stream",
     "text": [
      "      3  0.0000        \u001b[32m0.5207\u001b[0m       0.7925        0.5334  1.3147\n"
     ]
    },
    {
     "name": "stderr",
     "output_type": "stream",
     "text": [
      "/home/l7/dev/tools/anaconda3/lib/python3.6/site-packages/sklearn/metrics/classification.py:1135: UndefinedMetricWarning: F-score is ill-defined and being set to 0.0 due to no predicted samples.\n",
      "  'precision', 'predicted', average, warn_for)\n"
     ]
    },
    {
     "name": "stdout",
     "output_type": "stream",
     "text": [
      "      4  0.0000        0.5237       0.7925        0.5478  1.2703\n"
     ]
    },
    {
     "name": "stderr",
     "output_type": "stream",
     "text": [
      "/home/l7/dev/tools/anaconda3/lib/python3.6/site-packages/sklearn/metrics/classification.py:1135: UndefinedMetricWarning: F-score is ill-defined and being set to 0.0 due to no predicted samples.\n",
      "  'precision', 'predicted', average, warn_for)\n"
     ]
    },
    {
     "name": "stdout",
     "output_type": "stream",
     "text": [
      "      5  0.0000        0.5231       0.7925        0.5262  1.4600\n"
     ]
    },
    {
     "name": "stderr",
     "output_type": "stream",
     "text": [
      "/home/l7/dev/tools/anaconda3/lib/python3.6/site-packages/sklearn/metrics/classification.py:1135: UndefinedMetricWarning: F-score is ill-defined and being set to 0.0 due to no predicted samples.\n",
      "  'precision', 'predicted', average, warn_for)\n"
     ]
    },
    {
     "name": "stdout",
     "output_type": "stream",
     "text": [
      "      6  0.0000        \u001b[32m0.5030\u001b[0m       0.7925        0.5333  1.3124\n"
     ]
    },
    {
     "name": "stderr",
     "output_type": "stream",
     "text": [
      "/home/l7/dev/tools/anaconda3/lib/python3.6/site-packages/sklearn/metrics/classification.py:1135: UndefinedMetricWarning: F-score is ill-defined and being set to 0.0 due to no predicted samples.\n",
      "  'precision', 'predicted', average, warn_for)\n"
     ]
    },
    {
     "name": "stdout",
     "output_type": "stream",
     "text": [
      "      7  0.0000        \u001b[32m0.4934\u001b[0m       0.7925        0.5284  1.2749\n"
     ]
    },
    {
     "name": "stderr",
     "output_type": "stream",
     "text": [
      "/home/l7/dev/tools/anaconda3/lib/python3.6/site-packages/sklearn/metrics/classification.py:1135: UndefinedMetricWarning: F-score is ill-defined and being set to 0.0 due to no predicted samples.\n",
      "  'precision', 'predicted', average, warn_for)\n"
     ]
    },
    {
     "name": "stdout",
     "output_type": "stream",
     "text": [
      "      8  0.0000        \u001b[32m0.4903\u001b[0m       0.7925        0.5148  1.1900\n"
     ]
    },
    {
     "name": "stderr",
     "output_type": "stream",
     "text": [
      "/home/l7/dev/tools/anaconda3/lib/python3.6/site-packages/sklearn/metrics/classification.py:1135: UndefinedMetricWarning: F-score is ill-defined and being set to 0.0 due to no predicted samples.\n",
      "  'precision', 'predicted', average, warn_for)\n"
     ]
    },
    {
     "name": "stdout",
     "output_type": "stream",
     "text": [
      "      9  0.0000        \u001b[32m0.4846\u001b[0m       0.7925        0.5138  1.0919\n"
     ]
    },
    {
     "name": "stderr",
     "output_type": "stream",
     "text": [
      "/home/l7/dev/tools/anaconda3/lib/python3.6/site-packages/sklearn/metrics/classification.py:1135: UndefinedMetricWarning: F-score is ill-defined and being set to 0.0 due to no predicted samples.\n",
      "  'precision', 'predicted', average, warn_for)\n"
     ]
    },
    {
     "name": "stdout",
     "output_type": "stream",
     "text": [
      "     10  0.0000        \u001b[32m0.4804\u001b[0m       0.7925        0.5336  0.9981\n"
     ]
    },
    {
     "name": "stderr",
     "output_type": "stream",
     "text": [
      "/home/l7/dev/tools/anaconda3/lib/python3.6/site-packages/sklearn/metrics/classification.py:1135: UndefinedMetricWarning: F-score is ill-defined and being set to 0.0 due to no predicted samples.\n",
      "  'precision', 'predicted', average, warn_for)\n"
     ]
    },
    {
     "name": "stdout",
     "output_type": "stream",
     "text": [
      "     11  0.0000        \u001b[32m0.4639\u001b[0m       0.7925        0.5423  0.9934\n"
     ]
    },
    {
     "name": "stderr",
     "output_type": "stream",
     "text": [
      "/home/l7/dev/tools/anaconda3/lib/python3.6/site-packages/sklearn/metrics/classification.py:1135: UndefinedMetricWarning: F-score is ill-defined and being set to 0.0 due to no predicted samples.\n",
      "  'precision', 'predicted', average, warn_for)\n"
     ]
    },
    {
     "name": "stdout",
     "output_type": "stream",
     "text": [
      "     12  0.0000        \u001b[32m0.4571\u001b[0m       0.7925        0.5522  1.0134\n"
     ]
    },
    {
     "name": "stderr",
     "output_type": "stream",
     "text": [
      "/home/l7/dev/tools/anaconda3/lib/python3.6/site-packages/sklearn/metrics/classification.py:1135: UndefinedMetricWarning: F-score is ill-defined and being set to 0.0 due to no predicted samples.\n",
      "  'precision', 'predicted', average, warn_for)\n"
     ]
    },
    {
     "name": "stdout",
     "output_type": "stream",
     "text": [
      "     13  \u001b[36m0.3604\u001b[0m        \u001b[32m0.4511\u001b[0m       0.7346        0.5604  1.0095\n",
      "     14  0.0513        \u001b[32m0.4364\u001b[0m       0.7925        0.5145  1.0156\n",
      "     15  0.0517        0.4420       \u001b[35m0.7944\u001b[0m        \u001b[31m0.4958\u001b[0m  1.0076\n",
      "     16  0.0179        0.4515       0.7944        0.5190  1.0678\n",
      "     17  0.1301        \u001b[32m0.4239\u001b[0m       \u001b[35m0.8000\u001b[0m        \u001b[31m0.4614\u001b[0m  1.0507\n",
      "     18  0.1832        \u001b[32m0.4138\u001b[0m       0.8000        0.5190  1.0136\n",
      "     19  0.0522        \u001b[32m0.4132\u001b[0m       0.7963        0.5251  1.0027\n",
      "     20  0.0847        \u001b[32m0.4059\u001b[0m       0.7981        0.5401  1.0031\n",
      "  epoch      f1    train_loss    valid_acc    valid_loss     dur\n",
      "-------  ------  ------------  -----------  ------------  ------\n",
      "      1  \u001b[36m0.0000\u001b[0m        \u001b[32m0.6558\u001b[0m       \u001b[35m0.7794\u001b[0m        \u001b[31m0.5357\u001b[0m  0.9635\n"
     ]
    },
    {
     "name": "stderr",
     "output_type": "stream",
     "text": [
      "/home/l7/dev/tools/anaconda3/lib/python3.6/site-packages/sklearn/metrics/classification.py:1135: UndefinedMetricWarning: F-score is ill-defined and being set to 0.0 due to no predicted samples.\n",
      "  'precision', 'predicted', average, warn_for)\n"
     ]
    },
    {
     "name": "stdout",
     "output_type": "stream",
     "text": [
      "      2  \u001b[36m0.0496\u001b[0m        \u001b[32m0.5418\u001b[0m       \u001b[35m0.7850\u001b[0m        \u001b[31m0.5041\u001b[0m  0.9734\n",
      "      3  0.0333        \u001b[32m0.5296\u001b[0m       0.7832        0.5046  0.9515\n",
      "      4  0.0000        \u001b[32m0.5241\u001b[0m       0.7794        0.5105  0.9500\n"
     ]
    },
    {
     "name": "stderr",
     "output_type": "stream",
     "text": [
      "/home/l7/dev/tools/anaconda3/lib/python3.6/site-packages/sklearn/metrics/classification.py:1135: UndefinedMetricWarning: F-score is ill-defined and being set to 0.0 due to no predicted samples.\n",
      "  'precision', 'predicted', average, warn_for)\n"
     ]
    },
    {
     "name": "stdout",
     "output_type": "stream",
     "text": [
      "      5  0.0000        \u001b[32m0.5179\u001b[0m       0.7794        0.5086  0.9548\n"
     ]
    },
    {
     "name": "stderr",
     "output_type": "stream",
     "text": [
      "/home/l7/dev/tools/anaconda3/lib/python3.6/site-packages/sklearn/metrics/classification.py:1135: UndefinedMetricWarning: F-score is ill-defined and being set to 0.0 due to no predicted samples.\n",
      "  'precision', 'predicted', average, warn_for)\n"
     ]
    },
    {
     "name": "stdout",
     "output_type": "stream",
     "text": [
      "      6  0.0000        \u001b[32m0.5145\u001b[0m       0.7794        0.5095  0.9715\n"
     ]
    },
    {
     "name": "stderr",
     "output_type": "stream",
     "text": [
      "/home/l7/dev/tools/anaconda3/lib/python3.6/site-packages/sklearn/metrics/classification.py:1135: UndefinedMetricWarning: F-score is ill-defined and being set to 0.0 due to no predicted samples.\n",
      "  'precision', 'predicted', average, warn_for)\n"
     ]
    },
    {
     "name": "stdout",
     "output_type": "stream",
     "text": [
      "      7  0.0000        \u001b[32m0.5108\u001b[0m       0.7794        0.5155  0.9658\n"
     ]
    },
    {
     "name": "stderr",
     "output_type": "stream",
     "text": [
      "/home/l7/dev/tools/anaconda3/lib/python3.6/site-packages/sklearn/metrics/classification.py:1135: UndefinedMetricWarning: F-score is ill-defined and being set to 0.0 due to no predicted samples.\n",
      "  'precision', 'predicted', average, warn_for)\n"
     ]
    },
    {
     "name": "stdout",
     "output_type": "stream",
     "text": [
      "      8  0.0333        \u001b[32m0.5103\u001b[0m       0.7832        0.5205  0.9659\n",
      "      9  0.0168        0.5120       0.7813        \u001b[31m0.5036\u001b[0m  0.9479\n",
      "     10  0.0168        \u001b[32m0.5059\u001b[0m       0.7813        \u001b[31m0.4998\u001b[0m  0.9797\n",
      "     11  \u001b[36m0.1304\u001b[0m        \u001b[32m0.4973\u001b[0m       0.7757        0.5027  1.0003\n",
      "     12  \u001b[36m0.2439\u001b[0m        \u001b[32m0.4924\u001b[0m       0.7682        0.5075  0.9608\n",
      "     13  0.0168        \u001b[32m0.4896\u001b[0m       0.7813        0.5027  0.9848\n",
      "     14  0.0333        \u001b[32m0.4854\u001b[0m       0.7832        \u001b[31m0.4886\u001b[0m  0.9694\n",
      "     15  0.0650        \u001b[32m0.4795\u001b[0m       0.7850        0.4945  1.0271\n",
      "     16  0.0000        \u001b[32m0.4785\u001b[0m       0.7794        0.5015  0.9637\n"
     ]
    },
    {
     "name": "stderr",
     "output_type": "stream",
     "text": [
      "/home/l7/dev/tools/anaconda3/lib/python3.6/site-packages/sklearn/metrics/classification.py:1135: UndefinedMetricWarning: F-score is ill-defined and being set to 0.0 due to no predicted samples.\n",
      "  'precision', 'predicted', average, warn_for)\n"
     ]
    },
    {
     "name": "stdout",
     "output_type": "stream",
     "text": [
      "     17  \u001b[36m0.3691\u001b[0m        \u001b[32m0.4586\u001b[0m       0.5720        0.7054  0.9670\n",
      "     18  0.0000        0.4793       0.7794        \u001b[31m0.4874\u001b[0m  0.9598\n"
     ]
    },
    {
     "name": "stderr",
     "output_type": "stream",
     "text": [
      "/home/l7/dev/tools/anaconda3/lib/python3.6/site-packages/sklearn/metrics/classification.py:1135: UndefinedMetricWarning: F-score is ill-defined and being set to 0.0 due to no predicted samples.\n",
      "  'precision', 'predicted', average, warn_for)\n"
     ]
    },
    {
     "name": "stdout",
     "output_type": "stream",
     "text": [
      "     19  0.0000        0.4619       0.7794        \u001b[31m0.4808\u001b[0m  0.9854\n"
     ]
    },
    {
     "name": "stderr",
     "output_type": "stream",
     "text": [
      "/home/l7/dev/tools/anaconda3/lib/python3.6/site-packages/sklearn/metrics/classification.py:1135: UndefinedMetricWarning: F-score is ill-defined and being set to 0.0 due to no predicted samples.\n",
      "  'precision', 'predicted', average, warn_for)\n"
     ]
    },
    {
     "name": "stdout",
     "output_type": "stream",
     "text": [
      "     20  \u001b[36m0.4706\u001b[0m        \u001b[32m0.4533\u001b[0m       \u001b[35m0.7981\u001b[0m        0.4911  1.1093\n",
      "  epoch      f1    train_loss    valid_acc    valid_loss     dur\n",
      "-------  ------  ------------  -----------  ------------  ------\n",
      "      1  \u001b[36m0.0667\u001b[0m        \u001b[32m0.6315\u001b[0m       \u001b[35m0.7907\u001b[0m        \u001b[31m0.5148\u001b[0m  0.9551\n",
      "      2  0.0661        \u001b[32m0.5178\u001b[0m       0.7888        \u001b[31m0.5130\u001b[0m  0.9493\n",
      "      3  \u001b[36m0.2128\u001b[0m        \u001b[32m0.5045\u001b[0m       \u001b[35m0.7925\u001b[0m        0.5194  0.9597\n",
      "      4  0.2128        \u001b[32m0.4999\u001b[0m       0.7925        0.5221  0.9649\n",
      "      5  \u001b[36m0.2282\u001b[0m        \u001b[32m0.4969\u001b[0m       0.7850        0.5285  0.9563\n",
      "      6  0.2282        \u001b[32m0.4935\u001b[0m       0.7850        0.5275  0.9723\n",
      "      7  0.2113        \u001b[32m0.4908\u001b[0m       0.7907        0.5231  0.9601\n",
      "      8  0.2143        \u001b[32m0.4868\u001b[0m       \u001b[35m0.7944\u001b[0m        0.5230  0.9472\n",
      "      9  \u001b[36m0.2581\u001b[0m        0.4888       0.7850        0.5368  0.9509\n",
      "     10  0.1912        0.4892       0.7944        0.5157  0.9982\n",
      "     11  \u001b[36m0.2750\u001b[0m        0.4874       0.7832        0.5649  1.0405\n",
      "     12  0.1270        \u001b[32m0.4862\u001b[0m       0.7944        \u001b[31m0.5047\u001b[0m  0.9661\n",
      "     13  0.1791        \u001b[32m0.4821\u001b[0m       0.7944        \u001b[31m0.4981\u001b[0m  0.9623\n",
      "     14  0.0976        \u001b[32m0.4698\u001b[0m       0.7925        \u001b[31m0.4739\u001b[0m  1.0161\n",
      "     15  0.0661        0.4795       0.7888        0.4831  1.0223\n",
      "     16  0.2254        \u001b[32m0.4624\u001b[0m       0.7944        0.4832  0.9688\n",
      "     17  0.2238        0.4654       0.7925        0.5148  0.9592\n",
      "     18  0.0820        \u001b[32m0.4576\u001b[0m       0.7907        0.5025  0.9735\n",
      "     19  0.2270        0.4650       \u001b[35m0.7963\u001b[0m        0.4936  0.9785\n",
      "     20  0.2394        \u001b[32m0.4484\u001b[0m       \u001b[35m0.7981\u001b[0m        \u001b[31m0.4514\u001b[0m  0.9791\n",
      "  epoch      f1    train_loss    valid_acc    valid_loss     dur\n",
      "-------  ------  ------------  -----------  ------------  ------\n",
      "      1  \u001b[36m0.0000\u001b[0m        \u001b[32m0.6583\u001b[0m       \u001b[35m0.7925\u001b[0m        \u001b[31m0.5300\u001b[0m  0.9750\n"
     ]
    },
    {
     "name": "stderr",
     "output_type": "stream",
     "text": [
      "/home/l7/dev/tools/anaconda3/lib/python3.6/site-packages/sklearn/metrics/classification.py:1135: UndefinedMetricWarning: F-score is ill-defined and being set to 0.0 due to no predicted samples.\n",
      "  'precision', 'predicted', average, warn_for)\n"
     ]
    },
    {
     "name": "stdout",
     "output_type": "stream",
     "text": [
      "      2  \u001b[36m0.0177\u001b[0m        \u001b[32m0.5466\u001b[0m       0.7925        \u001b[31m0.5004\u001b[0m  0.9620\n",
      "      3  \u001b[36m0.2044\u001b[0m        \u001b[32m0.4982\u001b[0m       \u001b[35m0.7963\u001b[0m        0.5005  0.9642\n",
      "      4  0.0000        0.5000       0.7925        0.5309  0.9586\n"
     ]
    },
    {
     "name": "stderr",
     "output_type": "stream",
     "text": [
      "/home/l7/dev/tools/anaconda3/lib/python3.6/site-packages/sklearn/metrics/classification.py:1135: UndefinedMetricWarning: F-score is ill-defined and being set to 0.0 due to no predicted samples.\n",
      "  'precision', 'predicted', average, warn_for)\n"
     ]
    },
    {
     "name": "stdout",
     "output_type": "stream",
     "text": [
      "      5  0.0000        0.5096       0.7925        \u001b[31m0.4998\u001b[0m  0.9785\n"
     ]
    },
    {
     "name": "stderr",
     "output_type": "stream",
     "text": [
      "/home/l7/dev/tools/anaconda3/lib/python3.6/site-packages/sklearn/metrics/classification.py:1135: UndefinedMetricWarning: F-score is ill-defined and being set to 0.0 due to no predicted samples.\n",
      "  'precision', 'predicted', average, warn_for)\n"
     ]
    },
    {
     "name": "stdout",
     "output_type": "stream",
     "text": [
      "      6  0.1148        \u001b[32m0.4870\u001b[0m       \u001b[35m0.7981\u001b[0m        0.5041  0.9895\n",
      "      7  0.0000        0.4892       0.7925        0.5063  0.9781\n"
     ]
    },
    {
     "name": "stderr",
     "output_type": "stream",
     "text": [
      "/home/l7/dev/tools/anaconda3/lib/python3.6/site-packages/sklearn/metrics/classification.py:1135: UndefinedMetricWarning: F-score is ill-defined and being set to 0.0 due to no predicted samples.\n",
      "  'precision', 'predicted', average, warn_for)\n"
     ]
    },
    {
     "name": "stdout",
     "output_type": "stream",
     "text": [
      "      8  0.0000        0.4907       0.7925        0.5065  0.9813\n"
     ]
    },
    {
     "name": "stderr",
     "output_type": "stream",
     "text": [
      "/home/l7/dev/tools/anaconda3/lib/python3.6/site-packages/sklearn/metrics/classification.py:1135: UndefinedMetricWarning: F-score is ill-defined and being set to 0.0 due to no predicted samples.\n",
      "  'precision', 'predicted', average, warn_for)\n"
     ]
    },
    {
     "name": "stdout",
     "output_type": "stream",
     "text": [
      "      9  0.0000        \u001b[32m0.4818\u001b[0m       0.7925        0.5140  0.9950\n"
     ]
    },
    {
     "name": "stderr",
     "output_type": "stream",
     "text": [
      "/home/l7/dev/tools/anaconda3/lib/python3.6/site-packages/sklearn/metrics/classification.py:1135: UndefinedMetricWarning: F-score is ill-defined and being set to 0.0 due to no predicted samples.\n",
      "  'precision', 'predicted', average, warn_for)\n"
     ]
    },
    {
     "name": "stdout",
     "output_type": "stream",
     "text": [
      "     10  0.1301        0.4855       \u001b[35m0.8000\u001b[0m        0.5043  1.0196\n",
      "     11  0.1440        \u001b[32m0.4815\u001b[0m       0.8000        \u001b[31m0.4881\u001b[0m  0.9776\n",
      "     12  0.0000        \u001b[32m0.4797\u001b[0m       0.7907        0.5010  0.9899\n",
      "     13  0.0354        0.4839       0.7963        0.4887  0.9597\n",
      "     14  \u001b[36m0.3710\u001b[0m        \u001b[32m0.4682\u001b[0m       0.7084        0.5934  0.9712\n",
      "     15  0.1017        0.4793       \u001b[35m0.8019\u001b[0m        0.5118  0.9911\n",
      "     16  0.0508        \u001b[32m0.4621\u001b[0m       0.7907        \u001b[31m0.4869\u001b[0m  1.0140\n",
      "     17  0.0522        0.4671       0.7963        0.5040  0.9504\n",
      "     18  0.2410        0.4679       0.5645        0.6113  0.9493\n",
      "     19  0.1705        0.4680       0.8000        \u001b[31m0.4802\u001b[0m  0.9511\n",
      "     20  0.1654        0.5044       0.7925        0.5095  0.9463\n",
      "  epoch      f1    train_loss    valid_acc    valid_loss     dur\n",
      "-------  ------  ------------  -----------  ------------  ------\n",
      "      1  \u001b[36m0.0000\u001b[0m        \u001b[32m0.7655\u001b[0m       \u001b[35m0.7794\u001b[0m        \u001b[31m0.5240\u001b[0m  1.3097\n"
     ]
    },
    {
     "name": "stderr",
     "output_type": "stream",
     "text": [
      "/home/l7/dev/tools/anaconda3/lib/python3.6/site-packages/sklearn/metrics/classification.py:1135: UndefinedMetricWarning: F-score is ill-defined and being set to 0.0 due to no predicted samples.\n",
      "  'precision', 'predicted', average, warn_for)\n"
     ]
    },
    {
     "name": "stdout",
     "output_type": "stream",
     "text": [
      "      2  \u001b[36m0.0640\u001b[0m        \u001b[32m0.5551\u001b[0m       \u001b[35m0.7813\u001b[0m        \u001b[31m0.5038\u001b[0m  1.3054\n",
      "      3  \u001b[36m0.1385\u001b[0m        \u001b[32m0.5451\u001b[0m       \u001b[35m0.7907\u001b[0m        \u001b[31m0.5009\u001b[0m  1.3340\n",
      "      4  0.0000        0.5482       0.7794        0.5274  1.3325\n"
     ]
    },
    {
     "name": "stderr",
     "output_type": "stream",
     "text": [
      "/home/l7/dev/tools/anaconda3/lib/python3.6/site-packages/sklearn/metrics/classification.py:1135: UndefinedMetricWarning: F-score is ill-defined and being set to 0.0 due to no predicted samples.\n",
      "  'precision', 'predicted', average, warn_for)\n"
     ]
    },
    {
     "name": "stdout",
     "output_type": "stream",
     "text": [
      "      5  0.0496        \u001b[32m0.5272\u001b[0m       0.7850        0.5020  1.3076\n",
      "      6  0.0000        0.5337       0.7794        0.5145  1.3186\n"
     ]
    },
    {
     "name": "stderr",
     "output_type": "stream",
     "text": [
      "/home/l7/dev/tools/anaconda3/lib/python3.6/site-packages/sklearn/metrics/classification.py:1135: UndefinedMetricWarning: F-score is ill-defined and being set to 0.0 due to no predicted samples.\n",
      "  'precision', 'predicted', average, warn_for)\n"
     ]
    },
    {
     "name": "stdout",
     "output_type": "stream",
     "text": [
      "      7  0.0645        \u001b[32m0.5134\u001b[0m       0.7832        \u001b[31m0.4985\u001b[0m  1.3233\n",
      "      8  0.0000        0.5149       0.7794        0.5139  1.2918\n"
     ]
    },
    {
     "name": "stderr",
     "output_type": "stream",
     "text": [
      "/home/l7/dev/tools/anaconda3/lib/python3.6/site-packages/sklearn/metrics/classification.py:1135: UndefinedMetricWarning: F-score is ill-defined and being set to 0.0 due to no predicted samples.\n",
      "  'precision', 'predicted', average, warn_for)\n"
     ]
    },
    {
     "name": "stdout",
     "output_type": "stream",
     "text": [
      "      9  \u001b[36m0.2014\u001b[0m        \u001b[32m0.5102\u001b[0m       \u001b[35m0.7925\u001b[0m        0.5014  1.3034\n",
      "     10  0.0000        0.5267       0.7794        0.5041  1.3032\n"
     ]
    },
    {
     "name": "stderr",
     "output_type": "stream",
     "text": [
      "/home/l7/dev/tools/anaconda3/lib/python3.6/site-packages/sklearn/metrics/classification.py:1135: UndefinedMetricWarning: F-score is ill-defined and being set to 0.0 due to no predicted samples.\n",
      "  'precision', 'predicted', average, warn_for)\n"
     ]
    },
    {
     "name": "stdout",
     "output_type": "stream",
     "text": [
      "     11  0.0000        0.5184       0.7794        0.5041  1.4146\n"
     ]
    },
    {
     "name": "stderr",
     "output_type": "stream",
     "text": [
      "/home/l7/dev/tools/anaconda3/lib/python3.6/site-packages/sklearn/metrics/classification.py:1135: UndefinedMetricWarning: F-score is ill-defined and being set to 0.0 due to no predicted samples.\n",
      "  'precision', 'predicted', average, warn_for)\n"
     ]
    },
    {
     "name": "stdout",
     "output_type": "stream",
     "text": [
      "     12  0.0000        0.5145       0.7776        0.5046  1.5130\n",
      "     13  0.0168        \u001b[32m0.5084\u001b[0m       0.7813        0.4995  1.3041\n",
      "     14  0.0650        \u001b[32m0.5014\u001b[0m       0.7850        0.5106  1.2968\n",
      "     15  0.0331        \u001b[32m0.4926\u001b[0m       0.7813        0.5002  1.2897\n",
      "     16  0.1818        \u001b[32m0.4781\u001b[0m       0.7813        \u001b[31m0.4978\u001b[0m  1.2998\n",
      "     17  0.0645        \u001b[32m0.4686\u001b[0m       0.7832        0.5504  1.3068\n",
      "     18  \u001b[36m0.4315\u001b[0m        \u001b[32m0.4636\u001b[0m       0.5813        0.8632  1.3032\n",
      "     19  0.0000        0.4969       0.7794        0.5081  1.3032\n"
     ]
    },
    {
     "name": "stderr",
     "output_type": "stream",
     "text": [
      "/home/l7/dev/tools/anaconda3/lib/python3.6/site-packages/sklearn/metrics/classification.py:1135: UndefinedMetricWarning: F-score is ill-defined and being set to 0.0 due to no predicted samples.\n",
      "  'precision', 'predicted', average, warn_for)\n"
     ]
    },
    {
     "name": "stdout",
     "output_type": "stream",
     "text": [
      "     20  \u001b[36m0.4622\u001b[0m        0.4747       0.7738        \u001b[31m0.4882\u001b[0m  1.3013\n",
      "  epoch      f1    train_loss    valid_acc    valid_loss     dur\n",
      "-------  ------  ------------  -----------  ------------  ------\n",
      "      1  \u001b[36m0.0667\u001b[0m        \u001b[32m0.6574\u001b[0m       \u001b[35m0.7907\u001b[0m        \u001b[31m0.5585\u001b[0m  1.3105\n",
      "      2  0.0661        \u001b[32m0.5524\u001b[0m       0.7888        \u001b[31m0.4998\u001b[0m  1.3018\n",
      "      3  \u001b[36m0.1884\u001b[0m        \u001b[32m0.5086\u001b[0m       0.7907        0.5180  1.2960\n",
      "      4  \u001b[36m0.2000\u001b[0m        \u001b[32m0.5046\u001b[0m       0.7907        0.5256  1.3135\n",
      "      5  0.2000        \u001b[32m0.5015\u001b[0m       0.7907        0.5259  1.3124\n",
      "      6  0.2000        \u001b[32m0.4986\u001b[0m       0.7907        0.5299  1.3169\n",
      "      7  \u001b[36m0.2113\u001b[0m        \u001b[32m0.4978\u001b[0m       0.7907        0.5254  1.3100\n",
      "      8  0.1504        \u001b[32m0.4937\u001b[0m       0.7888        0.5193  1.3234\n",
      "      9  \u001b[36m0.2238\u001b[0m        \u001b[32m0.4929\u001b[0m       \u001b[35m0.7925\u001b[0m        0.5320  1.3030\n",
      "     10  0.1654        0.4958       0.7925        0.5176  1.2925\n",
      "     11  0.1654        \u001b[32m0.4905\u001b[0m       0.7925        0.5134  1.3001\n",
      "     12  \u001b[36m0.2282\u001b[0m        \u001b[32m0.4840\u001b[0m       0.7850        0.5315  1.3052\n",
      "     13  0.0968        0.4887       0.7907        0.5122  1.2917\n",
      "     14  \u001b[36m0.2857\u001b[0m        \u001b[32m0.4756\u001b[0m       0.7383        0.6092  1.2933\n",
      "     15  0.2113        0.4972       0.7907        0.5357  1.2931\n",
      "     16  0.0968        0.4813       0.7907        \u001b[31m0.4994\u001b[0m  1.2921\n",
      "     17  0.0667        \u001b[32m0.4741\u001b[0m       0.7907        0.5034  1.2938\n",
      "     18  0.0667        0.4887       0.7907        0.5088  1.3279\n",
      "     19  0.0508        \u001b[32m0.4728\u001b[0m       0.7907        0.5093  1.5100\n",
      "     20  0.0813        \u001b[32m0.4492\u001b[0m       0.7888        \u001b[31m0.4776\u001b[0m  1.4631\n",
      "  epoch      f1    train_loss    valid_acc    valid_loss     dur\n",
      "-------  ------  ------------  -----------  ------------  ------\n",
      "      1  \u001b[36m0.0000\u001b[0m        \u001b[32m0.6398\u001b[0m       \u001b[35m0.7925\u001b[0m        \u001b[31m0.5186\u001b[0m  1.3865\n"
     ]
    },
    {
     "name": "stderr",
     "output_type": "stream",
     "text": [
      "/home/l7/dev/tools/anaconda3/lib/python3.6/site-packages/sklearn/metrics/classification.py:1135: UndefinedMetricWarning: F-score is ill-defined and being set to 0.0 due to no predicted samples.\n",
      "  'precision', 'predicted', average, warn_for)\n"
     ]
    },
    {
     "name": "stdout",
     "output_type": "stream",
     "text": [
      "      2  0.0000        \u001b[32m0.5361\u001b[0m       0.7925        \u001b[31m0.5111\u001b[0m  1.5906\n"
     ]
    },
    {
     "name": "stderr",
     "output_type": "stream",
     "text": [
      "/home/l7/dev/tools/anaconda3/lib/python3.6/site-packages/sklearn/metrics/classification.py:1135: UndefinedMetricWarning: F-score is ill-defined and being set to 0.0 due to no predicted samples.\n",
      "  'precision', 'predicted', average, warn_for)\n"
     ]
    },
    {
     "name": "stdout",
     "output_type": "stream",
     "text": [
      "      3  0.0000        \u001b[32m0.5272\u001b[0m       0.7925        0.5489  1.7899\n"
     ]
    },
    {
     "name": "stderr",
     "output_type": "stream",
     "text": [
      "/home/l7/dev/tools/anaconda3/lib/python3.6/site-packages/sklearn/metrics/classification.py:1135: UndefinedMetricWarning: F-score is ill-defined and being set to 0.0 due to no predicted samples.\n",
      "  'precision', 'predicted', average, warn_for)\n"
     ]
    },
    {
     "name": "stdout",
     "output_type": "stream",
     "text": [
      "      4  0.0000        0.5401       0.7925        0.5258  1.6136\n"
     ]
    },
    {
     "name": "stderr",
     "output_type": "stream",
     "text": [
      "/home/l7/dev/tools/anaconda3/lib/python3.6/site-packages/sklearn/metrics/classification.py:1135: UndefinedMetricWarning: F-score is ill-defined and being set to 0.0 due to no predicted samples.\n",
      "  'precision', 'predicted', average, warn_for)\n"
     ]
    },
    {
     "name": "stdout",
     "output_type": "stream",
     "text": [
      "      5  0.0000        \u001b[32m0.5196\u001b[0m       0.7925        0.5309  1.6031\n"
     ]
    },
    {
     "name": "stderr",
     "output_type": "stream",
     "text": [
      "/home/l7/dev/tools/anaconda3/lib/python3.6/site-packages/sklearn/metrics/classification.py:1135: UndefinedMetricWarning: F-score is ill-defined and being set to 0.0 due to no predicted samples.\n",
      "  'precision', 'predicted', average, warn_for)\n"
     ]
    },
    {
     "name": "stdout",
     "output_type": "stream",
     "text": [
      "      6  0.0000        \u001b[32m0.5084\u001b[0m       0.7907        0.5267  1.6288\n",
      "      7  \u001b[36m0.0175\u001b[0m        \u001b[32m0.5017\u001b[0m       0.7907        0.5176  1.3420\n",
      "      8  0.0000        \u001b[32m0.4947\u001b[0m       0.7925        0.5224  1.3783\n"
     ]
    },
    {
     "name": "stderr",
     "output_type": "stream",
     "text": [
      "/home/l7/dev/tools/anaconda3/lib/python3.6/site-packages/sklearn/metrics/classification.py:1135: UndefinedMetricWarning: F-score is ill-defined and being set to 0.0 due to no predicted samples.\n",
      "  'precision', 'predicted', average, warn_for)\n"
     ]
    },
    {
     "name": "stdout",
     "output_type": "stream",
     "text": [
      "      9  0.0000        \u001b[32m0.4904\u001b[0m       0.7907        \u001b[31m0.5083\u001b[0m  1.3554\n",
      "     10  0.0000        \u001b[32m0.4818\u001b[0m       0.7925        0.5154  1.3627\n"
     ]
    },
    {
     "name": "stderr",
     "output_type": "stream",
     "text": [
      "/home/l7/dev/tools/anaconda3/lib/python3.6/site-packages/sklearn/metrics/classification.py:1135: UndefinedMetricWarning: F-score is ill-defined and being set to 0.0 due to no predicted samples.\n",
      "  'precision', 'predicted', average, warn_for)\n"
     ]
    },
    {
     "name": "stdout",
     "output_type": "stream",
     "text": [
      "     11  0.0000        \u001b[32m0.4784\u001b[0m       0.7925        0.5437  1.3325\n"
     ]
    },
    {
     "name": "stderr",
     "output_type": "stream",
     "text": [
      "/home/l7/dev/tools/anaconda3/lib/python3.6/site-packages/sklearn/metrics/classification.py:1135: UndefinedMetricWarning: F-score is ill-defined and being set to 0.0 due to no predicted samples.\n",
      "  'precision', 'predicted', average, warn_for)\n"
     ]
    },
    {
     "name": "stdout",
     "output_type": "stream",
     "text": [
      "     12  0.0000        \u001b[32m0.4674\u001b[0m       0.7907        \u001b[31m0.4961\u001b[0m  1.4317\n",
      "     13  \u001b[36m0.3155\u001b[0m        \u001b[32m0.4593\u001b[0m       0.5215        0.6843  1.5234\n",
      "     14  0.1654        \u001b[32m0.4567\u001b[0m       0.7925        0.5433  1.3525\n",
      "     15  0.0351        \u001b[32m0.4429\u001b[0m       \u001b[35m0.7944\u001b[0m        0.4967  1.3423\n",
      "     16  0.0000        \u001b[32m0.4428\u001b[0m       0.7925        0.5469  1.3572\n"
     ]
    },
    {
     "name": "stderr",
     "output_type": "stream",
     "text": [
      "/home/l7/dev/tools/anaconda3/lib/python3.6/site-packages/sklearn/metrics/classification.py:1135: UndefinedMetricWarning: F-score is ill-defined and being set to 0.0 due to no predicted samples.\n",
      "  'precision', 'predicted', average, warn_for)\n"
     ]
    },
    {
     "name": "stdout",
     "output_type": "stream",
     "text": [
      "     17  0.1395        \u001b[32m0.4376\u001b[0m       0.7925        \u001b[31m0.4797\u001b[0m  1.6638\n",
      "     18  0.0968        \u001b[32m0.4297\u001b[0m       0.7907        0.5121  1.5766\n",
      "     19  0.0351        \u001b[32m0.4191\u001b[0m       0.7944        0.5546  1.3179\n",
      "     20  0.3086        0.4289       0.7907        \u001b[31m0.4722\u001b[0m  1.3112\n",
      "  epoch      f1    train_loss    valid_acc    valid_loss     dur\n",
      "-------  ------  ------------  -----------  ------------  ------\n",
      "      1  \u001b[36m0.0659\u001b[0m        \u001b[32m0.5704\u001b[0m       \u001b[35m0.7883\u001b[0m        \u001b[31m0.5073\u001b[0m  1.1410\n",
      "      2  \u001b[36m0.2656\u001b[0m        \u001b[32m0.5252\u001b[0m       0.7796        0.5485  1.1466\n",
      "      3  0.2368        0.5680       0.7833        0.5646  1.1424\n",
      "      4  0.1944        0.5507       0.7833        0.5399  1.1319\n",
      "      5  0.1878        0.5391       0.7846        0.5307  1.1704\n",
      "      6  0.1650        0.5257       0.7858        0.5196  1.1697\n",
      "      7  0.2553        0.5577       0.7821        0.6320  1.1634\n",
      "      8  0.2047        \u001b[32m0.5180\u001b[0m       0.7870        0.5167  1.1482\n",
      "      9  0.1927        \u001b[32m0.5097\u001b[0m       0.7808        0.5557  1.1190\n",
      "     10  0.0656        0.5321       0.7870        0.5076  1.1667\n",
      "     11  0.0659        0.5136       0.7883        \u001b[31m0.5002\u001b[0m  1.1855\n",
      "     12  0.0552        \u001b[32m0.5053\u001b[0m       0.7870        0.5033  1.1916\n",
      "     13  0.0556        \u001b[32m0.5037\u001b[0m       0.7883        0.5080  1.1599\n",
      "     14  0.0556        \u001b[32m0.5030\u001b[0m       0.7883        0.5093  1.1602\n",
      "     15  0.0562        \u001b[32m0.5018\u001b[0m       \u001b[35m0.7908\u001b[0m        0.5078  1.1829\n",
      "     16  0.0559        \u001b[32m0.5007\u001b[0m       0.7895        0.5009  1.1510\n",
      "     17  0.0444        \u001b[32m0.4951\u001b[0m       0.7858        0.5203  1.1629\n",
      "     18  0.1414        0.4965       0.7883        0.5260  1.1625\n",
      "     19  0.0562        0.4991       0.7908        0.5072  1.1388\n",
      "     20  0.0552        0.4964       0.7870        0.5133  1.1437\n",
      "Accuracy of Net: 0.89\n",
      "\n",
      "Classification report:\n",
      "             precision    recall  f1-score   support\n",
      "\n",
      "          0       0.89      1.00      0.94      1056\n",
      "          1       0.60      0.02      0.04       138\n",
      "\n",
      "avg / total       0.85      0.89      0.84      1194\n",
      "\n"
     ]
    },
    {
     "data": {
      "text/plain": [
       "<Figure size 432x288 with 0 Axes>"
      ]
     },
     "metadata": {},
     "output_type": "display_data"
    },
    {
     "data": {
      "image/png": "[encoded data removed]",
      "text/plain": [
       "<Figure size 288x288 with 1 Axes>"
      ]
     },
     "metadata": {},
     "output_type": "display_data"
    }
   ],
   "source": [
    "## net = None\n",
    "rs = None\n",
    "accuracy_train_epoch_scoring = EpochScoring(scoring='f1', lower_is_better=False, on_train=False)\n",
    "device = torch.device('cuda:0')\n",
    "n_blocks = [2, 2, 2]  # number of blocks in the three groups\n",
    "n_channels = 64\n",
    "n_epochs = 20\n",
    "model = NeuralNetClassifier(module=ResNet, criterion=nn.CrossEntropyLoss,\n",
    "                          module__n_channels= n_channels,\n",
    "                          module__n_blocks=n_blocks,\n",
    "                          optimizer=optim.Adam, \n",
    "                          optimizer__lr=0.0020242920541016576,\n",
    "                          #optimizer__weight_decay=0.01,\n",
    "                          max_epochs=n_epochs, \n",
    "                          batch_size=100,\n",
    "                          iterator_train__shuffle=False,\n",
    "                          device=device,\n",
    "                          warm_start=True,#train_split=None,\n",
    "                          callbacks=[accuracy_epoch_scoring],\n",
    "                         )\n",
    "model_name = ResNet.__name__\n",
    "rs = RandomizedSearchCV(model, parameters, refit=True, \n",
    "                        n_iter=10, n_jobs=1,\n",
    "                       cv=3, scoring='f1')\n",
    "#rs = GridSearchCV(net, parameters, n_jobs=1, refit=True, \n",
    "#                 scoring='f1', cv=3)\n",
    "rs.fit(x_train, y_train)\n",
    "pred_test = rs.predict(x_val)  # Predict labels of test data using the trained classifier\n",
    "accuracy_of_net = plot_confusion_matrix(pred_test, y_val, prefix_information='ResNet',\n",
    "                          dataset_name='', save_results=False,\n",
    "                     y_pred_is_predicted_classes=True)"
   ]
  },
  {
   "cell_type": "code",
   "execution_count": 63,
   "metadata": {},
   "outputs": [
    {
     "data": {
      "text/plain": [
       "{'module__n_blocks': array([2, 8, 3])}"
      ]
     },
     "execution_count": 63,
     "metadata": {},
     "output_type": "execute_result"
    }
   ],
   "source": [
    "rs.best_params_"
   ]
  },
  {
   "cell_type": "code",
   "execution_count": 42,
   "metadata": {},
   "outputs": [
    {
     "name": "stderr",
     "output_type": "stream",
     "text": [
      "/home/l7/dev/tools/anaconda3/lib/python3.6/site-packages/torch/serialization.py:256: UserWarning: Couldn't retrieve source code for container of type ResNet. It won't be checked for correctness upon loading.\n",
      "  \"type \" + obj.__name__ + \". It won't be checked \"\n",
      "/home/l7/dev/tools/anaconda3/lib/python3.6/site-packages/torch/serialization.py:256: UserWarning: Couldn't retrieve source code for container of type GroupOfBlocks. It won't be checked for correctness upon loading.\n",
      "  \"type \" + obj.__name__ + \". It won't be checked \"\n",
      "/home/l7/dev/tools/anaconda3/lib/python3.6/site-packages/torch/serialization.py:256: UserWarning: Couldn't retrieve source code for container of type Block. It won't be checked for correctness upon loading.\n",
      "  \"type \" + obj.__name__ + \". It won't be checked \"\n"
     ]
    }
   ],
   "source": [
    "model_dir_path = 'models'\n",
    "model_filename = \"{:s}/{}_ResNet_model_acc-{:2.3f}_{:s}.model\".format(\n",
    "    model_dir_path, 'yahoo_data', accuracy_of_net, strftime(\"%Y_%m_%d_%H_%M_%S\", localtime())\n",
    ")\n",
    "pickle.dump(model, open(model_filename, 'wb'))"
   ]
  },
  {
   "cell_type": "code",
   "execution_count": null,
   "metadata": {},
   "outputs": [],
   "source": []
  }
 ],
 "metadata": {
  "kernelspec": {
   "display_name": "Python 3",
   "language": "python",
   "name": "python3"
  },
  "language_info": {
   "codemirror_mode": {
    "name": "ipython",
    "version": 3
   },
   "file_extension": ".py",
   "mimetype": "text/x-python",
   "name": "python",
   "nbconvert_exporter": "python",
   "pygments_lexer": "ipython3",
   "version": "3.6.8"
  },
  "varInspector": {
   "cols": {
    "lenName": 16,
    "lenType": 16,
    "lenVar": 40
   },
   "kernels_config": {
    "python": {
     "delete_cmd_postfix": "",
     "delete_cmd_prefix": "del ",
     "library": "var_list.py",
     "varRefreshCmd": "print(var_dic_list())"
    },
    "r": {
     "delete_cmd_postfix": ") ",
     "delete_cmd_prefix": "rm(",
     "library": "var_list.r",
     "varRefreshCmd": "cat(var_dic_list()) "
    }
   },
   "types_to_exclude": [
    "module",
    "function",
    "builtin_function_or_method",
    "instance",
    "_Feature"
   ],
   "window_display": true
  }
 },
 "nbformat": 4,
 "nbformat_minor": 2
}
