{
 "cells": [
  {
   "cell_type": "code",
   "execution_count": 1,
   "metadata": {
    "scrolled": true
   },
   "outputs": [
    {
     "name": "stdout",
     "output_type": "stream",
     "text": [
      "Warning: the binary library cannot be imported. You cannot train maps, but you can load and analyze ones that you have already saved.\n",
      "The problem occurs because either compilation failed when you installed Somoclu or a path is missing from the dependencies when you are trying to import it. Please refer to the documentation to see your options.\n"
     ]
    }
   ],
   "source": [
    "from PipelineResources import * # This is where we have all of the resources that will be used in the project. "
   ]
  },
  {
   "cell_type": "code",
   "execution_count": 2,
   "metadata": {},
   "outputs": [],
   "source": [
    "nasdaq = pd.read_pickle('upm_yahoo.pckl')"
   ]
  },
  {
   "cell_type": "markdown",
   "metadata": {},
   "source": [
    "## Prepare training, validation and test sets"
   ]
  },
  {
   "cell_type": "markdown",
   "metadata": {},
   "source": [
    "### First Test: Use a Random Forest Model to predict whether or not the next day will close above 1.5 %. \n",
    "The goal behind this exercise is to establish a baseline model and performance. In addition, it is also work out the way the data will be stored. "
   ]
  },
  {
   "cell_type": "code",
   "execution_count": 3,
   "metadata": {},
   "outputs": [
    {
     "name": "stdout",
     "output_type": "stream",
     "text": [
      " Sample size is: 4755\n"
     ]
    }
   ],
   "source": [
    "number_of_samples = nasdaq.index.size\n",
    "print(\" Sample size is: {}\".format(number_of_samples))"
   ]
  },
  {
   "cell_type": "code",
   "execution_count": 4,
   "metadata": {},
   "outputs": [
    {
     "data": {
      "text/plain": [
       "Index(['Date', 'Open', 'High', 'Low', 'Close', 'Adj Close', 'Volume',\n",
       "       'open_change', 'open_change_pct', 'next_day_open_change',\n",
       "       'next_day_open_change_pct', 'open_change_wrt_close',\n",
       "       'open_change_wrt_close_pct', 'open_change_wrt_high',\n",
       "       'open_change_wrt_low', 'open_change_wrt_volume',\n",
       "       'next_day_open_change_wrt_close', 'next_day_open_change_wrt_close_pct',\n",
       "       'next_day_open_change_wrt_high', 'next_day_open_change_wrt_low',\n",
       "       'next_day_open_change_wrt_volume', 'close_change_pct', 'close_change',\n",
       "       'high_change_pct', 'high_change', 'low_change_pct', 'low_change',\n",
       "       'volume_change_pct', 'volume_change', 'high_low_range',\n",
       "       'high_low_range_with_ref_open', 'high_low_range_with_ref_open_pct',\n",
       "       'high_low_range_with_ref_close', 'high_low_range_with_ref_close_pct',\n",
       "       'gt_1', 'gt_1.5', 'gt_2.5'],\n",
       "      dtype='object')"
      ]
     },
     "execution_count": 4,
     "metadata": {},
     "output_type": "execute_result"
    }
   ],
   "source": [
    "nasdaq.columns"
   ]
  },
  {
   "cell_type": "code",
   "execution_count": 5,
   "metadata": {},
   "outputs": [
    {
     "name": "stdout",
     "output_type": "stream",
     "text": [
      "number of days per samples: 1\n",
      "(4751,)\n",
      "[0 0 0 0 0 0 1 1 0 0 0 0 0 0 0 0 1 0 0 0]\n",
      "[0 0 0 0 1 1 0 0 0 0 0 0 0 0 1 0 0 0 0 0]\n",
      "(4751, 13)\n",
      "(3563, 13)\n"
     ]
    }
   ],
   "source": [
    "#chosen_label = 'gt_2.5'\n",
    "random_state = 1\n",
    "x_train, x_val, x_test, y_train, y_val, y_test = get_input_sets(nasdaq, chosen_features, chosen_label, x_test=False,\n",
    "                                                               number_of_days_per_sample=1)\n",
    "print(x_train.shape)"
   ]
  },
  {
   "cell_type": "code",
   "execution_count": 6,
   "metadata": {},
   "outputs": [
    {
     "name": "stdout",
     "output_type": "stream",
     "text": [
      "1075\n",
      "967\n",
      "(221,)\n",
      "(221, 13)\n",
      "3240\n",
      "2916\n",
      "(647,)\n",
      "(647, 13)\n"
     ]
    }
   ],
   "source": [
    "x_val, y_val = decrease_class_rows(x_val, y_val, class_number=0, percentage_cut=0.90)\n",
    "x_train, y_train = decrease_class_rows(x_train, y_train, class_number=0, percentage_cut=0.90)\n"
   ]
  },
  {
   "cell_type": "markdown",
   "metadata": {},
   "source": [
    "### Apply FFT on the training and validation sets"
   ]
  },
  {
   "cell_type": "code",
   "execution_count": 17,
   "metadata": {},
   "outputs": [
    {
     "name": "stdout",
     "output_type": "stream",
     "text": [
      "(647, 19)\n"
     ]
    }
   ],
   "source": [
    "z_train = []\n",
    "z_val = []\n",
    "for row_index in range(x_train.shape[0]):\n",
    "    z_train.append(get_fft(x_train[row_index], absolute_value=True))\n",
    "for row_index in range(x_val.shape[0]):\n",
    "    z_val.append(get_fft(x_val[row_index], absolute_value=True))\n",
    "z_train = np.array(z_train, dtype=np.float)\n",
    "z_val = np.array(z_val, dtype=np.float)\n",
    "x_train = np.concatenate((x_train, z_train), axis=1)\n",
    "x_val = np.concatenate((x_val, z_val), axis=1)\n",
    "print(x_train.shape)"
   ]
  },
  {
   "cell_type": "code",
   "execution_count": 7,
   "metadata": {},
   "outputs": [
    {
     "name": "stdout",
     "output_type": "stream",
     "text": [
      "cv scores: [0.66153846 0.68461538 0.66153846 0.68992248 0.6796875 ]\n",
      "avg score: 0.6754604576624925, std score: 0.011819260845068928, min: 0.6615384615384615, max: 0.689922480620155\n",
      "Accuracy of random forest TRAINING: 0.75\n",
      "\n",
      "Classification report:\n",
      "             precision    recall  f1-score   support\n",
      "\n",
      "          0       0.74      0.77      0.76       324\n",
      "          1       0.76      0.72      0.74       323\n",
      "\n",
      "avg / total       0.75      0.75      0.75       647\n",
      "\n",
      "Accuracy of random forest VALIDATION: 0.68\n",
      "\n",
      "Classification report:\n",
      "             precision    recall  f1-score   support\n",
      "\n",
      "          0       0.68      0.65      0.66       108\n",
      "          1       0.68      0.71      0.69       113\n",
      "\n",
      "avg / total       0.68      0.68      0.68       221\n",
      "\n"
     ]
    },
    {
     "data": {
      "text/plain": [
       "Text(15,0.5,'true labels')"
      ]
     },
     "execution_count": 7,
     "metadata": {},
     "output_type": "execute_result"
    },
    {
     "data": {
      "image/png": "[encoded data removed]",
      "text/plain": [
       "<Figure size 288x288 with 1 Axes>"
      ]
     },
     "metadata": {},
     "output_type": "display_data"
    },
    {
     "data": {
      "image/png": "[encoded data removed]",
      "text/plain": [
       "<Figure size 288x288 with 1 Axes>"
      ]
     },
     "metadata": {},
     "output_type": "display_data"
    }
   ],
   "source": [
    "model = RandomForestClassifier(bootstrap=True, class_weight=None, criterion='gini',\n",
    "            max_depth=None, max_features='auto', max_leaf_nodes=None,\n",
    "            min_impurity_decrease=0.0, min_impurity_split=None,\n",
    "            #min_samples_leaf=3, min_samples_split=2,\n",
    "            min_samples_leaf=19, min_samples_split=64,\n",
    "            min_weight_fraction_leaf=0.02550492908746793,\n",
    "            n_estimators=13421, n_jobs=24,\n",
    "            #min_weight_fraction_leaf=0.0, n_estimators=int(x_train.shape[1]/2), n_jobs=10,\n",
    "            oob_score=False, random_state=None, verbose=0,\n",
    "            warm_start=False)\n",
    "\n",
    "scores = cross_validate(model, x_train, y_train, cv=5, n_jobs=10)\n",
    "print(\"cv scores: {}\".format(scores['test_score']))\n",
    "print(\"avg score: {}, std score: {}, min: {}, max: {}\".format(np.mean(scores['test_score']), np.std(scores['test_score']), \n",
    "                                                             np.min(scores['test_score']), np.max(scores['test_score'])))\n",
    "\n",
    "model.fit(x_train, y_train)\n",
    "\n",
    "pred_test = model.predict(x_train)  # Predict labels of test data using the trained classifier\n",
    "c_matrix = confusion_matrix(y_train, pred_test) \n",
    "\n",
    "rf_accuracy = accuracy_score(y_train, pred_test)\n",
    "print(\"Accuracy of random forest TRAINING: {:.2f}\".format(rf_accuracy))\n",
    "print(\"\\nClassification report:\")\n",
    "print(classification_report(y_train, pred_test))\n",
    "\n",
    "fig, ax = plt.subplots(1, figsize=(4, 4))\n",
    "ax.set_title(\"Confusion matrix\")\n",
    "sns.heatmap(c_matrix, cmap='Blues', annot=True, fmt='g', cbar=False)\n",
    "ax.set_xlabel('predictions')\n",
    "ax.set_ylabel('true labels')\n",
    "\n",
    "pred_test = model.predict(x_val)  # Predict labels of test data using the trained classifier\n",
    "c_matrix = confusion_matrix(y_val, pred_test) \n",
    "rf_accuracy = accuracy_score(y_val, pred_test)\n",
    "print(\"Accuracy of random forest VALIDATION: {:.2f}\".format(rf_accuracy))\n",
    "print(\"\\nClassification report:\")\n",
    "print(classification_report(y_val, pred_test))\n",
    "\n",
    "fig, ax = plt.subplots(1, figsize=(4, 4))\n",
    "ax.set_title(\"Confusion matrix\")\n",
    "sns.heatmap(c_matrix, cmap='Blues', annot=True, fmt='g', cbar=False)\n",
    "ax.set_xlabel('predictions')\n",
    "ax.set_ylabel('true labels')"
   ]
  },
  {
   "cell_type": "code",
   "execution_count": 9,
   "metadata": {},
   "outputs": [
    {
     "data": {
      "text/plain": [
       "(13,)"
      ]
     },
     "execution_count": 9,
     "metadata": {},
     "output_type": "execute_result"
    }
   ],
   "source": [
    "x_val[0].shape"
   ]
  },
  {
   "cell_type": "code",
   "execution_count": 23,
   "metadata": {},
   "outputs": [
    {
     "data": {
      "text/html": [
       "<div>\n",
       "<style scoped>\n",
       "    .dataframe tbody tr th:only-of-type {\n",
       "        vertical-align: middle;\n",
       "    }\n",
       "\n",
       "    .dataframe tbody tr th {\n",
       "        vertical-align: top;\n",
       "    }\n",
       "\n",
       "    .dataframe thead th {\n",
       "        text-align: right;\n",
       "    }\n",
       "</style>\n",
       "<table border=\"1\" class=\"dataframe\">\n",
       "  <thead>\n",
       "    <tr style=\"text-align: right;\">\n",
       "      <th></th>\n",
       "      <th>Date</th>\n",
       "      <th>Open</th>\n",
       "      <th>High</th>\n",
       "      <th>Low</th>\n",
       "      <th>Close</th>\n",
       "      <th>Adj Close</th>\n",
       "      <th>Volume</th>\n",
       "      <th>open_change</th>\n",
       "      <th>open_change_pct</th>\n",
       "      <th>next_day_open_change</th>\n",
       "      <th>...</th>\n",
       "      <th>volume_change_pct</th>\n",
       "      <th>volume_change</th>\n",
       "      <th>high_low_range</th>\n",
       "      <th>high_low_range_with_ref_open</th>\n",
       "      <th>high_low_range_with_ref_open_pct</th>\n",
       "      <th>high_low_range_with_ref_close</th>\n",
       "      <th>high_low_range_with_ref_close_pct</th>\n",
       "      <th>gt_1</th>\n",
       "      <th>gt_1.5</th>\n",
       "      <th>gt_2.5</th>\n",
       "    </tr>\n",
       "  </thead>\n",
       "  <tbody>\n",
       "    <tr>\n",
       "      <th>4906</th>\n",
       "      <td>2019-04-03</td>\n",
       "      <td>27.75</td>\n",
       "      <td>28.48</td>\n",
       "      <td>27.700001</td>\n",
       "      <td>28.25</td>\n",
       "      <td>26.949999</td>\n",
       "      <td>1874965.0</td>\n",
       "      <td>0.015739</td>\n",
       "      <td>1.573939</td>\n",
       "      <td>0.018018</td>\n",
       "      <td>...</td>\n",
       "      <td>10.576761</td>\n",
       "      <td>0.105768</td>\n",
       "      <td>0.779999</td>\n",
       "      <td>0.028108</td>\n",
       "      <td>2.810807</td>\n",
       "      <td>0.027611</td>\n",
       "      <td>2.761058</td>\n",
       "      <td>True</td>\n",
       "      <td>True</td>\n",
       "      <td>True</td>\n",
       "    </tr>\n",
       "  </tbody>\n",
       "</table>\n",
       "<p>1 rows × 37 columns</p>\n",
       "</div>"
      ],
      "text/plain": [
       "           Date   Open   High        Low  Close  Adj Close     Volume  \\\n",
       "4906 2019-04-03  27.75  28.48  27.700001  28.25  26.949999  1874965.0   \n",
       "\n",
       "      open_change  open_change_pct  next_day_open_change   ...    \\\n",
       "4906     0.015739         1.573939              0.018018   ...     \n",
       "\n",
       "      volume_change_pct  volume_change  high_low_range  \\\n",
       "4906          10.576761       0.105768        0.779999   \n",
       "\n",
       "      high_low_range_with_ref_open  high_low_range_with_ref_open_pct  \\\n",
       "4906                      0.028108                          2.810807   \n",
       "\n",
       "      high_low_range_with_ref_close  high_low_range_with_ref_close_pct  gt_1  \\\n",
       "4906                       0.027611                           2.761058  True   \n",
       "\n",
       "      gt_1.5  gt_2.5  \n",
       "4906    True    True  \n",
       "\n",
       "[1 rows x 37 columns]"
      ]
     },
     "execution_count": 23,
     "metadata": {},
     "output_type": "execute_result"
    }
   ],
   "source": [
    "nasdaq[nasdaq['Date'] == '2019-04-03']"
   ]
  },
  {
   "cell_type": "code",
   "execution_count": 39,
   "metadata": {},
   "outputs": [
    {
     "name": "stdout",
     "output_type": "stream",
     "text": [
      "      open_change  next_day_open_change  open_change_wrt_close  \\\n",
      "4905     0.037206              0.015739               0.005151   \n",
      "\n",
      "      next_day_open_change_wrt_close  high_change  low_change  volume_change  \\\n",
      "4905                        0.010561      0.01393    0.023159      -0.192913   \n",
      "\n",
      "      high_low_range  close_change  high_low_range_with_ref_close  \\\n",
      "4905        0.709999      0.010302                       0.025856   \n",
      "\n",
      "      high_low_range_with_ref_open  next_day_open_change_wrt_high  \\\n",
      "4905                      0.025988                       0.003254   \n",
      "\n",
      "      next_day_open_change_wrt_low  \n",
      "4905                      0.029685  \n",
      "(1, 13)\n"
     ]
    },
    {
     "data": {
      "text/plain": [
       "array([1])"
      ]
     },
     "execution_count": 39,
     "metadata": {},
     "output_type": "execute_result"
    }
   ],
   "source": [
    "test_nasdaq = nasdaq[nasdaq['Date'] == '2019-04-02']\n",
    "test_input_df = test_nasdaq[chosen_features]\n",
    "#print(test_input_df)\n",
    "#test_input = test_input_df.loc[test_input_df.index.size - 1]\n",
    "test_input = test_input_df\n",
    "print(test_input)\n",
    "test_input = test_input.values.reshape([1, 13])\n",
    "print(test_input.shape)\n",
    "model.predict(test_input)"
   ]
  },
  {
   "cell_type": "code",
   "execution_count": 11,
   "metadata": {},
   "outputs": [
    {
     "name": "stdout",
     "output_type": "stream",
     "text": [
      "Accuracy of random forest TRAINING: 0.86\n",
      "\n",
      "Classification report:\n",
      "             precision    recall  f1-score   support\n",
      "\n",
      "          0       0.90      0.89      0.89       340\n",
      "          1       0.79      0.81      0.80       182\n",
      "\n",
      "avg / total       0.86      0.86      0.86       522\n",
      "\n",
      "Accuracy of random forest VALIDATION: 0.85\n",
      "\n",
      "Classification report:\n",
      "             precision    recall  f1-score   support\n",
      "\n",
      "          0       0.87      0.91      0.89       113\n",
      "          1       0.83      0.75      0.79        64\n",
      "\n",
      "avg / total       0.85      0.85      0.85       177\n",
      "\n"
     ]
    },
    {
     "data": {
      "image/png": "[encoded data removed]",
      "text/plain": [
       "<Figure size 288x288 with 1 Axes>"
      ]
     },
     "metadata": {},
     "output_type": "display_data"
    },
    {
     "data": {
      "image/png": "[encoded data removed]",
      "text/plain": [
       "<Figure size 288x288 with 1 Axes>"
      ]
     },
     "metadata": {},
     "output_type": "display_data"
    }
   ],
   "source": [
    "pred_test = model.predict(x_train)  # Predict labels of test data using the trained classifier\n",
    "c_matrix = confusion_matrix(y_train, pred_test) \n",
    "\n",
    "rf_accuracy = accuracy_score(y_train, pred_test)\n",
    "print(\"Accuracy of random forest TRAINING: {:.2f}\".format(rf_accuracy))\n",
    "print(\"\\nClassification report:\")\n",
    "print(classification_report(y_train, pred_test))\n",
    "\n",
    "fig, ax = plt.subplots(1, figsize=(4, 4))\n",
    "ax.set_title(\"Confusion matrix\")\n",
    "sns.heatmap(c_matrix, cmap='Blues', annot=True, fmt='g', cbar=False)\n",
    "ax.set_xlabel('predictions')\n",
    "ax.set_ylabel('true labels')\n",
    "plt.savefig(fname='latex/figures/' + 'RF_Training_results' + '.pdf', format='pdf', dpi=300)\n",
    "\n",
    "pred_test = model.predict(x_val)  # Predict labels of test data using the trained classifier\n",
    "c_matrix = confusion_matrix(y_val, pred_test) \n",
    "rf_accuracy = accuracy_score(y_val, pred_test)\n",
    "print(\"Accuracy of random forest VALIDATION: {:.2f}\".format(rf_accuracy))\n",
    "print(\"\\nClassification report:\")\n",
    "print(classification_report(y_val, pred_test))\n",
    "\n",
    "fig, ax = plt.subplots(1, figsize=(4, 4))\n",
    "ax.set_title(\"Confusion matrix\")\n",
    "sns.heatmap(c_matrix, cmap='Blues', annot=True, fmt='g', cbar=False)\n",
    "ax.set_xlabel('predictions')\n",
    "ax.set_ylabel('true labels')\n",
    "plt.savefig(fname='latex/figures/' + 'RF_Test_results' + '.pdf', format='pdf', dpi=300)"
   ]
  },
  {
   "cell_type": "code",
   "execution_count": 42,
   "metadata": {},
   "outputs": [],
   "source": [
    "model = deepcopy(original_model)"
   ]
  },
  {
   "cell_type": "code",
   "execution_count": 19,
   "metadata": {
    "scrolled": false
   },
   "outputs": [
    {
     "name": "stdout",
     "output_type": "stream",
     "text": [
      "feature name: open_change, importance : 0.03616179749413185\n",
      "feature name: next_day_open_change, importance : 0.06953324507236841\n",
      "feature name: open_change_wrt_close, importance : 0.01582359026696802\n",
      "feature name: next_day_open_change_wrt_close, importance : 0.23851757493714343\n",
      "feature name: high_change, importance : 0.025996328233172307\n",
      "feature name: low_change, importance : 0.014742813496094239\n",
      "feature name: volume_change, importance : 0.012472640315917317\n",
      "feature name: high_low_range, importance : 0.02634382569674557\n",
      "feature name: close_change, importance : 0.02217063161356115\n",
      "feature name: high_low_range_with_ref_close, importance : 0.09153779651387195\n",
      "feature name: high_low_range_with_ref_open, importance : 0.095119931722202\n",
      "feature name: next_day_open_change_wrt_high, importance : 0.06490048273082295\n",
      "feature name: next_day_open_change_wrt_low, importance : 0.19911811862529513\n"
     ]
    },
    {
     "data": {
      "image/png": "[encoded data removed]",
      "text/plain": [
       "<Figure size 2400x800 with 1 Axes>"
      ]
     },
     "metadata": {},
     "output_type": "display_data"
    }
   ],
   "source": [
    "for feature, importance in zip(chosen_features, model.feature_importances_):\n",
    "    print(\"feature name: {}, importance : {}\".format(feature, importance))\n",
    "plt.figure( figsize=(30, 10), dpi=80)\n",
    "plt.title(\"Plotting feature importance\")\n",
    "plt.ylabel(\"importance level\")\n",
    "plt.xlabel(\"feature indexes\")\n",
    "#plt.bar(np.append(chosen_features, np.arange(0,6)), model.feature_importances_)\n",
    "plt.bar(np.arange(0, len(model.feature_importances_)), model.feature_importances_)\n",
    "plt.show()"
   ]
  },
  {
   "cell_type": "markdown",
   "metadata": {},
   "source": [
    "## Hyperparameter Optimization for RF"
   ]
  },
  {
   "cell_type": "code",
   "execution_count": 51,
   "metadata": {
    "scrolled": true
   },
   "outputs": [
    {
     "name": "stdout",
     "output_type": "stream",
     "text": [
      "Accuracy of random forest TRAINING: 0.84\n",
      "\n",
      "Classification report:\n",
      "             precision    recall  f1-score   support\n",
      "\n",
      "          0       0.86      0.96      0.91      3156\n",
      "          1       0.74      0.40      0.52       852\n",
      "\n",
      "avg / total       0.83      0.84      0.82      4008\n",
      "\n",
      "Accuracy of random forest VALIDATION: 0.90\n",
      "\n",
      "Classification report:\n",
      "             precision    recall  f1-score   support\n",
      "\n",
      "          0       0.92      0.97      0.94      1056\n",
      "          1       0.60      0.38      0.46       138\n",
      "\n",
      "avg / total       0.88      0.90      0.89      1194\n",
      "\n"
     ]
    },
    {
     "data": {
      "text/plain": [
       "Text(15,0.5,'true labels')"
      ]
     },
     "execution_count": 51,
     "metadata": {},
     "output_type": "execute_result"
    },
    {
     "data": {
      "image/png": "[encoded data removed]",
      "text/plain": [
       "<Figure size 288x288 with 1 Axes>"
      ]
     },
     "metadata": {},
     "output_type": "display_data"
    },
    {
     "data": {
      "image/png": "[encoded data removed]",
      "text/plain": [
       "<Figure size 288x288 with 1 Axes>"
      ]
     },
     "metadata": {},
     "output_type": "display_data"
    }
   ],
   "source": [
    "# This is where we attempt to find optimum parameters for the classfier by producing a random search through a grid\n",
    "# In order to limi computation time, we only visit 10 options. \n",
    "M = 50\n",
    "max_depth = np.array(np.random.uniform(1, 200, M), dtype=int)\n",
    "min_samples_split = np.array(np.random.uniform(2, 72, M), dtype=int)\n",
    "a = int(x_train.shape[0] / 10)\n",
    "b = int(x_train.shape[0] / 0.1)\n",
    "n_estimators = np.array(np.random.uniform(a, b, M), dtype=int)\n",
    "min_weight_fraction_leaf= np.random.uniform(0.0, 0.5, M)\n",
    "min_samples_leaf = np.array(np.random.uniform(2, 50, M), dtype=int)\n",
    "parameters = {'n_estimators': n_estimators,\n",
    "             #'max_depth': max_depth, \n",
    "             #'min_samples_split': min_samples_split,\n",
    "             #'min_weight_fraction_leaf': min_weight_fraction_leaf, \n",
    "             #'min_samples_leaf': min_samples_leaf\n",
    "             }\n",
    "\n",
    "model_test = RandomForestClassifier(bootstrap=True, class_weight=None, criterion='gini',\n",
    "            max_depth=None, max_features='auto', max_leaf_nodes=None,\n",
    "            min_impurity_decrease=0.0, min_impurity_split=None,\n",
    "            min_samples_leaf=19, min_samples_split=64,\n",
    "            min_weight_fraction_leaf=0.02550492908746793,\n",
    "            n_estimators=13421, n_jobs=10,\n",
    "            oob_score=False, random_state=None, verbose=0,\n",
    "            warm_start=False)\n",
    "#clf = GridSearchCV(model_test, parameters, n_jobs=40)\n",
    "clf = RandomizedSearchCV(model_test, parameters, refit=True, \n",
    "                        n_iter=20, n_jobs=40,\n",
    "                       cv=3, scoring='f1')\n",
    "clf.fit(x_train, y_train)\n",
    "model = clf.best_estimator_\n",
    "pred_test = model.predict(x_train)  # Predict labels of test data using the trained classifier\n",
    "c_matrix = confusion_matrix(y_train, pred_test) \n",
    "\n",
    "rf_accuracy = accuracy_score(y_train, pred_test)\n",
    "print(\"Accuracy of random forest TRAINING: {:.2f}\".format(rf_accuracy))\n",
    "print(\"\\nClassification report:\")\n",
    "print(classification_report(y_train, pred_test))\n",
    "\n",
    "fig, ax = plt.subplots(1, figsize=(4, 4))\n",
    "ax.set_title(\"Confusion matrix\")\n",
    "sns.heatmap(c_matrix, cmap='Blues', annot=True, fmt='g', cbar=False)\n",
    "ax.set_xlabel('predictions')\n",
    "ax.set_ylabel('true labels')\n",
    "\n",
    "pred_test = model.predict(x_val)  # Predict labels of test data using the trained classifier\n",
    "c_matrix = confusion_matrix(y_val, pred_test) \n",
    "rf_accuracy = accuracy_score(y_val, pred_test)\n",
    "print(\"Accuracy of random forest VALIDATION: {:.2f}\".format(rf_accuracy))\n",
    "print(\"\\nClassification report:\")\n",
    "print(classification_report(y_val, pred_test))\n",
    "\n",
    "fig, ax = plt.subplots(1, figsize=(4, 4))\n",
    "ax.set_title(\"Confusion matrix\")\n",
    "sns.heatmap(c_matrix, cmap='Blues', annot=True, fmt='g', cbar=False)\n",
    "ax.set_xlabel('predictions')\n",
    "ax.set_ylabel('true labels')"
   ]
  },
  {
   "cell_type": "code",
   "execution_count": 52,
   "metadata": {},
   "outputs": [
    {
     "data": {
      "text/plain": [
       "<bound method BaseEstimator.get_params of RandomForestClassifier(bootstrap=True, class_weight=None, criterion='gini',\n",
       "            max_depth=None, max_features='auto', max_leaf_nodes=None,\n",
       "            min_impurity_decrease=0.0, min_impurity_split=None,\n",
       "            min_samples_leaf=19, min_samples_split=64,\n",
       "            min_weight_fraction_leaf=0.02550492908746793,\n",
       "            n_estimators=13421, n_jobs=10, oob_score=False,\n",
       "            random_state=None, verbose=0, warm_start=False)>"
      ]
     },
     "execution_count": 52,
     "metadata": {},
     "output_type": "execute_result"
    }
   ],
   "source": [
    "model.get_params"
   ]
  },
  {
   "cell_type": "code",
   "execution_count": 10,
   "metadata": {},
   "outputs": [],
   "source": [
    "model_dir_path = 'models'\n",
    "model_filename = \"{:s}/{}_random_forest_model_acc-{:2.3f}_{:s}.model\".format(\n",
    "    model_dir_path, 'yahoo_data', rf_accuracy, strftime(\"%Y_%m_%d_%H_%M_%S\", localtime())\n",
    ")\n",
    "pickle.dump(model, open(model_filename, 'wb'))"
   ]
  },
  {
   "cell_type": "code",
   "execution_count": null,
   "metadata": {},
   "outputs": [],
   "source": []
  }
 ],
 "metadata": {
  "kernelspec": {
   "display_name": "Python 3",
   "language": "python",
   "name": "python3"
  },
  "language_info": {
   "codemirror_mode": {
    "name": "ipython",
    "version": 3
   },
   "file_extension": ".py",
   "mimetype": "text/x-python",
   "name": "python",
   "nbconvert_exporter": "python",
   "pygments_lexer": "ipython3",
   "version": "3.6.8"
  },
  "varInspector": {
   "cols": {
    "lenName": 16,
    "lenType": 16,
    "lenVar": 40
   },
   "kernels_config": {
    "python": {
     "delete_cmd_postfix": "",
     "delete_cmd_prefix": "del ",
     "library": "var_list.py",
     "varRefreshCmd": "print(var_dic_list())"
    },
    "r": {
     "delete_cmd_postfix": ") ",
     "delete_cmd_prefix": "rm(",
     "library": "var_list.r",
     "varRefreshCmd": "cat(var_dic_list()) "
    }
   },
   "types_to_exclude": [
    "module",
    "function",
    "builtin_function_or_method",
    "instance",
    "_Feature"
   ],
   "window_display": true
  }
 },
 "nbformat": 4,
 "nbformat_minor": 2
}
