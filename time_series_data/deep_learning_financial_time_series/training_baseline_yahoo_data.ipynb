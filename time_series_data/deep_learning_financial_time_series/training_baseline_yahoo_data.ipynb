{
 "cells": [
  {
   "cell_type": "code",
   "execution_count": 1,
   "metadata": {
    "scrolled": true
   },
   "outputs": [
    {
     "name": "stdout",
     "output_type": "stream",
     "text": [
      "Warning: the binary library cannot be imported. You cannot train maps, but you can load and analyze ones that you have already saved.\n",
      "The problem occurs because either compilation failed when you installed Somoclu or a path is missing from the dependencies when you are trying to import it. Please refer to the documentation to see your options.\n"
     ]
    }
   ],
   "source": [
    "from PipelineResources import * # This is where we have all of the resources that will be used in the project. "
   ]
  },
  {
   "cell_type": "code",
   "execution_count": 2,
   "metadata": {},
   "outputs": [],
   "source": [
    "nasdaq = pd.read_pickle('nasdaq_qqq_yahoo.pckl')"
   ]
  },
  {
   "cell_type": "markdown",
   "metadata": {},
   "source": [
    "## Prepare training, validation and test sets"
   ]
  },
  {
   "cell_type": "markdown",
   "metadata": {},
   "source": [
    "### First Test: Use a Random Forest Model to predict whether or not the next day will close above 1.5 %. \n",
    "The goal behind this exercise is to establish a baseline model and performance. In addition, it is also work out the way the data will be stored. "
   ]
  },
  {
   "cell_type": "code",
   "execution_count": 3,
   "metadata": {},
   "outputs": [
    {
     "name": "stdout",
     "output_type": "stream",
     "text": [
      " Sample size is: 4780\n"
     ]
    }
   ],
   "source": [
    "number_of_samples = nasdaq.index.size\n",
    "print(\" Sample size is: {}\".format(number_of_samples))"
   ]
  },
  {
   "cell_type": "code",
   "execution_count": 4,
   "metadata": {},
   "outputs": [
    {
     "data": {
      "text/plain": [
       "Index(['Date', 'Open', 'High', 'Low', 'Close', 'Adj Close', 'Volume',\n",
       "       'open_change', 'open_change_pct', 'next_day_open_change',\n",
       "       'next_day_open_change_pct', 'open_change_wrt_close',\n",
       "       'open_change_wrt_close_pct', 'open_change_wrt_high',\n",
       "       'open_change_wrt_low', 'open_change_wrt_volume',\n",
       "       'next_day_open_change_wrt_close', 'next_day_open_change_wrt_close_pct',\n",
       "       'next_day_open_change_wrt_high', 'next_day_open_change_wrt_low',\n",
       "       'next_day_open_change_wrt_volume', 'close_change_pct', 'close_change',\n",
       "       'high_change_pct', 'high_change', 'low_change_pct', 'low_change',\n",
       "       'volume_change_pct', 'volume_change', 'high_low_range',\n",
       "       'high_low_range_with_ref_open', 'high_low_range_with_ref_open_pct',\n",
       "       'high_low_range_with_ref_close', 'high_low_range_with_ref_close_pct',\n",
       "       'gt_1', 'gt_1.5', 'gt_2.5'],\n",
       "      dtype='object')"
      ]
     },
     "execution_count": 4,
     "metadata": {},
     "output_type": "execute_result"
    }
   ],
   "source": [
    "nasdaq.columns"
   ]
  },
  {
   "cell_type": "code",
   "execution_count": 29,
   "metadata": {},
   "outputs": [
    {
     "name": "stdout",
     "output_type": "stream",
     "text": [
      "number of days per samples: 1\n",
      "(4776,)\n",
      "[0 1 0 0 0 1 1 0 0 1 0 0 0 0 0 0 0 0 0 0]\n",
      "[0 0 0 1 1 0 0 1 0 0 0 0 0 0 0 0 0 0 1 1]\n",
      "(4776, 13)\n",
      "(3582, 13)\n"
     ]
    }
   ],
   "source": [
    "chosen_label = 'gt_2.5'\n",
    "random_state = 1\n",
    "x_train, x_val, x_test, y_train, y_val, y_test = get_input_sets(nasdaq, chosen_features, chosen_label, x_test=False,\n",
    "                                                               number_of_days_per_sample=1)\n",
    "print(x_train.shape)"
   ]
  },
  {
   "cell_type": "code",
   "execution_count": 30,
   "metadata": {},
   "outputs": [
    {
     "name": "stdout",
     "output_type": "stream",
     "text": [
      "1130\n",
      "960\n",
      "(234,)\n",
      "(234, 13)\n",
      "3400\n",
      "2890\n",
      "(692,)\n",
      "(692, 13)\n"
     ]
    }
   ],
   "source": [
    "x_val, y_val = decrease_class_rows(x_val, y_val, class_number=0, percentage_cut=0.85)\n",
    "x_train, y_train = decrease_class_rows(x_train, y_train, class_number=0, percentage_cut=0.85)\n"
   ]
  },
  {
   "cell_type": "markdown",
   "metadata": {},
   "source": [
    "### Checking how the classes differ from one another"
   ]
  },
  {
   "cell_type": "markdown",
   "metadata": {},
   "source": [
    "### Apply FFT on the training and validation sets"
   ]
  },
  {
   "cell_type": "code",
   "execution_count": 26,
   "metadata": {},
   "outputs": [
    {
     "name": "stdout",
     "output_type": "stream",
     "text": [
      "(692, 19)\n"
     ]
    }
   ],
   "source": [
    "z_train = []\n",
    "z_val = []\n",
    "for row_index in range(x_train.shape[0]):\n",
    "    z_train.append(get_fft(x_train[row_index], absolute_value=True))\n",
    "for row_index in range(x_val.shape[0]):\n",
    "    z_val.append(get_fft(x_val[row_index], absolute_value=True))\n",
    "z_train = np.array(z_train, dtype=np.float)\n",
    "z_val = np.array(z_val, dtype=np.float)\n",
    "x_train = np.concatenate((x_train, z_train), axis=1)\n",
    "x_val = np.concatenate((x_val, z_val), axis=1)\n",
    "print(x_train.shape)"
   ]
  },
  {
   "cell_type": "code",
   "execution_count": 27,
   "metadata": {},
   "outputs": [],
   "source": [
    "from sklearn.naive_bayes import GaussianNB"
   ]
  },
  {
   "cell_type": "code",
   "execution_count": 31,
   "metadata": {},
   "outputs": [
    {
     "name": "stdout",
     "output_type": "stream",
     "text": [
      "cv scores: [0.81294964 0.74100719 0.8115942  0.84782609 0.78985507]\n",
      "avg score: 0.800646439370243, std score: 0.03512957325194948, min: 0.7410071942446043, max: 0.8478260869565217\n",
      "Accuracy of random forest TRAINING: 0.80\n",
      "\n",
      "Classification report:\n",
      "             precision    recall  f1-score   support\n",
      "\n",
      "          0       0.86      0.88      0.87       510\n",
      "          1       0.64      0.58      0.61       182\n",
      "\n",
      "avg / total       0.80      0.80      0.80       692\n",
      "\n",
      "Accuracy of random forest VALIDATION: 0.83\n",
      "\n",
      "Classification report:\n",
      "             precision    recall  f1-score   support\n",
      "\n",
      "          0       0.87      0.91      0.89       170\n",
      "          1       0.73      0.62      0.67        64\n",
      "\n",
      "avg / total       0.83      0.83      0.83       234\n",
      "\n"
     ]
    },
    {
     "data": {
      "text/plain": [
       "Text(15,0.5,'true labels')"
      ]
     },
     "execution_count": 31,
     "metadata": {},
     "output_type": "execute_result"
    },
    {
     "data": {
      "image/png": "[encoded data removed]",
      "text/plain": [
       "<Figure size 288x288 with 1 Axes>"
      ]
     },
     "metadata": {},
     "output_type": "display_data"
    },
    {
     "data": {
      "image/png": "[encoded data removed]",
      "text/plain": [
       "<Figure size 288x288 with 1 Axes>"
      ]
     },
     "metadata": {},
     "output_type": "display_data"
    }
   ],
   "source": [
    "model = GaussianNB()\n",
    "\n",
    "scores = cross_validate(model, x_train, y_train, cv=5, n_jobs=10)\n",
    "print(\"cv scores: {}\".format(scores['test_score']))\n",
    "print(\"avg score: {}, std score: {}, min: {}, max: {}\".format(np.mean(scores['test_score']), np.std(scores['test_score']), \n",
    "                                                             np.min(scores['test_score']), np.max(scores['test_score'])))\n",
    "\n",
    "model.fit(x_train, y_train)\n",
    "\n",
    "pred_test = model.predict(x_train)  # Predict labels of test data using the trained classifier\n",
    "c_matrix = confusion_matrix(y_train, pred_test) \n",
    "\n",
    "rf_accuracy = accuracy_score(y_train, pred_test)\n",
    "print(\"Accuracy of random forest TRAINING: {:.2f}\".format(rf_accuracy))\n",
    "print(\"\\nClassification report:\")\n",
    "print(classification_report(y_train, pred_test))\n",
    "\n",
    "fig, ax = plt.subplots(1, figsize=(4, 4))\n",
    "ax.set_title(\"Confusion matrix\")\n",
    "sns.heatmap(c_matrix, cmap='Blues', annot=True, fmt='g', cbar=False)\n",
    "ax.set_xlabel('predictions')\n",
    "ax.set_ylabel('true labels')\n",
    "\n",
    "pred_test = model.predict(x_val)  # Predict labels of test data using the trained classifier\n",
    "c_matrix = confusion_matrix(y_val, pred_test) \n",
    "rf_accuracy = accuracy_score(y_val, pred_test)\n",
    "print(\"Accuracy of random forest VALIDATION: {:.2f}\".format(rf_accuracy))\n",
    "print(\"\\nClassification report:\")\n",
    "print(classification_report(y_val, pred_test))\n",
    "\n",
    "fig, ax = plt.subplots(1, figsize=(4, 4))\n",
    "ax.set_title(\"Confusion matrix\")\n",
    "sns.heatmap(c_matrix, cmap='Blues', annot=True, fmt='g', cbar=False)\n",
    "ax.set_xlabel('predictions')\n",
    "ax.set_ylabel('true labels')"
   ]
  },
  {
   "cell_type": "code",
   "execution_count": 41,
   "metadata": {},
   "outputs": [],
   "source": [
    "original_model = deepcopy(model)"
   ]
  },
  {
   "cell_type": "code",
   "execution_count": 42,
   "metadata": {},
   "outputs": [],
   "source": [
    "model = deepcopy(original_model)"
   ]
  },
  {
   "cell_type": "code",
   "execution_count": 21,
   "metadata": {},
   "outputs": [
    {
     "data": {
      "text/plain": [
       "array([0.651341, 0.348659])"
      ]
     },
     "execution_count": 21,
     "metadata": {},
     "output_type": "execute_result"
    }
   ],
   "source": [
    "model.class_prior_"
   ]
  },
  {
   "cell_type": "code",
   "execution_count": 20,
   "metadata": {
    "scrolled": false
   },
   "outputs": [
    {
     "ename": "AttributeError",
     "evalue": "'GaussianNB' object has no attribute 'feature_importances_'",
     "output_type": "error",
     "traceback": [
      "\u001b[0;31m-------------------------------------------------\u001b[0m",
      "\u001b[0;31mAttributeError\u001b[0m  Traceback (most recent call last)",
      "\u001b[0;32m<ipython-input-20-b367482bb17c>\u001b[0m in \u001b[0;36m<module>\u001b[0;34m()\u001b[0m\n\u001b[0;32m----> 1\u001b[0;31m \u001b[0;32mfor\u001b[0m \u001b[0mfeature\u001b[0m\u001b[0;34m,\u001b[0m \u001b[0mimportance\u001b[0m \u001b[0;32min\u001b[0m \u001b[0mzip\u001b[0m\u001b[0;34m(\u001b[0m\u001b[0mchosen_features\u001b[0m\u001b[0;34m,\u001b[0m \u001b[0mmodel\u001b[0m\u001b[0;34m.\u001b[0m\u001b[0mfeature_importances_\u001b[0m\u001b[0;34m)\u001b[0m\u001b[0;34m:\u001b[0m\u001b[0;34m\u001b[0m\u001b[0;34m\u001b[0m\u001b[0m\n\u001b[0m\u001b[1;32m      2\u001b[0m     \u001b[0mprint\u001b[0m\u001b[0;34m(\u001b[0m\u001b[0;34m\"feature name: {}, importance : {}\"\u001b[0m\u001b[0;34m.\u001b[0m\u001b[0mformat\u001b[0m\u001b[0;34m(\u001b[0m\u001b[0mfeature\u001b[0m\u001b[0;34m,\u001b[0m \u001b[0mimportance\u001b[0m\u001b[0;34m)\u001b[0m\u001b[0;34m)\u001b[0m\u001b[0;34m\u001b[0m\u001b[0;34m\u001b[0m\u001b[0m\n\u001b[1;32m      3\u001b[0m \u001b[0mplt\u001b[0m\u001b[0;34m.\u001b[0m\u001b[0mfigure\u001b[0m\u001b[0;34m(\u001b[0m \u001b[0mfigsize\u001b[0m\u001b[0;34m=\u001b[0m\u001b[0;34m(\u001b[0m\u001b[0;36m30\u001b[0m\u001b[0;34m,\u001b[0m \u001b[0;36m10\u001b[0m\u001b[0;34m)\u001b[0m\u001b[0;34m,\u001b[0m \u001b[0mdpi\u001b[0m\u001b[0;34m=\u001b[0m\u001b[0;36m80\u001b[0m\u001b[0;34m)\u001b[0m\u001b[0;34m\u001b[0m\u001b[0;34m\u001b[0m\u001b[0m\n\u001b[1;32m      4\u001b[0m \u001b[0mplt\u001b[0m\u001b[0;34m.\u001b[0m\u001b[0mtitle\u001b[0m\u001b[0;34m(\u001b[0m\u001b[0;34m\"Plotting feature importance\"\u001b[0m\u001b[0;34m)\u001b[0m\u001b[0;34m\u001b[0m\u001b[0;34m\u001b[0m\u001b[0m\n\u001b[1;32m      5\u001b[0m \u001b[0mplt\u001b[0m\u001b[0;34m.\u001b[0m\u001b[0mylabel\u001b[0m\u001b[0;34m(\u001b[0m\u001b[0;34m\"importance level\"\u001b[0m\u001b[0;34m)\u001b[0m\u001b[0;34m\u001b[0m\u001b[0;34m\u001b[0m\u001b[0m\n",
      "\u001b[0;31mAttributeError\u001b[0m: 'GaussianNB' object has no attribute 'feature_importances_'"
     ]
    }
   ],
   "source": [
    "for feature, importance in zip(chosen_features, model.feature_importances_):\n",
    "    print(\"feature name: {}, importance : {}\".format(feature, importance))\n",
    "plt.figure( figsize=(30, 10), dpi=80)\n",
    "plt.title(\"Plotting feature importance\")\n",
    "plt.ylabel(\"importance level\")\n",
    "plt.xlabel(\"feature indexes\")\n",
    "#plt.bar(np.append(chosen_features, np.arange(0,6)), model.feature_importances_)\n",
    "plt.bar(np.arange(0, len(model.feature_importances_)), model.feature_importances_)\n",
    "plt.show()"
   ]
  },
  {
   "cell_type": "markdown",
   "metadata": {},
   "source": [
    "## Hyperparameter Optimization for RF"
   ]
  },
  {
   "cell_type": "code",
   "execution_count": 51,
   "metadata": {
    "scrolled": true
   },
   "outputs": [
    {
     "name": "stdout",
     "output_type": "stream",
     "text": [
      "Accuracy of random forest TRAINING: 0.84\n",
      "\n",
      "Classification report:\n",
      "             precision    recall  f1-score   support\n",
      "\n",
      "          0       0.86      0.96      0.91      3156\n",
      "          1       0.74      0.40      0.52       852\n",
      "\n",
      "avg / total       0.83      0.84      0.82      4008\n",
      "\n",
      "Accuracy of random forest VALIDATION: 0.90\n",
      "\n",
      "Classification report:\n",
      "             precision    recall  f1-score   support\n",
      "\n",
      "          0       0.92      0.97      0.94      1056\n",
      "          1       0.60      0.38      0.46       138\n",
      "\n",
      "avg / total       0.88      0.90      0.89      1194\n",
      "\n"
     ]
    },
    {
     "data": {
      "text/plain": [
       "Text(15,0.5,'true labels')"
      ]
     },
     "execution_count": 51,
     "metadata": {},
     "output_type": "execute_result"
    },
    {
     "data": {
      "image/png": "[encoded data removed]",
      "text/plain": [
       "<Figure size 288x288 with 1 Axes>"
      ]
     },
     "metadata": {},
     "output_type": "display_data"
    },
    {
     "data": {
      "image/png": "[encoded data removed]",
      "text/plain": [
       "<Figure size 288x288 with 1 Axes>"
      ]
     },
     "metadata": {},
     "output_type": "display_data"
    }
   ],
   "source": [
    "# This is where we attempt to find optimum parameters for the classfier by producing a random search through a grid\n",
    "# In order to limi computation time, we only visit 10 options. \n",
    "M = 50\n",
    "max_depth = np.array(np.random.uniform(1, 200, M), dtype=int)\n",
    "min_samples_split = np.array(np.random.uniform(2, 72, M), dtype=int)\n",
    "a = int(x_train.shape[0] / 10)\n",
    "b = int(x_train.shape[0] / 0.1)\n",
    "n_estimators = np.array(np.random.uniform(a, b, M), dtype=int)\n",
    "min_weight_fraction_leaf= np.random.uniform(0.0, 0.5, M)\n",
    "min_samples_leaf = np.array(np.random.uniform(2, 50, M), dtype=int)\n",
    "parameters = {'n_estimators': n_estimators,\n",
    "             #'max_depth': max_depth, \n",
    "             #'min_samples_split': min_samples_split,\n",
    "             #'min_weight_fraction_leaf': min_weight_fraction_leaf, \n",
    "             #'min_samples_leaf': min_samples_leaf\n",
    "             }\n",
    "\n",
    "model_test = RandomForestClassifier(bootstrap=True, class_weight=None, criterion='gini',\n",
    "            max_depth=None, max_features='auto', max_leaf_nodes=None,\n",
    "            min_impurity_decrease=0.0, min_impurity_split=None,\n",
    "            min_samples_leaf=19, min_samples_split=64,\n",
    "            min_weight_fraction_leaf=0.02550492908746793,\n",
    "            n_estimators=13421, n_jobs=10,\n",
    "            oob_score=False, random_state=None, verbose=0,\n",
    "            warm_start=False)\n",
    "#clf = GridSearchCV(model_test, parameters, n_jobs=40)\n",
    "clf = RandomizedSearchCV(model_test, parameters, refit=True, \n",
    "                        n_iter=20, n_jobs=40,\n",
    "                       cv=3, scoring='f1')\n",
    "clf.fit(x_train, y_train)\n",
    "model = clf.best_estimator_\n",
    "pred_test = model.predict(x_train)  # Predict labels of test data using the trained classifier\n",
    "c_matrix = confusion_matrix(y_train, pred_test) \n",
    "\n",
    "rf_accuracy = accuracy_score(y_train, pred_test)\n",
    "print(\"Accuracy of random forest TRAINING: {:.2f}\".format(rf_accuracy))\n",
    "print(\"\\nClassification report:\")\n",
    "print(classification_report(y_train, pred_test))\n",
    "\n",
    "fig, ax = plt.subplots(1, figsize=(4, 4))\n",
    "ax.set_title(\"Confusion matrix\")\n",
    "sns.heatmap(c_matrix, cmap='Blues', annot=True, fmt='g', cbar=False)\n",
    "ax.set_xlabel('predictions')\n",
    "ax.set_ylabel('true labels')\n",
    "\n",
    "pred_test = model.predict(x_val)  # Predict labels of test data using the trained classifier\n",
    "c_matrix = confusion_matrix(y_val, pred_test) \n",
    "rf_accuracy = accuracy_score(y_val, pred_test)\n",
    "print(\"Accuracy of random forest VALIDATION: {:.2f}\".format(rf_accuracy))\n",
    "print(\"\\nClassification report:\")\n",
    "print(classification_report(y_val, pred_test))\n",
    "\n",
    "fig, ax = plt.subplots(1, figsize=(4, 4))\n",
    "ax.set_title(\"Confusion matrix\")\n",
    "sns.heatmap(c_matrix, cmap='Blues', annot=True, fmt='g', cbar=False)\n",
    "ax.set_xlabel('predictions')\n",
    "ax.set_ylabel('true labels')"
   ]
  },
  {
   "cell_type": "code",
   "execution_count": 52,
   "metadata": {},
   "outputs": [
    {
     "data": {
      "text/plain": [
       "<bound method BaseEstimator.get_params of RandomForestClassifier(bootstrap=True, class_weight=None, criterion='gini',\n",
       "            max_depth=None, max_features='auto', max_leaf_nodes=None,\n",
       "            min_impurity_decrease=0.0, min_impurity_split=None,\n",
       "            min_samples_leaf=19, min_samples_split=64,\n",
       "            min_weight_fraction_leaf=0.02550492908746793,\n",
       "            n_estimators=13421, n_jobs=10, oob_score=False,\n",
       "            random_state=None, verbose=0, warm_start=False)>"
      ]
     },
     "execution_count": 52,
     "metadata": {},
     "output_type": "execute_result"
    }
   ],
   "source": [
    "model.get_params"
   ]
  },
  {
   "cell_type": "code",
   "execution_count": 151,
   "metadata": {},
   "outputs": [],
   "source": [
    "model_dir_path = 'models'\n",
    "model_filename = \"{:s}/{}_random_forest_model_acc-{:2.3f}_{:s}.model\".format(\n",
    "    model_dir_path, 'yahoo_data', rf_accuracy, strftime(\"%Y_%m_%d_%H_%M_%S\", localtime())\n",
    ")\n",
    "pickle.dump(model, open(model_filename, 'wb'))"
   ]
  },
  {
   "cell_type": "code",
   "execution_count": null,
   "metadata": {},
   "outputs": [],
   "source": []
  }
 ],
 "metadata": {
  "kernelspec": {
   "display_name": "Python 3",
   "language": "python",
   "name": "python3"
  },
  "language_info": {
   "codemirror_mode": {
    "name": "ipython",
    "version": 3
   },
   "file_extension": ".py",
   "mimetype": "text/x-python",
   "name": "python",
   "nbconvert_exporter": "python",
   "pygments_lexer": "ipython3",
   "version": "3.6.9"
  },
  "varInspector": {
   "cols": {
    "lenName": 16,
    "lenType": 16,
    "lenVar": 40
   },
   "kernels_config": {
    "python": {
     "delete_cmd_postfix": "",
     "delete_cmd_prefix": "del ",
     "library": "var_list.py",
     "varRefreshCmd": "print(var_dic_list())"
    },
    "r": {
     "delete_cmd_postfix": ") ",
     "delete_cmd_prefix": "rm(",
     "library": "var_list.r",
     "varRefreshCmd": "cat(var_dic_list()) "
    }
   },
   "types_to_exclude": [
    "module",
    "function",
    "builtin_function_or_method",
    "instance",
    "_Feature"
   ],
   "window_display": true
  }
 },
 "nbformat": 4,
 "nbformat_minor": 2
}
